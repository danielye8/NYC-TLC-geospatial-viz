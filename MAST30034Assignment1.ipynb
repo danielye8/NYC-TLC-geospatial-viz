{
 "cells": [
  {
   "cell_type": "markdown",
   "metadata": {
    "id": "A19p9aS56R6X"
   },
   "source": [
    "# Import libraries"
   ]
  },
  {
   "cell_type": "code",
   "execution_count": null,
   "metadata": {
    "id": "NSTP_Hc26R6b",
    "scrolled": true
   },
   "outputs": [],
   "source": [
    "from datetime import datetime"
   ]
  },
  {
   "cell_type": "code",
   "execution_count": null,
   "metadata": {
    "id": "0QzNvtK36R6m",
    "outputId": "a8aedc09-e7a5-43ad-9048-bf607542672c",
    "scrolled": true
   },
   "outputs": [
    {
     "name": "stderr",
     "output_type": "stream",
     "text": [
      "/usr/local/lib/python3.6/dist-packages/geopandas/_compat.py:88: UserWarning: The Shapely GEOS version (3.8.0-CAPI-1.13.1 ) is incompatible with the GEOS version PyGEOS was compiled with (3.8.1-CAPI-1.13.3). Conversions between both will be slow.\n",
      "  shapely_geos_version, geos_capi_version_string\n"
     ]
    }
   ],
   "source": [
    "import numpy as np\n",
    "from numpy import log\n",
    "\n",
    "import pandas as pd\n",
    "from pandas.api.types import CategoricalDtype, is_numeric_dtype\n",
    "\n",
    "import geopandas as gpd\n",
    "\n",
    "from sklearn import preprocessing"
   ]
  },
  {
   "cell_type": "code",
   "execution_count": null,
   "metadata": {
    "id": "LkB0uim86R6v",
    "outputId": "605d2aa4-2a81-4ef0-b183-7b774c26bce7",
    "scrolled": true
   },
   "outputs": [
    {
     "name": "stdout",
     "output_type": "stream",
     "text": [
      "Using matplotlib backend: agg\n"
     ]
    },
    {
     "data": {
      "text/html": [
       "\n",
       "    <div class=\"bk-root\">\n",
       "        <a href=\"https://bokeh.org\" target=\"_blank\" class=\"bk-logo bk-logo-small bk-logo-notebook\"></a>\n",
       "        <span id=\"1001\">Loading BokehJS ...</span>\n",
       "    </div>"
      ]
     },
     "metadata": {
      "tags": []
     },
     "output_type": "display_data"
    },
    {
     "data": {
      "application/javascript": [
       "\n",
       "(function(root) {\n",
       "  function now() {\n",
       "    return new Date();\n",
       "  }\n",
       "\n",
       "  var force = true;\n",
       "\n",
       "  if (typeof root._bokeh_onload_callbacks === \"undefined\" || force === true) {\n",
       "    root._bokeh_onload_callbacks = [];\n",
       "    root._bokeh_is_loading = undefined;\n",
       "  }\n",
       "\n",
       "  var JS_MIME_TYPE = 'application/javascript';\n",
       "  var HTML_MIME_TYPE = 'text/html';\n",
       "  var EXEC_MIME_TYPE = 'application/vnd.bokehjs_exec.v0+json';\n",
       "  var CLASS_NAME = 'output_bokeh rendered_html';\n",
       "\n",
       "  /**\n",
       "   * Render data to the DOM node\n",
       "   */\n",
       "  function render(props, node) {\n",
       "    var script = document.createElement(\"script\");\n",
       "    node.appendChild(script);\n",
       "  }\n",
       "\n",
       "  /**\n",
       "   * Handle when an output is cleared or removed\n",
       "   */\n",
       "  function handleClearOutput(event, handle) {\n",
       "    var cell = handle.cell;\n",
       "\n",
       "    var id = cell.output_area._bokeh_element_id;\n",
       "    var server_id = cell.output_area._bokeh_server_id;\n",
       "    // Clean up Bokeh references\n",
       "    if (id != null && id in Bokeh.index) {\n",
       "      Bokeh.index[id].model.document.clear();\n",
       "      delete Bokeh.index[id];\n",
       "    }\n",
       "\n",
       "    if (server_id !== undefined) {\n",
       "      // Clean up Bokeh references\n",
       "      var cmd = \"from bokeh.io.state import curstate; print(curstate().uuid_to_server['\" + server_id + \"'].get_sessions()[0].document.roots[0]._id)\";\n",
       "      cell.notebook.kernel.execute(cmd, {\n",
       "        iopub: {\n",
       "          output: function(msg) {\n",
       "            var id = msg.content.text.trim();\n",
       "            if (id in Bokeh.index) {\n",
       "              Bokeh.index[id].model.document.clear();\n",
       "              delete Bokeh.index[id];\n",
       "            }\n",
       "          }\n",
       "        }\n",
       "      });\n",
       "      // Destroy server and session\n",
       "      var cmd = \"import bokeh.io.notebook as ion; ion.destroy_server('\" + server_id + \"')\";\n",
       "      cell.notebook.kernel.execute(cmd);\n",
       "    }\n",
       "  }\n",
       "\n",
       "  /**\n",
       "   * Handle when a new output is added\n",
       "   */\n",
       "  function handleAddOutput(event, handle) {\n",
       "    var output_area = handle.output_area;\n",
       "    var output = handle.output;\n",
       "\n",
       "    // limit handleAddOutput to display_data with EXEC_MIME_TYPE content only\n",
       "    if ((output.output_type != \"display_data\") || (!output.data.hasOwnProperty(EXEC_MIME_TYPE))) {\n",
       "      return\n",
       "    }\n",
       "\n",
       "    var toinsert = output_area.element.find(\".\" + CLASS_NAME.split(' ')[0]);\n",
       "\n",
       "    if (output.metadata[EXEC_MIME_TYPE][\"id\"] !== undefined) {\n",
       "      toinsert[toinsert.length - 1].firstChild.textContent = output.data[JS_MIME_TYPE];\n",
       "      // store reference to embed id on output_area\n",
       "      output_area._bokeh_element_id = output.metadata[EXEC_MIME_TYPE][\"id\"];\n",
       "    }\n",
       "    if (output.metadata[EXEC_MIME_TYPE][\"server_id\"] !== undefined) {\n",
       "      var bk_div = document.createElement(\"div\");\n",
       "      bk_div.innerHTML = output.data[HTML_MIME_TYPE];\n",
       "      var script_attrs = bk_div.children[0].attributes;\n",
       "      for (var i = 0; i < script_attrs.length; i++) {\n",
       "        toinsert[toinsert.length - 1].firstChild.setAttribute(script_attrs[i].name, script_attrs[i].value);\n",
       "      }\n",
       "      // store reference to server id on output_area\n",
       "      output_area._bokeh_server_id = output.metadata[EXEC_MIME_TYPE][\"server_id\"];\n",
       "    }\n",
       "  }\n",
       "\n",
       "  function register_renderer(events, OutputArea) {\n",
       "\n",
       "    function append_mime(data, metadata, element) {\n",
       "      // create a DOM node to render to\n",
       "      var toinsert = this.create_output_subarea(\n",
       "        metadata,\n",
       "        CLASS_NAME,\n",
       "        EXEC_MIME_TYPE\n",
       "      );\n",
       "      this.keyboard_manager.register_events(toinsert);\n",
       "      // Render to node\n",
       "      var props = {data: data, metadata: metadata[EXEC_MIME_TYPE]};\n",
       "      render(props, toinsert[toinsert.length - 1]);\n",
       "      element.append(toinsert);\n",
       "      return toinsert\n",
       "    }\n",
       "\n",
       "    /* Handle when an output is cleared or removed */\n",
       "    events.on('clear_output.CodeCell', handleClearOutput);\n",
       "    events.on('delete.Cell', handleClearOutput);\n",
       "\n",
       "    /* Handle when a new output is added */\n",
       "    events.on('output_added.OutputArea', handleAddOutput);\n",
       "\n",
       "    /**\n",
       "     * Register the mime type and append_mime function with output_area\n",
       "     */\n",
       "    OutputArea.prototype.register_mime_type(EXEC_MIME_TYPE, append_mime, {\n",
       "      /* Is output safe? */\n",
       "      safe: true,\n",
       "      /* Index of renderer in `output_area.display_order` */\n",
       "      index: 0\n",
       "    });\n",
       "  }\n",
       "\n",
       "  // register the mime type if in Jupyter Notebook environment and previously unregistered\n",
       "  if (root.Jupyter !== undefined) {\n",
       "    var events = require('base/js/events');\n",
       "    var OutputArea = require('notebook/js/outputarea').OutputArea;\n",
       "\n",
       "    if (OutputArea.prototype.mime_types().indexOf(EXEC_MIME_TYPE) == -1) {\n",
       "      register_renderer(events, OutputArea);\n",
       "    }\n",
       "  }\n",
       "\n",
       "  \n",
       "  if (typeof (root._bokeh_timeout) === \"undefined\" || force === true) {\n",
       "    root._bokeh_timeout = Date.now() + 5000;\n",
       "    root._bokeh_failed_load = false;\n",
       "  }\n",
       "\n",
       "  var NB_LOAD_WARNING = {'data': {'text/html':\n",
       "     \"<div style='background-color: #fdd'>\\n\"+\n",
       "     \"<p>\\n\"+\n",
       "     \"BokehJS does not appear to have successfully loaded. If loading BokehJS from CDN, this \\n\"+\n",
       "     \"may be due to a slow or bad network connection. Possible fixes:\\n\"+\n",
       "     \"</p>\\n\"+\n",
       "     \"<ul>\\n\"+\n",
       "     \"<li>re-rerun `output_notebook()` to attempt to load from CDN again, or</li>\\n\"+\n",
       "     \"<li>use INLINE resources instead, as so:</li>\\n\"+\n",
       "     \"</ul>\\n\"+\n",
       "     \"<code>\\n\"+\n",
       "     \"from bokeh.resources import INLINE\\n\"+\n",
       "     \"output_notebook(resources=INLINE)\\n\"+\n",
       "     \"</code>\\n\"+\n",
       "     \"</div>\"}};\n",
       "\n",
       "  function display_loaded() {\n",
       "    var el = document.getElementById(\"1001\");\n",
       "    if (el != null) {\n",
       "      el.textContent = \"BokehJS is loading...\";\n",
       "    }\n",
       "    if (root.Bokeh !== undefined) {\n",
       "      if (el != null) {\n",
       "        el.textContent = \"BokehJS \" + root.Bokeh.version + \" successfully loaded.\";\n",
       "      }\n",
       "    } else if (Date.now() < root._bokeh_timeout) {\n",
       "      setTimeout(display_loaded, 100)\n",
       "    }\n",
       "  }\n",
       "\n",
       "\n",
       "  function run_callbacks() {\n",
       "    try {\n",
       "      root._bokeh_onload_callbacks.forEach(function(callback) {\n",
       "        if (callback != null)\n",
       "          callback();\n",
       "      });\n",
       "    } finally {\n",
       "      delete root._bokeh_onload_callbacks\n",
       "    }\n",
       "    console.debug(\"Bokeh: all callbacks have finished\");\n",
       "  }\n",
       "\n",
       "  function load_libs(css_urls, js_urls, callback) {\n",
       "    if (css_urls == null) css_urls = [];\n",
       "    if (js_urls == null) js_urls = [];\n",
       "\n",
       "    root._bokeh_onload_callbacks.push(callback);\n",
       "    if (root._bokeh_is_loading > 0) {\n",
       "      console.debug(\"Bokeh: BokehJS is being loaded, scheduling callback at\", now());\n",
       "      return null;\n",
       "    }\n",
       "    if (js_urls == null || js_urls.length === 0) {\n",
       "      run_callbacks();\n",
       "      return null;\n",
       "    }\n",
       "    console.debug(\"Bokeh: BokehJS not loaded, scheduling load and callback at\", now());\n",
       "    root._bokeh_is_loading = css_urls.length + js_urls.length;\n",
       "\n",
       "    function on_load() {\n",
       "      root._bokeh_is_loading--;\n",
       "      if (root._bokeh_is_loading === 0) {\n",
       "        console.debug(\"Bokeh: all BokehJS libraries/stylesheets loaded\");\n",
       "        run_callbacks()\n",
       "      }\n",
       "    }\n",
       "\n",
       "    function on_error() {\n",
       "      console.error(\"failed to load \" + url);\n",
       "    }\n",
       "\n",
       "    for (var i = 0; i < css_urls.length; i++) {\n",
       "      var url = css_urls[i];\n",
       "      const element = document.createElement(\"link\");\n",
       "      element.onload = on_load;\n",
       "      element.onerror = on_error;\n",
       "      element.rel = \"stylesheet\";\n",
       "      element.type = \"text/css\";\n",
       "      element.href = url;\n",
       "      console.debug(\"Bokeh: injecting link tag for BokehJS stylesheet: \", url);\n",
       "      document.body.appendChild(element);\n",
       "    }\n",
       "\n",
       "    for (var i = 0; i < js_urls.length; i++) {\n",
       "      var url = js_urls[i];\n",
       "      var element = document.createElement('script');\n",
       "      element.onload = on_load;\n",
       "      element.onerror = on_error;\n",
       "      element.async = false;\n",
       "      element.src = url;\n",
       "      console.debug(\"Bokeh: injecting script tag for BokehJS library: \", url);\n",
       "      document.head.appendChild(element);\n",
       "    }\n",
       "  };var element = document.getElementById(\"1001\");\n",
       "  if (element == null) {\n",
       "    console.error(\"Bokeh: ERROR: autoload.js configured with elementid '1001' but no matching script tag was found. \")\n",
       "    return false;\n",
       "  }\n",
       "\n",
       "  function inject_raw_css(css) {\n",
       "    const element = document.createElement(\"style\");\n",
       "    element.appendChild(document.createTextNode(css));\n",
       "    document.body.appendChild(element);\n",
       "  }\n",
       "\n",
       "  \n",
       "  var js_urls = [\"https://cdn.pydata.org/bokeh/release/bokeh-1.4.0.min.js\", \"https://cdn.pydata.org/bokeh/release/bokeh-widgets-1.4.0.min.js\", \"https://cdn.pydata.org/bokeh/release/bokeh-tables-1.4.0.min.js\", \"https://cdn.pydata.org/bokeh/release/bokeh-gl-1.4.0.min.js\"];\n",
       "  var css_urls = [];\n",
       "  \n",
       "\n",
       "  var inline_js = [\n",
       "    function(Bokeh) {\n",
       "      Bokeh.set_log_level(\"info\");\n",
       "    },\n",
       "    function(Bokeh) {\n",
       "    \n",
       "    \n",
       "    }\n",
       "  ];\n",
       "\n",
       "  function run_inline_js() {\n",
       "    \n",
       "    if (root.Bokeh !== undefined || force === true) {\n",
       "      \n",
       "    for (var i = 0; i < inline_js.length; i++) {\n",
       "      inline_js[i].call(root, root.Bokeh);\n",
       "    }\n",
       "    if (force === true) {\n",
       "        display_loaded();\n",
       "      }} else if (Date.now() < root._bokeh_timeout) {\n",
       "      setTimeout(run_inline_js, 100);\n",
       "    } else if (!root._bokeh_failed_load) {\n",
       "      console.log(\"Bokeh: BokehJS failed to load within specified timeout.\");\n",
       "      root._bokeh_failed_load = true;\n",
       "    } else if (force !== true) {\n",
       "      var cell = $(document.getElementById(\"1001\")).parents('.cell').data().cell;\n",
       "      cell.output_area.append_execute_result(NB_LOAD_WARNING)\n",
       "    }\n",
       "\n",
       "  }\n",
       "\n",
       "  if (root._bokeh_is_loading === 0) {\n",
       "    console.debug(\"Bokeh: BokehJS loaded, going straight to plotting\");\n",
       "    run_inline_js();\n",
       "  } else {\n",
       "    load_libs(css_urls, js_urls, function() {\n",
       "      console.debug(\"Bokeh: BokehJS plotting callback run at\", now());\n",
       "      run_inline_js();\n",
       "    });\n",
       "  }\n",
       "}(window));"
      ],
      "application/vnd.bokehjs_load.v0+json": "\n(function(root) {\n  function now() {\n    return new Date();\n  }\n\n  var force = true;\n\n  if (typeof root._bokeh_onload_callbacks === \"undefined\" || force === true) {\n    root._bokeh_onload_callbacks = [];\n    root._bokeh_is_loading = undefined;\n  }\n\n  \n\n  \n  if (typeof (root._bokeh_timeout) === \"undefined\" || force === true) {\n    root._bokeh_timeout = Date.now() + 5000;\n    root._bokeh_failed_load = false;\n  }\n\n  var NB_LOAD_WARNING = {'data': {'text/html':\n     \"<div style='background-color: #fdd'>\\n\"+\n     \"<p>\\n\"+\n     \"BokehJS does not appear to have successfully loaded. If loading BokehJS from CDN, this \\n\"+\n     \"may be due to a slow or bad network connection. Possible fixes:\\n\"+\n     \"</p>\\n\"+\n     \"<ul>\\n\"+\n     \"<li>re-rerun `output_notebook()` to attempt to load from CDN again, or</li>\\n\"+\n     \"<li>use INLINE resources instead, as so:</li>\\n\"+\n     \"</ul>\\n\"+\n     \"<code>\\n\"+\n     \"from bokeh.resources import INLINE\\n\"+\n     \"output_notebook(resources=INLINE)\\n\"+\n     \"</code>\\n\"+\n     \"</div>\"}};\n\n  function display_loaded() {\n    var el = document.getElementById(\"1001\");\n    if (el != null) {\n      el.textContent = \"BokehJS is loading...\";\n    }\n    if (root.Bokeh !== undefined) {\n      if (el != null) {\n        el.textContent = \"BokehJS \" + root.Bokeh.version + \" successfully loaded.\";\n      }\n    } else if (Date.now() < root._bokeh_timeout) {\n      setTimeout(display_loaded, 100)\n    }\n  }\n\n\n  function run_callbacks() {\n    try {\n      root._bokeh_onload_callbacks.forEach(function(callback) {\n        if (callback != null)\n          callback();\n      });\n    } finally {\n      delete root._bokeh_onload_callbacks\n    }\n    console.debug(\"Bokeh: all callbacks have finished\");\n  }\n\n  function load_libs(css_urls, js_urls, callback) {\n    if (css_urls == null) css_urls = [];\n    if (js_urls == null) js_urls = [];\n\n    root._bokeh_onload_callbacks.push(callback);\n    if (root._bokeh_is_loading > 0) {\n      console.debug(\"Bokeh: BokehJS is being loaded, scheduling callback at\", now());\n      return null;\n    }\n    if (js_urls == null || js_urls.length === 0) {\n      run_callbacks();\n      return null;\n    }\n    console.debug(\"Bokeh: BokehJS not loaded, scheduling load and callback at\", now());\n    root._bokeh_is_loading = css_urls.length + js_urls.length;\n\n    function on_load() {\n      root._bokeh_is_loading--;\n      if (root._bokeh_is_loading === 0) {\n        console.debug(\"Bokeh: all BokehJS libraries/stylesheets loaded\");\n        run_callbacks()\n      }\n    }\n\n    function on_error() {\n      console.error(\"failed to load \" + url);\n    }\n\n    for (var i = 0; i < css_urls.length; i++) {\n      var url = css_urls[i];\n      const element = document.createElement(\"link\");\n      element.onload = on_load;\n      element.onerror = on_error;\n      element.rel = \"stylesheet\";\n      element.type = \"text/css\";\n      element.href = url;\n      console.debug(\"Bokeh: injecting link tag for BokehJS stylesheet: \", url);\n      document.body.appendChild(element);\n    }\n\n    for (var i = 0; i < js_urls.length; i++) {\n      var url = js_urls[i];\n      var element = document.createElement('script');\n      element.onload = on_load;\n      element.onerror = on_error;\n      element.async = false;\n      element.src = url;\n      console.debug(\"Bokeh: injecting script tag for BokehJS library: \", url);\n      document.head.appendChild(element);\n    }\n  };var element = document.getElementById(\"1001\");\n  if (element == null) {\n    console.error(\"Bokeh: ERROR: autoload.js configured with elementid '1001' but no matching script tag was found. \")\n    return false;\n  }\n\n  function inject_raw_css(css) {\n    const element = document.createElement(\"style\");\n    element.appendChild(document.createTextNode(css));\n    document.body.appendChild(element);\n  }\n\n  \n  var js_urls = [\"https://cdn.pydata.org/bokeh/release/bokeh-1.4.0.min.js\", \"https://cdn.pydata.org/bokeh/release/bokeh-widgets-1.4.0.min.js\", \"https://cdn.pydata.org/bokeh/release/bokeh-tables-1.4.0.min.js\", \"https://cdn.pydata.org/bokeh/release/bokeh-gl-1.4.0.min.js\"];\n  var css_urls = [];\n  \n\n  var inline_js = [\n    function(Bokeh) {\n      Bokeh.set_log_level(\"info\");\n    },\n    function(Bokeh) {\n    \n    \n    }\n  ];\n\n  function run_inline_js() {\n    \n    if (root.Bokeh !== undefined || force === true) {\n      \n    for (var i = 0; i < inline_js.length; i++) {\n      inline_js[i].call(root, root.Bokeh);\n    }\n    if (force === true) {\n        display_loaded();\n      }} else if (Date.now() < root._bokeh_timeout) {\n      setTimeout(run_inline_js, 100);\n    } else if (!root._bokeh_failed_load) {\n      console.log(\"Bokeh: BokehJS failed to load within specified timeout.\");\n      root._bokeh_failed_load = true;\n    } else if (force !== true) {\n      var cell = $(document.getElementById(\"1001\")).parents('.cell').data().cell;\n      cell.output_area.append_execute_result(NB_LOAD_WARNING)\n    }\n\n  }\n\n  if (root._bokeh_is_loading === 0) {\n    console.debug(\"Bokeh: BokehJS loaded, going straight to plotting\");\n    run_inline_js();\n  } else {\n    load_libs(css_urls, js_urls, function() {\n      console.debug(\"Bokeh: BokehJS plotting callback run at\", now());\n      run_inline_js();\n    });\n  }\n}(window));"
     },
     "metadata": {
      "tags": []
     },
     "output_type": "display_data"
    }
   ],
   "source": [
    "import seaborn as sns\n",
    "import matplotlib.pyplot as plt\n",
    "from matplotlib import ticker\n",
    "%matplotlib\n",
    "\n",
    "plt.rcParams[\"figure.figsize\"] = (12, 8)\n",
    "# For visualising data on interactive maps. Supports Image, Video, GeoJSON, TopoJSON overlays\n",
    "import folium \n",
    "from branca.colormap import LinearColormap\n",
    "\n",
    "from bokeh.plotting import figure, show\n",
    "from bokeh.tile_providers import get_provider, Vendors # tile provider is the underlying map\n",
    "from bokeh.io import reset_output, output_notebook, save # to display plots inside Jupyter\n",
    "\n",
    "reset_output()\n",
    "output_notebook()"
   ]
  },
  {
   "cell_type": "markdown",
   "metadata": {
    "id": "eqUYfXK16R61"
   },
   "source": [
    "# Extract, Load, Transform"
   ]
  },
  {
   "cell_type": "code",
   "execution_count": null,
   "metadata": {
    "id": "AiyGHlbm6R61",
    "outputId": "d694707c-ad4c-4c6f-bc14-75176c0415b1",
    "scrolled": true
   },
   "outputs": [
    {
     "data": {
      "text/html": [
       "<div>\n",
       "<style scoped>\n",
       "    .dataframe tbody tr th:only-of-type {\n",
       "        vertical-align: middle;\n",
       "    }\n",
       "\n",
       "    .dataframe tbody tr th {\n",
       "        vertical-align: top;\n",
       "    }\n",
       "\n",
       "    .dataframe thead th {\n",
       "        text-align: right;\n",
       "    }\n",
       "</style>\n",
       "<table border=\"1\" class=\"dataframe\">\n",
       "  <thead>\n",
       "    <tr style=\"text-align: right;\">\n",
       "      <th></th>\n",
       "      <th>LocationID</th>\n",
       "      <th>Borough</th>\n",
       "      <th>Zone</th>\n",
       "      <th>service_zone</th>\n",
       "    </tr>\n",
       "  </thead>\n",
       "  <tbody>\n",
       "    <tr>\n",
       "      <th>260</th>\n",
       "      <td>261</td>\n",
       "      <td>Manhattan</td>\n",
       "      <td>World Trade Center</td>\n",
       "      <td>Yellow Zone</td>\n",
       "    </tr>\n",
       "    <tr>\n",
       "      <th>261</th>\n",
       "      <td>262</td>\n",
       "      <td>Manhattan</td>\n",
       "      <td>Yorkville East</td>\n",
       "      <td>Yellow Zone</td>\n",
       "    </tr>\n",
       "    <tr>\n",
       "      <th>262</th>\n",
       "      <td>263</td>\n",
       "      <td>Manhattan</td>\n",
       "      <td>Yorkville West</td>\n",
       "      <td>Yellow Zone</td>\n",
       "    </tr>\n",
       "    <tr>\n",
       "      <th>263</th>\n",
       "      <td>264</td>\n",
       "      <td>Unknown</td>\n",
       "      <td>NV</td>\n",
       "      <td>None</td>\n",
       "    </tr>\n",
       "    <tr>\n",
       "      <th>264</th>\n",
       "      <td>265</td>\n",
       "      <td>Unknown</td>\n",
       "      <td>None</td>\n",
       "      <td>None</td>\n",
       "    </tr>\n",
       "  </tbody>\n",
       "</table>\n",
       "</div>"
      ],
      "text/plain": [
       "     LocationID    Borough                Zone service_zone\n",
       "260         261  Manhattan  World Trade Center  Yellow Zone\n",
       "261         262  Manhattan      Yorkville East  Yellow Zone\n",
       "262         263  Manhattan      Yorkville West  Yellow Zone\n",
       "263         264    Unknown                  NV         None\n",
       "264         265    Unknown                None         None"
      ]
     },
     "execution_count": 4,
     "metadata": {
      "tags": []
     },
     "output_type": "execute_result"
    }
   ],
   "source": [
    "ZONES = pd.read_feather('./Data/TaxiZones.feather')\n",
    "ZONES.tail()"
   ]
  },
  {
   "cell_type": "code",
   "execution_count": 1,
   "metadata": {
    "executionInfo": {
     "elapsed": 939,
     "status": "ok",
     "timestamp": 1601627234579,
     "user": {
      "displayName": "Daniel Ye",
      "photoUrl": "https://lh3.googleusercontent.com/a-/AOh14GjpWOi_eT_PDRryssh92fqNavPwj-S_hh-kMKPvFtQpzdBmkBz4X44BxzNW_DS77sw3tRjpkMtk26hZYYT1CfypHyqgtQaxk0YaF25YD7BVituZVAXiRaBHhwhchv4kN28SWoxIYfOkiLm34Z0_jxXo8xvKuFB3PCE9xV7_jCmlLIgL77Vyv12-6PV9aEQ9kXjCD4B8Nas_a0HygIKhoNlpTJTzMn-fAVRtdUc7EfH0azU-xpDDZBMzzOwBZNT-mL4UjrPkU5CARvXqijzLOwh0XuNeXriLiJtPSmIXRYDap0A7kPIqtYFEJLt69stzZwnBlYpXDimyeMIEQwRnfsMoWZ9Dzi4FN841wWgUqrW-nnheNUdd2kbD1SWphrtEj4Glvw1QPpbPwI3CaFUDrPuTPal60gn7rV_AMoH4mIdzAuKRxmnUBbq3jSQHJNaT7wF4pYXbRiDinYp2EK6BaZR8Tm2trXn2bqDdhLRTdIHX3EKabY_z_fIn1jXlDjPKOJ5D1PD-jImgd2jkttWLsyS8YyV97svgPCm7ss2b6U7oWnJBu0DAFAu9LwesP8oCotEhsBsZbPdPLgG2w3WnyVOaVPSYIbr1jbb3pLwimVhEmLH5KwmIO02EsqbkHjQUxxZM7dBwKt31cbbA5LzdMZxY9pL8Rn629p7Nszry7KLmDKG38e8MWmW8KprMnQFIvBEkikQv5nHJlV5wsIH7g_uFX7EImv5ByVm3VsFZItKHqz_R4hOsuvdXW9hEOWAGI1ie1Q=s64",
      "userId": "13550399416006309002"
     },
     "user_tz": -600
    },
    "id": "7lX6MKBm6R68",
    "scrolled": true
   },
   "outputs": [],
   "source": [
    "FILE_PATH = f\"./Data/$LICENSE$_$YEAR$/$LICENSE$_tripdata_$YEAR$-$MONTH$.feather\" \n",
    "MONTHS = ['Jan', 'Feb', 'Mar', 'Apr', 'May', 'Jun', 'Jul', 'Aug', 'Sep', 'Oct', 'Nov', 'Dec']"
   ]
  },
  {
   "cell_type": "code",
   "execution_count": null,
   "metadata": {
    "id": "DHoOJctR6R7E",
    "scrolled": true
   },
   "outputs": [],
   "source": [
    "def feather_to_df(license, year, month):\n",
    "    file_path = FILE_PATH.replace(\"$YEAR$\", year).replace(\"$MONTH$\", month).replace(\"$LICENSE$\", license)\n",
    "    print('Reading from: '+file_path)\n",
    "    df = pd.read_feather(file_path).drop('index', axis=1)\n",
    "    df.name = f\"{license}_{year}_{MONTHS[int(month)-1]}\"\n",
    "    return df"
   ]
  },
  {
   "cell_type": "code",
   "execution_count": null,
   "metadata": {
    "id": "iQb2sw_i6R7O",
    "scrolled": true
   },
   "outputs": [],
   "source": [
    "def logify(x): \n",
    "    return log(x) if x else 0"
   ]
  },
  {
   "cell_type": "code",
   "execution_count": null,
   "metadata": {
    "id": "C01p0hso6R7U"
   },
   "outputs": [],
   "source": [
    "def logify_prop(x):\n",
    "    return log(x+1) if x else 0"
   ]
  },
  {
   "cell_type": "code",
   "execution_count": null,
   "metadata": {
    "id": "iMSvS9qV6R7d"
   },
   "outputs": [],
   "source": [
    "def logit(p):\n",
    "    return log(p/(1-p))"
   ]
  },
  {
   "cell_type": "code",
   "execution_count": null,
   "metadata": {
    "id": "8rghPzEk6R7i"
   },
   "outputs": [],
   "source": [
    "MONTH_CATS = CategoricalDtype(MONTHS, ordered=True)\n",
    "COMPANY_CATS = CategoricalDtype(['Yellow', 'Green', 'Uber', 'Juno', 'Via', 'Lyft'], ordered=False)\n",
    "vendors = {\n",
    "            1: 'Creative Mobile Technologies, LLC.',\n",
    "            2: 'Verifone Inc.',\n",
    "            4: 'Flywheel Inc.'\n",
    "}\n",
    "VENDOR_CATS = CategoricalDtype(vendors.values() , ordered=False)\n",
    "ratecodes = {\n",
    "            1: 'Standard', \n",
    "            2: 'JFK', \n",
    "            3: 'Newark', \n",
    "            4: 'Nassau/Westchester', \n",
    "            5: 'Negotiated', \n",
    "            6: 'Group', \n",
    "            99: 'Unknown'\n",
    "        }\n",
    "RATE_CATS = CategoricalDtype(ratecodes.values(), ordered=False)\n",
    "payment_types = {\n",
    "#            0: 'Unknown',\n",
    "            1: 'Credit Card',\n",
    "            2: 'Cash',\n",
    "            3: 'No charge', \n",
    "            4: 'Dispute', \n",
    "            5: 'Unknown', \n",
    "            6: 'Voided Trip'\n",
    "        }\n",
    "PAYMENT_CATS = CategoricalDtype(payment_types.values(), ordered=False)\n",
    "company_license_codes = {\n",
    "                    'HV0003': 'Uber',\n",
    "                    'HV0005': 'Lyft',\n",
    "                    'HV0002': 'Juno',\n",
    "                    'HV0004': 'Via'\n",
    "                }\n",
    "COMPANY_CATS = CategoricalDtype(list(company_license_codes.values()) +['Yellow', 'Green'], ordered=False)\n",
    "license_types = {\n",
    "    'yellow': 'Medallion',\n",
    "    'green': 'Street Hail Liveries',\n",
    "    'fhv': 'High-Volume For-Hire Services',\n",
    "    'fhvhv': 'High-Volume For-Hire Services'\n",
    "}\n",
    "LICENSE_CATS = CategoricalDtype(set(license_types.values()))\n",
    "LOCATIONID_CATS = CategoricalDtype(range(1, 257))"
   ]
  },
  {
   "cell_type": "code",
   "execution_count": null,
   "metadata": {
    "id": "A5qX5-hM6R7l"
   },
   "outputs": [],
   "source": [
    "def cast_green_yellow(df):\n",
    "    \n",
    "    df['company'] = 'Yellow' if 'yellow' in df.name else 'Green'\n",
    "    df.company = df.company.astype(COMPANY_CATS)\n",
    "                \n",
    "    df.VendorID = df.VendorID.astype('category').cat.rename_categories(vendors).astype(VENDOR_CATS)\n",
    "    df.passenger_count = df.passenger_count.replace(to_replace=0, value=np.nan).astype('Int64')\n",
    "    df.trip_distance = df.trip_distance.astype('float')\n",
    "    df[['PULocationID', 'DOLocationID']] = df[['PULocationID', 'DOLocationID']].replace([264, 265], np.nan).astype('Int64').astype(LOCATION_CATS)\n",
    "    df.mta_tax = df.mta_tax.astype('float')\n",
    "    df.store_and_fwd_flag = df.store_and_fwd_flag.fillna(False).astype('bool')\n",
    "    df.improvement_surcharge = df.improvement_surcharge.astype('float')\n",
    "    df.fare_amount = df.fare_amount.astype('float')\n",
    "    \n",
    "    df['license_type'] = 'Medallion' if 'yellow' in df.name else 'Street Hail Liveries'\n",
    "    df.license_type = df.license_type.astype(LICENSE_CATS)\n",
    "    \n",
    "    tl = 't' if 'yellow' in df.name else 'l'\n",
    "    time_cols = [f'{tl}pep_pickup_datetime', f'{tl}pep_dropoff_datetime']\n",
    "    \n",
    "    for time_col in time_cols:    \n",
    "        df[time_col] = pd.to_datetime(df[time_col], yearfirst=True, errors='raise')\n",
    "        \n",
    "    df = df.rename(columns={\n",
    "        'tpep_pickup_datetime': 'pickup_datetime',\n",
    "        'lpep_pickup_datetime': 'pickup_datetime',\n",
    "        'tpep_dropoff_datetime': 'dropoff_datetime',\n",
    "        'lpep_dropoff_datetime': 'dropoff_datetime',\n",
    "    })\n",
    "    df['trip_duration'] = df.dropoff_datetime - df.pickup_datetime\n",
    "\n",
    "    df.RatecodeID = df.RatecodeID.fillna(99).astype('category').cat.rename_categories(ratecodes).astype(RATE_CATS)\n",
    "    df = df.rename(columns={'RatecodeID': 'ratecode', 'VendorID': 'vendor'})\n",
    "\n",
    "\n",
    "    df.payment_type = df.payment_type.replace(to_replace=5, value=np.nan).astype('Int64').astype('category').cat.rename_categories(payment_types).astype(PAYMENT_CATS)\n",
    "    \n",
    "    return df"
   ]
  },
  {
   "cell_type": "code",
   "execution_count": null,
   "metadata": {
    "id": "49X30lxi6R7r"
   },
   "outputs": [],
   "source": [
    "def cast_fhv(df):\n",
    "    \n",
    "    if 'hvfhs_license_num' in df.columns:\n",
    "        df.hvfhs_license_num = (df.hvfhs_license_num\n",
    "                                .astype('category')\n",
    "                                .cat.rename_categories(company_license_codes)\n",
    "                                .astype(COMPANY_CATS)\n",
    "        )\n",
    "        df = df.rename(columns={'hvfhs_license_num': 'company'})\n",
    "\n",
    "    df.dispatching_base_num = df.dispatching_base_num.astype('category')\n",
    "    \n",
    "    df.SR_Flag = df.SR_Flag.fillna(0).astype('bool')\n",
    "    df.pickup_datetime = pd.to_datetime(df.pickup_datetime, yearfirst=True)\n",
    "    df.dropoff_datetime = pd.to_datetime(df.dropoff_datetime, yearfirst=True)\n",
    "    df[['PULocationID', 'DOLocationID']] = df[['PULocationID', 'DOLocationID']].replace([264, 265], np.nan).astype('Int64').astype(LOCATION_CATS)\n",
    "    \n",
    "    return df\n"
   ]
  },
  {
   "cell_type": "code",
   "execution_count": null,
   "metadata": {
    "id": "BH0qXvST6R7w",
    "scrolled": true
   },
   "outputs": [],
   "source": [
    "def ETL(license, year, start, end):\n",
    "\n",
    "    dfs = dict()\n",
    "\n",
    "    for i, month in list(enumerate(MONTHS))[start-1: end]:\n",
    "\n",
    "        month_num = i + 1\n",
    "        month_str = f\"{month_num:02}\"\n",
    "        \n",
    "        print('\\n\\n' + license + year + '-' + month_str)\n",
    "        print('\\t reading feather...')\n",
    "        df = feather_to_df(license, year, month_str)    \n",
    "        \n",
    "        if license in ('green', 'yellow'):\n",
    "            df = cast_green_yellow(df)\n",
    "        elif license in ('fhv', 'fhvhv'):\n",
    "            df = cast_fhv(df)\n",
    "        dfs[month] = df\n",
    "    \n",
    "    grand_df = (pd.concat(dfs.values(), keys=dfs.keys(), axis=0)\n",
    "                .reset_index()\n",
    "                .drop('level_1', axis=1)\n",
    "                .rename({'level_0':'month'}, axis=1))\n",
    "    \n",
    "    grand_df.month = grand_df.month.astype(MONTH_CATS)\n",
    "    grand_df[['PULocationID', 'DOLocationID']] = grand_df[['PULocationID', 'DOLocationID']].astype('category')\n",
    "    if 'fhv' in license:\n",
    "        grand_df.dispatching_base_num = grand_df.dispatching_base_num.astype('category') \n",
    "        \n",
    "    grand_df.name = f\"{license}_{year}\"\n",
    "    \n",
    "    return grand_df"
   ]
  },
  {
   "cell_type": "code",
   "execution_count": null,
   "metadata": {
    "id": "omSOPwAS6R70",
    "scrolled": true
   },
   "outputs": [],
   "source": [
    "yellow_19_df = ETL('yellow', '2019', 1, 12)"
   ]
  },
  {
   "cell_type": "code",
   "execution_count": null,
   "metadata": {
    "id": "4ZTovqcs6R74",
    "scrolled": true
   },
   "outputs": [],
   "source": [
    "green_19_df = ETL('green', '2019', 1, 12)"
   ]
  },
  {
   "cell_type": "code",
   "execution_count": null,
   "metadata": {
    "id": "_LDMuZ886R77",
    "scrolled": true
   },
   "outputs": [],
   "source": [
    "fhvhv_19_df = ETL('fhvhv', '2019', 2, 12)"
   ]
  },
  {
   "cell_type": "code",
   "execution_count": null,
   "metadata": {
    "id": "FY6fqeQ-6R79",
    "scrolled": true
   },
   "outputs": [],
   "source": [
    "fhv_19_df = ETL('fhv', '2019', 1, 1)"
   ]
  },
  {
   "cell_type": "markdown",
   "metadata": {
    "id": "7dXOA1rl6R7_"
   },
   "source": [
    "## This is everything loaded"
   ]
  },
  {
   "cell_type": "code",
   "execution_count": null,
   "metadata": {
    "id": "c55KGJ8H6R8A",
    "outputId": "fbc93f50-e3f6-4027-82fb-61858b34cebc"
   },
   "outputs": [
    {
     "data": {
      "text/html": [
       "<div>\n",
       "<style scoped>\n",
       "    .dataframe tbody tr th:only-of-type {\n",
       "        vertical-align: middle;\n",
       "    }\n",
       "\n",
       "    .dataframe tbody tr th {\n",
       "        vertical-align: top;\n",
       "    }\n",
       "\n",
       "    .dataframe thead th {\n",
       "        text-align: right;\n",
       "    }\n",
       "</style>\n",
       "<table border=\"1\" class=\"dataframe\">\n",
       "  <thead>\n",
       "    <tr style=\"text-align: right;\">\n",
       "      <th></th>\n",
       "      <th>index</th>\n",
       "      <th>month</th>\n",
       "      <th>vendor</th>\n",
       "      <th>pickup_datetime</th>\n",
       "      <th>dropoff_datetime</th>\n",
       "      <th>passenger_count</th>\n",
       "      <th>trip_distance</th>\n",
       "      <th>ratecode</th>\n",
       "      <th>store_and_fwd_flag</th>\n",
       "      <th>PULocationID</th>\n",
       "      <th>...</th>\n",
       "      <th>extra</th>\n",
       "      <th>mta_tax</th>\n",
       "      <th>tip_amount</th>\n",
       "      <th>tolls_amount</th>\n",
       "      <th>improvement_surcharge</th>\n",
       "      <th>total_amount</th>\n",
       "      <th>congestion_surcharge</th>\n",
       "      <th>company</th>\n",
       "      <th>license_type</th>\n",
       "      <th>trip_duration</th>\n",
       "    </tr>\n",
       "  </thead>\n",
       "  <tbody>\n",
       "    <tr>\n",
       "      <th>0</th>\n",
       "      <td>0</td>\n",
       "      <td>Jan</td>\n",
       "      <td>Creative Mobile Technologies, LLC.</td>\n",
       "      <td>2019-01-01 00:46:40</td>\n",
       "      <td>2019-01-01 00:53:20</td>\n",
       "      <td>1.0</td>\n",
       "      <td>1.50</td>\n",
       "      <td>Standard</td>\n",
       "      <td>True</td>\n",
       "      <td>151</td>\n",
       "      <td>...</td>\n",
       "      <td>0.50</td>\n",
       "      <td>0.5</td>\n",
       "      <td>1.65</td>\n",
       "      <td>0.00</td>\n",
       "      <td>0.3</td>\n",
       "      <td>9.95</td>\n",
       "      <td>NaN</td>\n",
       "      <td>Yellow</td>\n",
       "      <td>Medallion</td>\n",
       "      <td>0 days 00:06:40</td>\n",
       "    </tr>\n",
       "    <tr>\n",
       "      <th>1</th>\n",
       "      <td>1</td>\n",
       "      <td>Jan</td>\n",
       "      <td>Creative Mobile Technologies, LLC.</td>\n",
       "      <td>2019-01-01 00:59:47</td>\n",
       "      <td>2019-01-01 01:18:59</td>\n",
       "      <td>1.0</td>\n",
       "      <td>2.60</td>\n",
       "      <td>Standard</td>\n",
       "      <td>True</td>\n",
       "      <td>239</td>\n",
       "      <td>...</td>\n",
       "      <td>0.50</td>\n",
       "      <td>0.5</td>\n",
       "      <td>1.00</td>\n",
       "      <td>0.00</td>\n",
       "      <td>0.3</td>\n",
       "      <td>16.30</td>\n",
       "      <td>NaN</td>\n",
       "      <td>Yellow</td>\n",
       "      <td>Medallion</td>\n",
       "      <td>0 days 00:19:12</td>\n",
       "    </tr>\n",
       "    <tr>\n",
       "      <th>2</th>\n",
       "      <td>2</td>\n",
       "      <td>Jan</td>\n",
       "      <td>Verifone Inc.</td>\n",
       "      <td>2018-12-21 13:48:30</td>\n",
       "      <td>2018-12-21 13:52:40</td>\n",
       "      <td>3.0</td>\n",
       "      <td>0.00</td>\n",
       "      <td>Standard</td>\n",
       "      <td>True</td>\n",
       "      <td>236</td>\n",
       "      <td>...</td>\n",
       "      <td>0.50</td>\n",
       "      <td>0.5</td>\n",
       "      <td>0.00</td>\n",
       "      <td>0.00</td>\n",
       "      <td>0.3</td>\n",
       "      <td>5.80</td>\n",
       "      <td>NaN</td>\n",
       "      <td>Yellow</td>\n",
       "      <td>Medallion</td>\n",
       "      <td>0 days 00:04:10</td>\n",
       "    </tr>\n",
       "    <tr>\n",
       "      <th>3</th>\n",
       "      <td>3</td>\n",
       "      <td>Jan</td>\n",
       "      <td>Verifone Inc.</td>\n",
       "      <td>2018-11-28 15:52:25</td>\n",
       "      <td>2018-11-28 15:55:45</td>\n",
       "      <td>5.0</td>\n",
       "      <td>0.00</td>\n",
       "      <td>Standard</td>\n",
       "      <td>True</td>\n",
       "      <td>193</td>\n",
       "      <td>...</td>\n",
       "      <td>0.50</td>\n",
       "      <td>0.5</td>\n",
       "      <td>0.00</td>\n",
       "      <td>0.00</td>\n",
       "      <td>0.3</td>\n",
       "      <td>7.55</td>\n",
       "      <td>NaN</td>\n",
       "      <td>Yellow</td>\n",
       "      <td>Medallion</td>\n",
       "      <td>0 days 00:03:20</td>\n",
       "    </tr>\n",
       "    <tr>\n",
       "      <th>4</th>\n",
       "      <td>4</td>\n",
       "      <td>Jan</td>\n",
       "      <td>Verifone Inc.</td>\n",
       "      <td>2018-11-28 15:56:57</td>\n",
       "      <td>2018-11-28 15:58:33</td>\n",
       "      <td>5.0</td>\n",
       "      <td>0.00</td>\n",
       "      <td>JFK</td>\n",
       "      <td>True</td>\n",
       "      <td>193</td>\n",
       "      <td>...</td>\n",
       "      <td>0.00</td>\n",
       "      <td>0.5</td>\n",
       "      <td>0.00</td>\n",
       "      <td>0.00</td>\n",
       "      <td>0.3</td>\n",
       "      <td>55.55</td>\n",
       "      <td>NaN</td>\n",
       "      <td>Yellow</td>\n",
       "      <td>Medallion</td>\n",
       "      <td>0 days 00:01:36</td>\n",
       "    </tr>\n",
       "    <tr>\n",
       "      <th>...</th>\n",
       "      <td>...</td>\n",
       "      <td>...</td>\n",
       "      <td>...</td>\n",
       "      <td>...</td>\n",
       "      <td>...</td>\n",
       "      <td>...</td>\n",
       "      <td>...</td>\n",
       "      <td>...</td>\n",
       "      <td>...</td>\n",
       "      <td>...</td>\n",
       "      <td>...</td>\n",
       "      <td>...</td>\n",
       "      <td>...</td>\n",
       "      <td>...</td>\n",
       "      <td>...</td>\n",
       "      <td>...</td>\n",
       "      <td>...</td>\n",
       "      <td>...</td>\n",
       "      <td>...</td>\n",
       "      <td>...</td>\n",
       "      <td>...</td>\n",
       "    </tr>\n",
       "    <tr>\n",
       "      <th>84399013</th>\n",
       "      <td>84399013</td>\n",
       "      <td>Dec</td>\n",
       "      <td>NaN</td>\n",
       "      <td>2019-12-31 00:10:00</td>\n",
       "      <td>2019-12-31 00:59:00</td>\n",
       "      <td>NaN</td>\n",
       "      <td>18.99</td>\n",
       "      <td>Unknown</td>\n",
       "      <td>False</td>\n",
       "      <td>181</td>\n",
       "      <td>...</td>\n",
       "      <td>2.75</td>\n",
       "      <td>0.5</td>\n",
       "      <td>0.00</td>\n",
       "      <td>0.00</td>\n",
       "      <td>0.3</td>\n",
       "      <td>68.10</td>\n",
       "      <td>0.0</td>\n",
       "      <td>Yellow</td>\n",
       "      <td>Medallion</td>\n",
       "      <td>0 days 00:49:00</td>\n",
       "    </tr>\n",
       "    <tr>\n",
       "      <th>84399014</th>\n",
       "      <td>84399014</td>\n",
       "      <td>Dec</td>\n",
       "      <td>NaN</td>\n",
       "      <td>2019-12-31 00:07:00</td>\n",
       "      <td>2019-12-31 00:46:00</td>\n",
       "      <td>NaN</td>\n",
       "      <td>12.78</td>\n",
       "      <td>Unknown</td>\n",
       "      <td>False</td>\n",
       "      <td>230</td>\n",
       "      <td>...</td>\n",
       "      <td>2.75</td>\n",
       "      <td>0.5</td>\n",
       "      <td>0.00</td>\n",
       "      <td>6.12</td>\n",
       "      <td>0.3</td>\n",
       "      <td>41.99</td>\n",
       "      <td>0.0</td>\n",
       "      <td>Yellow</td>\n",
       "      <td>Medallion</td>\n",
       "      <td>0 days 00:39:00</td>\n",
       "    </tr>\n",
       "    <tr>\n",
       "      <th>84399015</th>\n",
       "      <td>84399015</td>\n",
       "      <td>Dec</td>\n",
       "      <td>NaN</td>\n",
       "      <td>2019-12-31 00:20:00</td>\n",
       "      <td>2019-12-31 00:47:00</td>\n",
       "      <td>NaN</td>\n",
       "      <td>18.52</td>\n",
       "      <td>Unknown</td>\n",
       "      <td>False</td>\n",
       "      <td>219</td>\n",
       "      <td>...</td>\n",
       "      <td>2.75</td>\n",
       "      <td>0.5</td>\n",
       "      <td>0.00</td>\n",
       "      <td>6.12</td>\n",
       "      <td>0.3</td>\n",
       "      <td>61.30</td>\n",
       "      <td>0.0</td>\n",
       "      <td>Yellow</td>\n",
       "      <td>Medallion</td>\n",
       "      <td>0 days 00:27:00</td>\n",
       "    </tr>\n",
       "    <tr>\n",
       "      <th>84399016</th>\n",
       "      <td>84399016</td>\n",
       "      <td>Dec</td>\n",
       "      <td>NaN</td>\n",
       "      <td>2019-12-31 00:50:00</td>\n",
       "      <td>2019-12-31 01:21:00</td>\n",
       "      <td>NaN</td>\n",
       "      <td>13.13</td>\n",
       "      <td>Unknown</td>\n",
       "      <td>False</td>\n",
       "      <td>161</td>\n",
       "      <td>...</td>\n",
       "      <td>2.75</td>\n",
       "      <td>0.5</td>\n",
       "      <td>0.00</td>\n",
       "      <td>6.12</td>\n",
       "      <td>0.3</td>\n",
       "      <td>47.69</td>\n",
       "      <td>0.0</td>\n",
       "      <td>Yellow</td>\n",
       "      <td>Medallion</td>\n",
       "      <td>0 days 00:31:00</td>\n",
       "    </tr>\n",
       "    <tr>\n",
       "      <th>84399017</th>\n",
       "      <td>84399017</td>\n",
       "      <td>Dec</td>\n",
       "      <td>NaN</td>\n",
       "      <td>2019-12-31 00:38:19</td>\n",
       "      <td>2019-12-31 01:19:37</td>\n",
       "      <td>NaN</td>\n",
       "      <td>14.51</td>\n",
       "      <td>Unknown</td>\n",
       "      <td>False</td>\n",
       "      <td>230</td>\n",
       "      <td>...</td>\n",
       "      <td>2.75</td>\n",
       "      <td>0.0</td>\n",
       "      <td>0.00</td>\n",
       "      <td>6.12</td>\n",
       "      <td>0.3</td>\n",
       "      <td>51.03</td>\n",
       "      <td>0.0</td>\n",
       "      <td>Yellow</td>\n",
       "      <td>Medallion</td>\n",
       "      <td>0 days 00:41:18</td>\n",
       "    </tr>\n",
       "  </tbody>\n",
       "</table>\n",
       "<p>84192710 rows × 23 columns</p>\n",
       "</div>"
      ],
      "text/plain": [
       "             index month                              vendor  \\\n",
       "0                0   Jan  Creative Mobile Technologies, LLC.   \n",
       "1                1   Jan  Creative Mobile Technologies, LLC.   \n",
       "2                2   Jan                       Verifone Inc.   \n",
       "3                3   Jan                       Verifone Inc.   \n",
       "4                4   Jan                       Verifone Inc.   \n",
       "...            ...   ...                                 ...   \n",
       "84399013  84399013   Dec                                 NaN   \n",
       "84399014  84399014   Dec                                 NaN   \n",
       "84399015  84399015   Dec                                 NaN   \n",
       "84399016  84399016   Dec                                 NaN   \n",
       "84399017  84399017   Dec                                 NaN   \n",
       "\n",
       "             pickup_datetime    dropoff_datetime  passenger_count  \\\n",
       "0        2019-01-01 00:46:40 2019-01-01 00:53:20              1.0   \n",
       "1        2019-01-01 00:59:47 2019-01-01 01:18:59              1.0   \n",
       "2        2018-12-21 13:48:30 2018-12-21 13:52:40              3.0   \n",
       "3        2018-11-28 15:52:25 2018-11-28 15:55:45              5.0   \n",
       "4        2018-11-28 15:56:57 2018-11-28 15:58:33              5.0   \n",
       "...                      ...                 ...              ...   \n",
       "84399013 2019-12-31 00:10:00 2019-12-31 00:59:00              NaN   \n",
       "84399014 2019-12-31 00:07:00 2019-12-31 00:46:00              NaN   \n",
       "84399015 2019-12-31 00:20:00 2019-12-31 00:47:00              NaN   \n",
       "84399016 2019-12-31 00:50:00 2019-12-31 01:21:00              NaN   \n",
       "84399017 2019-12-31 00:38:19 2019-12-31 01:19:37              NaN   \n",
       "\n",
       "          trip_distance  ratecode  store_and_fwd_flag PULocationID  ... extra  \\\n",
       "0                  1.50  Standard                True          151  ...  0.50   \n",
       "1                  2.60  Standard                True          239  ...  0.50   \n",
       "2                  0.00  Standard                True          236  ...  0.50   \n",
       "3                  0.00  Standard                True          193  ...  0.50   \n",
       "4                  0.00       JFK                True          193  ...  0.00   \n",
       "...                 ...       ...                 ...          ...  ...   ...   \n",
       "84399013          18.99   Unknown               False          181  ...  2.75   \n",
       "84399014          12.78   Unknown               False          230  ...  2.75   \n",
       "84399015          18.52   Unknown               False          219  ...  2.75   \n",
       "84399016          13.13   Unknown               False          161  ...  2.75   \n",
       "84399017          14.51   Unknown               False          230  ...  2.75   \n",
       "\n",
       "         mta_tax  tip_amount  tolls_amount  improvement_surcharge  \\\n",
       "0            0.5        1.65          0.00                    0.3   \n",
       "1            0.5        1.00          0.00                    0.3   \n",
       "2            0.5        0.00          0.00                    0.3   \n",
       "3            0.5        0.00          0.00                    0.3   \n",
       "4            0.5        0.00          0.00                    0.3   \n",
       "...          ...         ...           ...                    ...   \n",
       "84399013     0.5        0.00          0.00                    0.3   \n",
       "84399014     0.5        0.00          6.12                    0.3   \n",
       "84399015     0.5        0.00          6.12                    0.3   \n",
       "84399016     0.5        0.00          6.12                    0.3   \n",
       "84399017     0.0        0.00          6.12                    0.3   \n",
       "\n",
       "          total_amount  congestion_surcharge  company  license_type  \\\n",
       "0                 9.95                   NaN   Yellow     Medallion   \n",
       "1                16.30                   NaN   Yellow     Medallion   \n",
       "2                 5.80                   NaN   Yellow     Medallion   \n",
       "3                 7.55                   NaN   Yellow     Medallion   \n",
       "4                55.55                   NaN   Yellow     Medallion   \n",
       "...                ...                   ...      ...           ...   \n",
       "84399013         68.10                   0.0   Yellow     Medallion   \n",
       "84399014         41.99                   0.0   Yellow     Medallion   \n",
       "84399015         61.30                   0.0   Yellow     Medallion   \n",
       "84399016         47.69                   0.0   Yellow     Medallion   \n",
       "84399017         51.03                   0.0   Yellow     Medallion   \n",
       "\n",
       "           trip_duration  \n",
       "0        0 days 00:06:40  \n",
       "1        0 days 00:19:12  \n",
       "2        0 days 00:04:10  \n",
       "3        0 days 00:03:20  \n",
       "4        0 days 00:01:36  \n",
       "...                  ...  \n",
       "84399013 0 days 00:49:00  \n",
       "84399014 0 days 00:39:00  \n",
       "84399015 0 days 00:27:00  \n",
       "84399016 0 days 00:31:00  \n",
       "84399017 0 days 00:41:18  \n",
       "\n",
       "[84192710 rows x 23 columns]"
      ]
     },
     "execution_count": 25,
     "metadata": {
      "tags": []
     },
     "output_type": "execute_result"
    }
   ],
   "source": [
    "yellow_19_df"
   ]
  },
  {
   "cell_type": "code",
   "execution_count": null,
   "metadata": {
    "id": "uDT5h8fO6R8I",
    "outputId": "5a5a4263-89b5-4739-feb3-d6f4377f3e02"
   },
   "outputs": [
    {
     "data": {
      "text/html": [
       "<div>\n",
       "<style scoped>\n",
       "    .dataframe tbody tr th:only-of-type {\n",
       "        vertical-align: middle;\n",
       "    }\n",
       "\n",
       "    .dataframe tbody tr th {\n",
       "        vertical-align: top;\n",
       "    }\n",
       "\n",
       "    .dataframe thead th {\n",
       "        text-align: right;\n",
       "    }\n",
       "</style>\n",
       "<table border=\"1\" class=\"dataframe\">\n",
       "  <thead>\n",
       "    <tr style=\"text-align: right;\">\n",
       "      <th></th>\n",
       "      <th>index</th>\n",
       "      <th>month</th>\n",
       "      <th>vendor</th>\n",
       "      <th>pickup_datetime</th>\n",
       "      <th>dropoff_datetime</th>\n",
       "      <th>store_and_fwd_flag</th>\n",
       "      <th>ratecode</th>\n",
       "      <th>PULocationID</th>\n",
       "      <th>DOLocationID</th>\n",
       "      <th>passenger_count</th>\n",
       "      <th>...</th>\n",
       "      <th>tolls_amount</th>\n",
       "      <th>ehail_fee</th>\n",
       "      <th>improvement_surcharge</th>\n",
       "      <th>total_amount</th>\n",
       "      <th>payment_type</th>\n",
       "      <th>trip_type</th>\n",
       "      <th>congestion_surcharge</th>\n",
       "      <th>company</th>\n",
       "      <th>license_type</th>\n",
       "      <th>trip_duration</th>\n",
       "    </tr>\n",
       "  </thead>\n",
       "  <tbody>\n",
       "    <tr>\n",
       "      <th>0</th>\n",
       "      <td>0</td>\n",
       "      <td>Jan</td>\n",
       "      <td>Verifone Inc.</td>\n",
       "      <td>2018-12-21 15:17:29</td>\n",
       "      <td>2018-12-21 15:18:57</td>\n",
       "      <td>True</td>\n",
       "      <td>Standard</td>\n",
       "      <td>NaN</td>\n",
       "      <td>NaN</td>\n",
       "      <td>5.0</td>\n",
       "      <td>...</td>\n",
       "      <td>0.0</td>\n",
       "      <td>NaN</td>\n",
       "      <td>0.3</td>\n",
       "      <td>4.30</td>\n",
       "      <td>Cash</td>\n",
       "      <td>1.0</td>\n",
       "      <td>NaN</td>\n",
       "      <td>Green</td>\n",
       "      <td>Street Hail Liveries</td>\n",
       "      <td>0 days 00:01:28</td>\n",
       "    </tr>\n",
       "    <tr>\n",
       "      <th>1</th>\n",
       "      <td>1</td>\n",
       "      <td>Jan</td>\n",
       "      <td>Verifone Inc.</td>\n",
       "      <td>2019-01-01 00:10:16</td>\n",
       "      <td>2019-01-01 00:16:32</td>\n",
       "      <td>True</td>\n",
       "      <td>Standard</td>\n",
       "      <td>97</td>\n",
       "      <td>49</td>\n",
       "      <td>2.0</td>\n",
       "      <td>...</td>\n",
       "      <td>0.0</td>\n",
       "      <td>NaN</td>\n",
       "      <td>0.3</td>\n",
       "      <td>7.30</td>\n",
       "      <td>Cash</td>\n",
       "      <td>1.0</td>\n",
       "      <td>NaN</td>\n",
       "      <td>Green</td>\n",
       "      <td>Street Hail Liveries</td>\n",
       "      <td>0 days 00:06:16</td>\n",
       "    </tr>\n",
       "    <tr>\n",
       "      <th>2</th>\n",
       "      <td>2</td>\n",
       "      <td>Jan</td>\n",
       "      <td>Verifone Inc.</td>\n",
       "      <td>2019-01-01 00:27:11</td>\n",
       "      <td>2019-01-01 00:31:38</td>\n",
       "      <td>True</td>\n",
       "      <td>Standard</td>\n",
       "      <td>49</td>\n",
       "      <td>189</td>\n",
       "      <td>2.0</td>\n",
       "      <td>...</td>\n",
       "      <td>0.0</td>\n",
       "      <td>NaN</td>\n",
       "      <td>0.3</td>\n",
       "      <td>5.80</td>\n",
       "      <td>Credit Card</td>\n",
       "      <td>1.0</td>\n",
       "      <td>NaN</td>\n",
       "      <td>Green</td>\n",
       "      <td>Street Hail Liveries</td>\n",
       "      <td>0 days 00:04:27</td>\n",
       "    </tr>\n",
       "    <tr>\n",
       "      <th>3</th>\n",
       "      <td>3</td>\n",
       "      <td>Jan</td>\n",
       "      <td>Verifone Inc.</td>\n",
       "      <td>2019-01-01 00:46:20</td>\n",
       "      <td>2019-01-01 01:04:54</td>\n",
       "      <td>True</td>\n",
       "      <td>Standard</td>\n",
       "      <td>189</td>\n",
       "      <td>17</td>\n",
       "      <td>2.0</td>\n",
       "      <td>...</td>\n",
       "      <td>0.0</td>\n",
       "      <td>NaN</td>\n",
       "      <td>0.3</td>\n",
       "      <td>19.71</td>\n",
       "      <td>Credit Card</td>\n",
       "      <td>1.0</td>\n",
       "      <td>NaN</td>\n",
       "      <td>Green</td>\n",
       "      <td>Street Hail Liveries</td>\n",
       "      <td>0 days 00:18:34</td>\n",
       "    </tr>\n",
       "    <tr>\n",
       "      <th>4</th>\n",
       "      <td>4</td>\n",
       "      <td>Jan</td>\n",
       "      <td>Verifone Inc.</td>\n",
       "      <td>2019-01-01 00:19:06</td>\n",
       "      <td>2019-01-01 00:39:43</td>\n",
       "      <td>True</td>\n",
       "      <td>Standard</td>\n",
       "      <td>82</td>\n",
       "      <td>NaN</td>\n",
       "      <td>1.0</td>\n",
       "      <td>...</td>\n",
       "      <td>0.0</td>\n",
       "      <td>NaN</td>\n",
       "      <td>0.3</td>\n",
       "      <td>19.30</td>\n",
       "      <td>Cash</td>\n",
       "      <td>1.0</td>\n",
       "      <td>NaN</td>\n",
       "      <td>Green</td>\n",
       "      <td>Street Hail Liveries</td>\n",
       "      <td>0 days 00:20:37</td>\n",
       "    </tr>\n",
       "    <tr>\n",
       "      <th>...</th>\n",
       "      <td>...</td>\n",
       "      <td>...</td>\n",
       "      <td>...</td>\n",
       "      <td>...</td>\n",
       "      <td>...</td>\n",
       "      <td>...</td>\n",
       "      <td>...</td>\n",
       "      <td>...</td>\n",
       "      <td>...</td>\n",
       "      <td>...</td>\n",
       "      <td>...</td>\n",
       "      <td>...</td>\n",
       "      <td>...</td>\n",
       "      <td>...</td>\n",
       "      <td>...</td>\n",
       "      <td>...</td>\n",
       "      <td>...</td>\n",
       "      <td>...</td>\n",
       "      <td>...</td>\n",
       "      <td>...</td>\n",
       "      <td>...</td>\n",
       "    </tr>\n",
       "    <tr>\n",
       "      <th>6044045</th>\n",
       "      <td>6044045</td>\n",
       "      <td>Dec</td>\n",
       "      <td>NaN</td>\n",
       "      <td>2019-12-31 23:26:00</td>\n",
       "      <td>2019-12-31 23:54:00</td>\n",
       "      <td>False</td>\n",
       "      <td>Unknown</td>\n",
       "      <td>35</td>\n",
       "      <td>130</td>\n",
       "      <td>NaN</td>\n",
       "      <td>...</td>\n",
       "      <td>0.0</td>\n",
       "      <td>NaN</td>\n",
       "      <td>0.3</td>\n",
       "      <td>51.90</td>\n",
       "      <td>NaN</td>\n",
       "      <td>NaN</td>\n",
       "      <td>NaN</td>\n",
       "      <td>Green</td>\n",
       "      <td>Street Hail Liveries</td>\n",
       "      <td>0 days 00:28:00</td>\n",
       "    </tr>\n",
       "    <tr>\n",
       "      <th>6044046</th>\n",
       "      <td>6044046</td>\n",
       "      <td>Dec</td>\n",
       "      <td>NaN</td>\n",
       "      <td>2019-12-31 23:02:00</td>\n",
       "      <td>2019-12-31 23:16:00</td>\n",
       "      <td>False</td>\n",
       "      <td>Unknown</td>\n",
       "      <td>76</td>\n",
       "      <td>61</td>\n",
       "      <td>NaN</td>\n",
       "      <td>...</td>\n",
       "      <td>0.0</td>\n",
       "      <td>NaN</td>\n",
       "      <td>0.3</td>\n",
       "      <td>26.36</td>\n",
       "      <td>NaN</td>\n",
       "      <td>NaN</td>\n",
       "      <td>NaN</td>\n",
       "      <td>Green</td>\n",
       "      <td>Street Hail Liveries</td>\n",
       "      <td>0 days 00:14:00</td>\n",
       "    </tr>\n",
       "    <tr>\n",
       "      <th>6044047</th>\n",
       "      <td>6044047</td>\n",
       "      <td>Dec</td>\n",
       "      <td>NaN</td>\n",
       "      <td>2019-12-31 23:24:00</td>\n",
       "      <td>2019-12-31 23:40:00</td>\n",
       "      <td>False</td>\n",
       "      <td>Unknown</td>\n",
       "      <td>185</td>\n",
       "      <td>247</td>\n",
       "      <td>NaN</td>\n",
       "      <td>...</td>\n",
       "      <td>0.0</td>\n",
       "      <td>NaN</td>\n",
       "      <td>0.3</td>\n",
       "      <td>30.32</td>\n",
       "      <td>NaN</td>\n",
       "      <td>NaN</td>\n",
       "      <td>NaN</td>\n",
       "      <td>Green</td>\n",
       "      <td>Street Hail Liveries</td>\n",
       "      <td>0 days 00:16:00</td>\n",
       "    </tr>\n",
       "    <tr>\n",
       "      <th>6044048</th>\n",
       "      <td>6044048</td>\n",
       "      <td>Dec</td>\n",
       "      <td>NaN</td>\n",
       "      <td>2019-12-31 23:16:00</td>\n",
       "      <td>2019-12-31 23:37:00</td>\n",
       "      <td>False</td>\n",
       "      <td>Unknown</td>\n",
       "      <td>51</td>\n",
       "      <td>126</td>\n",
       "      <td>NaN</td>\n",
       "      <td>...</td>\n",
       "      <td>0.0</td>\n",
       "      <td>NaN</td>\n",
       "      <td>0.3</td>\n",
       "      <td>39.50</td>\n",
       "      <td>NaN</td>\n",
       "      <td>NaN</td>\n",
       "      <td>NaN</td>\n",
       "      <td>Green</td>\n",
       "      <td>Street Hail Liveries</td>\n",
       "      <td>0 days 00:21:00</td>\n",
       "    </tr>\n",
       "    <tr>\n",
       "      <th>6044049</th>\n",
       "      <td>6044049</td>\n",
       "      <td>Dec</td>\n",
       "      <td>NaN</td>\n",
       "      <td>2019-12-31 23:52:00</td>\n",
       "      <td>2020-01-01 00:05:00</td>\n",
       "      <td>False</td>\n",
       "      <td>Unknown</td>\n",
       "      <td>42</td>\n",
       "      <td>244</td>\n",
       "      <td>NaN</td>\n",
       "      <td>...</td>\n",
       "      <td>0.0</td>\n",
       "      <td>NaN</td>\n",
       "      <td>0.0</td>\n",
       "      <td>24.40</td>\n",
       "      <td>NaN</td>\n",
       "      <td>NaN</td>\n",
       "      <td>NaN</td>\n",
       "      <td>Green</td>\n",
       "      <td>Street Hail Liveries</td>\n",
       "      <td>0 days 00:13:00</td>\n",
       "    </tr>\n",
       "  </tbody>\n",
       "</table>\n",
       "<p>6044050 rows × 25 columns</p>\n",
       "</div>"
      ],
      "text/plain": [
       "           index month         vendor     pickup_datetime    dropoff_datetime  \\\n",
       "0              0   Jan  Verifone Inc. 2018-12-21 15:17:29 2018-12-21 15:18:57   \n",
       "1              1   Jan  Verifone Inc. 2019-01-01 00:10:16 2019-01-01 00:16:32   \n",
       "2              2   Jan  Verifone Inc. 2019-01-01 00:27:11 2019-01-01 00:31:38   \n",
       "3              3   Jan  Verifone Inc. 2019-01-01 00:46:20 2019-01-01 01:04:54   \n",
       "4              4   Jan  Verifone Inc. 2019-01-01 00:19:06 2019-01-01 00:39:43   \n",
       "...          ...   ...            ...                 ...                 ...   \n",
       "6044045  6044045   Dec            NaN 2019-12-31 23:26:00 2019-12-31 23:54:00   \n",
       "6044046  6044046   Dec            NaN 2019-12-31 23:02:00 2019-12-31 23:16:00   \n",
       "6044047  6044047   Dec            NaN 2019-12-31 23:24:00 2019-12-31 23:40:00   \n",
       "6044048  6044048   Dec            NaN 2019-12-31 23:16:00 2019-12-31 23:37:00   \n",
       "6044049  6044049   Dec            NaN 2019-12-31 23:52:00 2020-01-01 00:05:00   \n",
       "\n",
       "         store_and_fwd_flag  ratecode PULocationID DOLocationID  \\\n",
       "0                      True  Standard          NaN          NaN   \n",
       "1                      True  Standard           97           49   \n",
       "2                      True  Standard           49          189   \n",
       "3                      True  Standard          189           17   \n",
       "4                      True  Standard           82          NaN   \n",
       "...                     ...       ...          ...          ...   \n",
       "6044045               False   Unknown           35          130   \n",
       "6044046               False   Unknown           76           61   \n",
       "6044047               False   Unknown          185          247   \n",
       "6044048               False   Unknown           51          126   \n",
       "6044049               False   Unknown           42          244   \n",
       "\n",
       "         passenger_count  ...  tolls_amount  ehail_fee  improvement_surcharge  \\\n",
       "0                    5.0  ...           0.0        NaN                    0.3   \n",
       "1                    2.0  ...           0.0        NaN                    0.3   \n",
       "2                    2.0  ...           0.0        NaN                    0.3   \n",
       "3                    2.0  ...           0.0        NaN                    0.3   \n",
       "4                    1.0  ...           0.0        NaN                    0.3   \n",
       "...                  ...  ...           ...        ...                    ...   \n",
       "6044045              NaN  ...           0.0        NaN                    0.3   \n",
       "6044046              NaN  ...           0.0        NaN                    0.3   \n",
       "6044047              NaN  ...           0.0        NaN                    0.3   \n",
       "6044048              NaN  ...           0.0        NaN                    0.3   \n",
       "6044049              NaN  ...           0.0        NaN                    0.0   \n",
       "\n",
       "         total_amount  payment_type  trip_type  congestion_surcharge  company  \\\n",
       "0                4.30          Cash        1.0                   NaN    Green   \n",
       "1                7.30          Cash        1.0                   NaN    Green   \n",
       "2                5.80   Credit Card        1.0                   NaN    Green   \n",
       "3               19.71   Credit Card        1.0                   NaN    Green   \n",
       "4               19.30          Cash        1.0                   NaN    Green   \n",
       "...               ...           ...        ...                   ...      ...   \n",
       "6044045         51.90           NaN        NaN                   NaN    Green   \n",
       "6044046         26.36           NaN        NaN                   NaN    Green   \n",
       "6044047         30.32           NaN        NaN                   NaN    Green   \n",
       "6044048         39.50           NaN        NaN                   NaN    Green   \n",
       "6044049         24.40           NaN        NaN                   NaN    Green   \n",
       "\n",
       "                 license_type   trip_duration  \n",
       "0        Street Hail Liveries 0 days 00:01:28  \n",
       "1        Street Hail Liveries 0 days 00:06:16  \n",
       "2        Street Hail Liveries 0 days 00:04:27  \n",
       "3        Street Hail Liveries 0 days 00:18:34  \n",
       "4        Street Hail Liveries 0 days 00:20:37  \n",
       "...                       ...             ...  \n",
       "6044045  Street Hail Liveries 0 days 00:28:00  \n",
       "6044046  Street Hail Liveries 0 days 00:14:00  \n",
       "6044047  Street Hail Liveries 0 days 00:16:00  \n",
       "6044048  Street Hail Liveries 0 days 00:21:00  \n",
       "6044049  Street Hail Liveries 0 days 00:13:00  \n",
       "\n",
       "[6044050 rows x 25 columns]"
      ]
     },
     "execution_count": 26,
     "metadata": {
      "tags": []
     },
     "output_type": "execute_result"
    }
   ],
   "source": [
    "green_19_df"
   ]
  },
  {
   "cell_type": "code",
   "execution_count": null,
   "metadata": {
    "id": "UPa-OKoy6R8N",
    "outputId": "e7a39b3a-aeaf-4836-8b7d-c84dff8f8544"
   },
   "outputs": [
    {
     "data": {
      "text/html": [
       "<div>\n",
       "<style scoped>\n",
       "    .dataframe tbody tr th:only-of-type {\n",
       "        vertical-align: middle;\n",
       "    }\n",
       "\n",
       "    .dataframe tbody tr th {\n",
       "        vertical-align: top;\n",
       "    }\n",
       "\n",
       "    .dataframe thead th {\n",
       "        text-align: right;\n",
       "    }\n",
       "</style>\n",
       "<table border=\"1\" class=\"dataframe\">\n",
       "  <thead>\n",
       "    <tr style=\"text-align: right;\">\n",
       "      <th></th>\n",
       "      <th>index</th>\n",
       "      <th>month</th>\n",
       "      <th>dispatching_base_num</th>\n",
       "      <th>pickup_datetime</th>\n",
       "      <th>dropoff_datetime</th>\n",
       "      <th>PULocationID</th>\n",
       "      <th>DOLocationID</th>\n",
       "      <th>SR_Flag</th>\n",
       "      <th>trip_duration</th>\n",
       "    </tr>\n",
       "  </thead>\n",
       "  <tbody>\n",
       "    <tr>\n",
       "      <th>0</th>\n",
       "      <td>0</td>\n",
       "      <td>Jan</td>\n",
       "      <td>B00001</td>\n",
       "      <td>2019-01-01 00:30:00</td>\n",
       "      <td>2019-01-01 02:51:55</td>\n",
       "      <td>NaN</td>\n",
       "      <td>NaN</td>\n",
       "      <td>False</td>\n",
       "      <td>0 days 02:21:55</td>\n",
       "    </tr>\n",
       "    <tr>\n",
       "      <th>1</th>\n",
       "      <td>1</td>\n",
       "      <td>Jan</td>\n",
       "      <td>B00001</td>\n",
       "      <td>2019-01-01 00:45:00</td>\n",
       "      <td>2019-01-01 00:54:49</td>\n",
       "      <td>NaN</td>\n",
       "      <td>NaN</td>\n",
       "      <td>False</td>\n",
       "      <td>0 days 00:09:49</td>\n",
       "    </tr>\n",
       "    <tr>\n",
       "      <th>2</th>\n",
       "      <td>2</td>\n",
       "      <td>Jan</td>\n",
       "      <td>B00001</td>\n",
       "      <td>2019-01-01 00:15:00</td>\n",
       "      <td>2019-01-01 00:54:52</td>\n",
       "      <td>NaN</td>\n",
       "      <td>NaN</td>\n",
       "      <td>False</td>\n",
       "      <td>0 days 00:39:52</td>\n",
       "    </tr>\n",
       "    <tr>\n",
       "      <th>3</th>\n",
       "      <td>3</td>\n",
       "      <td>Jan</td>\n",
       "      <td>B00008</td>\n",
       "      <td>2019-01-01 00:19:00</td>\n",
       "      <td>2019-01-01 00:39:00</td>\n",
       "      <td>NaN</td>\n",
       "      <td>NaN</td>\n",
       "      <td>False</td>\n",
       "      <td>0 days 00:20:00</td>\n",
       "    </tr>\n",
       "    <tr>\n",
       "      <th>4</th>\n",
       "      <td>4</td>\n",
       "      <td>Jan</td>\n",
       "      <td>B00008</td>\n",
       "      <td>2019-01-01 00:27:00</td>\n",
       "      <td>2019-01-01 00:37:00</td>\n",
       "      <td>NaN</td>\n",
       "      <td>NaN</td>\n",
       "      <td>False</td>\n",
       "      <td>0 days 00:10:00</td>\n",
       "    </tr>\n",
       "    <tr>\n",
       "      <th>...</th>\n",
       "      <td>...</td>\n",
       "      <td>...</td>\n",
       "      <td>...</td>\n",
       "      <td>...</td>\n",
       "      <td>...</td>\n",
       "      <td>...</td>\n",
       "      <td>...</td>\n",
       "      <td>...</td>\n",
       "      <td>...</td>\n",
       "    </tr>\n",
       "    <tr>\n",
       "      <th>23130805</th>\n",
       "      <td>23130805</td>\n",
       "      <td>Jan</td>\n",
       "      <td>B03157</td>\n",
       "      <td>2019-01-31 23:21:00</td>\n",
       "      <td>2019-01-31 23:28:52</td>\n",
       "      <td>NaN</td>\n",
       "      <td>NaN</td>\n",
       "      <td>False</td>\n",
       "      <td>0 days 00:07:52</td>\n",
       "    </tr>\n",
       "    <tr>\n",
       "      <th>23130806</th>\n",
       "      <td>23130806</td>\n",
       "      <td>Jan</td>\n",
       "      <td>B03157</td>\n",
       "      <td>2019-01-31 23:38:04</td>\n",
       "      <td>2019-01-31 23:45:43</td>\n",
       "      <td>NaN</td>\n",
       "      <td>NaN</td>\n",
       "      <td>False</td>\n",
       "      <td>0 days 00:07:39</td>\n",
       "    </tr>\n",
       "    <tr>\n",
       "      <th>23130807</th>\n",
       "      <td>23130807</td>\n",
       "      <td>Jan</td>\n",
       "      <td>B03157</td>\n",
       "      <td>2019-01-31 23:53:58</td>\n",
       "      <td>2019-02-01 00:25:04</td>\n",
       "      <td>NaN</td>\n",
       "      <td>NaN</td>\n",
       "      <td>False</td>\n",
       "      <td>0 days 00:31:06</td>\n",
       "    </tr>\n",
       "    <tr>\n",
       "      <th>23130808</th>\n",
       "      <td>23130808</td>\n",
       "      <td>Jan</td>\n",
       "      <td>B03157</td>\n",
       "      <td>2019-01-31 23:54:53</td>\n",
       "      <td>2019-02-01 00:00:14</td>\n",
       "      <td>NaN</td>\n",
       "      <td>NaN</td>\n",
       "      <td>False</td>\n",
       "      <td>0 days 00:05:21</td>\n",
       "    </tr>\n",
       "    <tr>\n",
       "      <th>23130809</th>\n",
       "      <td>23130809</td>\n",
       "      <td>Jan</td>\n",
       "      <td>B03164</td>\n",
       "      <td>2019-01-31 23:55:47</td>\n",
       "      <td>2019-02-01 00:24:29</td>\n",
       "      <td>NaN</td>\n",
       "      <td>NaN</td>\n",
       "      <td>False</td>\n",
       "      <td>0 days 00:28:42</td>\n",
       "    </tr>\n",
       "  </tbody>\n",
       "</table>\n",
       "<p>23130810 rows × 9 columns</p>\n",
       "</div>"
      ],
      "text/plain": [
       "             index month dispatching_base_num     pickup_datetime  \\\n",
       "0                0   Jan               B00001 2019-01-01 00:30:00   \n",
       "1                1   Jan               B00001 2019-01-01 00:45:00   \n",
       "2                2   Jan               B00001 2019-01-01 00:15:00   \n",
       "3                3   Jan               B00008 2019-01-01 00:19:00   \n",
       "4                4   Jan               B00008 2019-01-01 00:27:00   \n",
       "...            ...   ...                  ...                 ...   \n",
       "23130805  23130805   Jan               B03157 2019-01-31 23:21:00   \n",
       "23130806  23130806   Jan               B03157 2019-01-31 23:38:04   \n",
       "23130807  23130807   Jan               B03157 2019-01-31 23:53:58   \n",
       "23130808  23130808   Jan               B03157 2019-01-31 23:54:53   \n",
       "23130809  23130809   Jan               B03164 2019-01-31 23:55:47   \n",
       "\n",
       "            dropoff_datetime PULocationID DOLocationID  SR_Flag  \\\n",
       "0        2019-01-01 02:51:55          NaN          NaN    False   \n",
       "1        2019-01-01 00:54:49          NaN          NaN    False   \n",
       "2        2019-01-01 00:54:52          NaN          NaN    False   \n",
       "3        2019-01-01 00:39:00          NaN          NaN    False   \n",
       "4        2019-01-01 00:37:00          NaN          NaN    False   \n",
       "...                      ...          ...          ...      ...   \n",
       "23130805 2019-01-31 23:28:52          NaN          NaN    False   \n",
       "23130806 2019-01-31 23:45:43          NaN          NaN    False   \n",
       "23130807 2019-02-01 00:25:04          NaN          NaN    False   \n",
       "23130808 2019-02-01 00:00:14          NaN          NaN    False   \n",
       "23130809 2019-02-01 00:24:29          NaN          NaN    False   \n",
       "\n",
       "           trip_duration  \n",
       "0        0 days 02:21:55  \n",
       "1        0 days 00:09:49  \n",
       "2        0 days 00:39:52  \n",
       "3        0 days 00:20:00  \n",
       "4        0 days 00:10:00  \n",
       "...                  ...  \n",
       "23130805 0 days 00:07:52  \n",
       "23130806 0 days 00:07:39  \n",
       "23130807 0 days 00:31:06  \n",
       "23130808 0 days 00:05:21  \n",
       "23130809 0 days 00:28:42  \n",
       "\n",
       "[23130810 rows x 9 columns]"
      ]
     },
     "execution_count": 27,
     "metadata": {
      "tags": []
     },
     "output_type": "execute_result"
    }
   ],
   "source": [
    "fhv_19_df"
   ]
  },
  {
   "cell_type": "code",
   "execution_count": null,
   "metadata": {
    "id": "yW9Ywe-D6R8P",
    "outputId": "2b042d9a-cba4-4656-f12d-18e8934c5d06"
   },
   "outputs": [
    {
     "data": {
      "text/html": [
       "<div>\n",
       "<style scoped>\n",
       "    .dataframe tbody tr th:only-of-type {\n",
       "        vertical-align: middle;\n",
       "    }\n",
       "\n",
       "    .dataframe tbody tr th {\n",
       "        vertical-align: top;\n",
       "    }\n",
       "\n",
       "    .dataframe thead th {\n",
       "        text-align: right;\n",
       "    }\n",
       "</style>\n",
       "<table border=\"1\" class=\"dataframe\">\n",
       "  <thead>\n",
       "    <tr style=\"text-align: right;\">\n",
       "      <th></th>\n",
       "      <th>index</th>\n",
       "      <th>month</th>\n",
       "      <th>company</th>\n",
       "      <th>dispatching_base_num</th>\n",
       "      <th>pickup_datetime</th>\n",
       "      <th>dropoff_datetime</th>\n",
       "      <th>PULocationID</th>\n",
       "      <th>DOLocationID</th>\n",
       "      <th>SR_Flag</th>\n",
       "      <th>license_type</th>\n",
       "      <th>trip_duration</th>\n",
       "    </tr>\n",
       "  </thead>\n",
       "  <tbody>\n",
       "    <tr>\n",
       "      <th>0</th>\n",
       "      <td>0</td>\n",
       "      <td>Feb</td>\n",
       "      <td>Uber</td>\n",
       "      <td>B02867</td>\n",
       "      <td>2019-02-01 00:05:18</td>\n",
       "      <td>2019-02-01 00:14:57</td>\n",
       "      <td>245</td>\n",
       "      <td>251</td>\n",
       "      <td>False</td>\n",
       "      <td>High-Volume For-Hire Services</td>\n",
       "      <td>0 days 00:09:39</td>\n",
       "    </tr>\n",
       "    <tr>\n",
       "      <th>1</th>\n",
       "      <td>1</td>\n",
       "      <td>Feb</td>\n",
       "      <td>Uber</td>\n",
       "      <td>B02879</td>\n",
       "      <td>2019-02-01 00:41:29</td>\n",
       "      <td>2019-02-01 00:49:39</td>\n",
       "      <td>216</td>\n",
       "      <td>197</td>\n",
       "      <td>False</td>\n",
       "      <td>High-Volume For-Hire Services</td>\n",
       "      <td>0 days 00:08:10</td>\n",
       "    </tr>\n",
       "    <tr>\n",
       "      <th>2</th>\n",
       "      <td>2</td>\n",
       "      <td>Feb</td>\n",
       "      <td>Lyft</td>\n",
       "      <td>B02510</td>\n",
       "      <td>2019-02-01 00:51:34</td>\n",
       "      <td>2019-02-01 01:28:29</td>\n",
       "      <td>NaN</td>\n",
       "      <td>234</td>\n",
       "      <td>False</td>\n",
       "      <td>High-Volume For-Hire Services</td>\n",
       "      <td>0 days 00:36:55</td>\n",
       "    </tr>\n",
       "    <tr>\n",
       "      <th>3</th>\n",
       "      <td>3</td>\n",
       "      <td>Feb</td>\n",
       "      <td>Lyft</td>\n",
       "      <td>B02510</td>\n",
       "      <td>2019-02-01 00:03:51</td>\n",
       "      <td>2019-02-01 00:07:16</td>\n",
       "      <td>87</td>\n",
       "      <td>87</td>\n",
       "      <td>False</td>\n",
       "      <td>High-Volume For-Hire Services</td>\n",
       "      <td>0 days 00:03:25</td>\n",
       "    </tr>\n",
       "    <tr>\n",
       "      <th>4</th>\n",
       "      <td>4</td>\n",
       "      <td>Feb</td>\n",
       "      <td>Lyft</td>\n",
       "      <td>B02510</td>\n",
       "      <td>2019-02-01 00:09:44</td>\n",
       "      <td>2019-02-01 00:39:56</td>\n",
       "      <td>87</td>\n",
       "      <td>198</td>\n",
       "      <td>False</td>\n",
       "      <td>High-Volume For-Hire Services</td>\n",
       "      <td>0 days 00:30:12</td>\n",
       "    </tr>\n",
       "    <tr>\n",
       "      <th>...</th>\n",
       "      <td>...</td>\n",
       "      <td>...</td>\n",
       "      <td>...</td>\n",
       "      <td>...</td>\n",
       "      <td>...</td>\n",
       "      <td>...</td>\n",
       "      <td>...</td>\n",
       "      <td>...</td>\n",
       "      <td>...</td>\n",
       "      <td>...</td>\n",
       "      <td>...</td>\n",
       "    </tr>\n",
       "    <tr>\n",
       "      <th>255877365</th>\n",
       "      <td>23130712</td>\n",
       "      <td>Jan</td>\n",
       "      <td>Juno</td>\n",
       "      <td>B02914</td>\n",
       "      <td>2019-01-31 23:09:12</td>\n",
       "      <td>2019-01-31 23:21:25</td>\n",
       "      <td>69</td>\n",
       "      <td>169</td>\n",
       "      <td>False</td>\n",
       "      <td>High-Volume For-Hire Services</td>\n",
       "      <td>0 days 00:12:13</td>\n",
       "    </tr>\n",
       "    <tr>\n",
       "      <th>255877366</th>\n",
       "      <td>23130713</td>\n",
       "      <td>Jan</td>\n",
       "      <td>Juno</td>\n",
       "      <td>B02914</td>\n",
       "      <td>2019-01-31 23:14:37</td>\n",
       "      <td>2019-01-31 23:21:25</td>\n",
       "      <td>243</td>\n",
       "      <td>244</td>\n",
       "      <td>False</td>\n",
       "      <td>High-Volume For-Hire Services</td>\n",
       "      <td>0 days 00:06:48</td>\n",
       "    </tr>\n",
       "    <tr>\n",
       "      <th>255877367</th>\n",
       "      <td>23130714</td>\n",
       "      <td>Jan</td>\n",
       "      <td>Juno</td>\n",
       "      <td>B02914</td>\n",
       "      <td>2019-01-31 23:20:41</td>\n",
       "      <td>2019-01-31 23:53:05</td>\n",
       "      <td>61</td>\n",
       "      <td>10</td>\n",
       "      <td>False</td>\n",
       "      <td>High-Volume For-Hire Services</td>\n",
       "      <td>0 days 00:32:24</td>\n",
       "    </tr>\n",
       "    <tr>\n",
       "      <th>255877368</th>\n",
       "      <td>23130715</td>\n",
       "      <td>Jan</td>\n",
       "      <td>Juno</td>\n",
       "      <td>B02914</td>\n",
       "      <td>2019-01-31 23:33:45</td>\n",
       "      <td>2019-01-31 23:45:16</td>\n",
       "      <td>163</td>\n",
       "      <td>75</td>\n",
       "      <td>False</td>\n",
       "      <td>High-Volume For-Hire Services</td>\n",
       "      <td>0 days 00:11:31</td>\n",
       "    </tr>\n",
       "    <tr>\n",
       "      <th>255877369</th>\n",
       "      <td>23130716</td>\n",
       "      <td>Jan</td>\n",
       "      <td>Juno</td>\n",
       "      <td>B02914</td>\n",
       "      <td>2019-01-31 23:57:42</td>\n",
       "      <td>2019-02-01 00:23:08</td>\n",
       "      <td>161</td>\n",
       "      <td>256</td>\n",
       "      <td>False</td>\n",
       "      <td>High-Volume For-Hire Services</td>\n",
       "      <td>0 days 00:25:26</td>\n",
       "    </tr>\n",
       "  </tbody>\n",
       "</table>\n",
       "<p>255877370 rows × 11 columns</p>\n",
       "</div>"
      ],
      "text/plain": [
       "              index month company dispatching_base_num     pickup_datetime  \\\n",
       "0                 0   Feb    Uber               B02867 2019-02-01 00:05:18   \n",
       "1                 1   Feb    Uber               B02879 2019-02-01 00:41:29   \n",
       "2                 2   Feb    Lyft               B02510 2019-02-01 00:51:34   \n",
       "3                 3   Feb    Lyft               B02510 2019-02-01 00:03:51   \n",
       "4                 4   Feb    Lyft               B02510 2019-02-01 00:09:44   \n",
       "...             ...   ...     ...                  ...                 ...   \n",
       "255877365  23130712   Jan    Juno               B02914 2019-01-31 23:09:12   \n",
       "255877366  23130713   Jan    Juno               B02914 2019-01-31 23:14:37   \n",
       "255877367  23130714   Jan    Juno               B02914 2019-01-31 23:20:41   \n",
       "255877368  23130715   Jan    Juno               B02914 2019-01-31 23:33:45   \n",
       "255877369  23130716   Jan    Juno               B02914 2019-01-31 23:57:42   \n",
       "\n",
       "             dropoff_datetime PULocationID DOLocationID  SR_Flag  \\\n",
       "0         2019-02-01 00:14:57          245          251    False   \n",
       "1         2019-02-01 00:49:39          216          197    False   \n",
       "2         2019-02-01 01:28:29          NaN          234    False   \n",
       "3         2019-02-01 00:07:16           87           87    False   \n",
       "4         2019-02-01 00:39:56           87          198    False   \n",
       "...                       ...          ...          ...      ...   \n",
       "255877365 2019-01-31 23:21:25           69          169    False   \n",
       "255877366 2019-01-31 23:21:25          243          244    False   \n",
       "255877367 2019-01-31 23:53:05           61           10    False   \n",
       "255877368 2019-01-31 23:45:16          163           75    False   \n",
       "255877369 2019-02-01 00:23:08          161          256    False   \n",
       "\n",
       "                            license_type   trip_duration  \n",
       "0          High-Volume For-Hire Services 0 days 00:09:39  \n",
       "1          High-Volume For-Hire Services 0 days 00:08:10  \n",
       "2          High-Volume For-Hire Services 0 days 00:36:55  \n",
       "3          High-Volume For-Hire Services 0 days 00:03:25  \n",
       "4          High-Volume For-Hire Services 0 days 00:30:12  \n",
       "...                                  ...             ...  \n",
       "255877365  High-Volume For-Hire Services 0 days 00:12:13  \n",
       "255877366  High-Volume For-Hire Services 0 days 00:06:48  \n",
       "255877367  High-Volume For-Hire Services 0 days 00:32:24  \n",
       "255877368  High-Volume For-Hire Services 0 days 00:11:31  \n",
       "255877369  High-Volume For-Hire Services 0 days 00:25:26  \n",
       "\n",
       "[255877370 rows x 11 columns]"
      ]
     },
     "execution_count": 28,
     "metadata": {
      "tags": []
     },
     "output_type": "execute_result"
    }
   ],
   "source": [
    "fhvhv_19_df"
   ]
  },
  {
   "cell_type": "markdown",
   "metadata": {
    "id": "-DyGePnX6R8S"
   },
   "source": [
    "## Some quick validation"
   ]
  },
  {
   "cell_type": "code",
   "execution_count": null,
   "metadata": {
    "id": "qG0N4DCn6R8S",
    "scrolled": true
   },
   "outputs": [],
   "source": [
    "for name, df in dfs.items():\n",
    "    print('\\n\\n')\n",
    "    print(name)\n",
    "    print(df.info())"
   ]
  },
  {
   "cell_type": "markdown",
   "metadata": {
    "id": "AoImF_uU6R8U"
   },
   "source": [
    "## Finally save all these cleanish versions of the data"
   ]
  },
  {
   "cell_type": "code",
   "execution_count": null,
   "metadata": {
    "id": "PfzZr2Fs6R8V",
    "scrolled": false
   },
   "outputs": [],
   "source": [
    "def df_to_feather(df, suffix):\n",
    "    df.reset_index().drop(labels='trip_duration', axis=1, errors='ignore').to_feather(f'./Data/{get_name_of(df)}{suffix}.feather')"
   ]
  },
  {
   "cell_type": "code",
   "execution_count": null,
   "metadata": {
    "id": "EcSwQ0ag6R8X",
    "scrolled": true
   },
   "outputs": [],
   "source": [
    "def feather_all(with_suffix):\n",
    "    for name, df in dfs.items():\n",
    "        df_to_feather(df, with_suffix)"
   ]
  },
  {
   "cell_type": "code",
   "execution_count": null,
   "metadata": {
    "id": "h6CSKSxQ6R8Z"
   },
   "outputs": [],
   "source": [
    "def df_from_feather(filepath, name):\n",
    "    df = pd.read_feather(filepath).drop('index', errors='ignore')\n",
    "    df['trip_duration'] = df.dropoff_datetime - df.pickup_datetime\n",
    "    dfs[name] = df\n",
    "    return df"
   ]
  },
  {
   "cell_type": "code",
   "execution_count": null,
   "metadata": {
    "id": "zxxaF_K96R8b"
   },
   "outputs": [],
   "source": [
    "feather_all(\"\")"
   ]
  },
  {
   "cell_type": "markdown",
   "metadata": {
    "id": "6QwU6UY46R8d"
   },
   "source": [
    "## Load in cleaned feather data"
   ]
  },
  {
   "cell_type": "code",
   "execution_count": null,
   "metadata": {
    "id": "SztZhmo-6R8d",
    "outputId": "01c2cda2-8a80-440f-ddb4-784891d9d2b5"
   },
   "outputs": [
    {
     "name": "stdout",
     "output_type": "stream",
     "text": [
      "CPU times: user 844 ms, sys: 1.1 s, total: 1.94 s\n",
      "Wall time: 1.01 s\n",
      "CPU times: user 11.3 s, sys: 14.4 s, total: 25.8 s\n",
      "Wall time: 13.8 s\n",
      "CPU times: user 35.8 s, sys: 13.8 s, total: 49.6 s\n",
      "Wall time: 43.1 s\n"
     ]
    }
   ],
   "source": [
    "dfs = dict()\n",
    "%time green_19_df = df_from_feather(\"./Data/green_2019_ETL.feather\", \"Boro Taxi 2019\")\n",
    "%time yellow_19_df = df_from_feather(\"./Data/yellow_2019_ETL.feather\", \"Yellow Taxi 2019\")\n",
    "# %time fhv_19_df = df_from_feather(\"./Data/fhv_2019_ETL.feather\", \"fhv_2019\")\n",
    "%time fhvhv_19_df = df_from_feather(\"./Data/fhvhv_2019_ETL.feather\", \"For Hire Vehicle High Volume 2019\")"
   ]
  },
  {
   "cell_type": "code",
   "execution_count": null,
   "metadata": {
    "id": "G4ppbZNa6R8f"
   },
   "outputs": [],
   "source": [
    "df_properties = {\n",
    "    'Yellow Taxi 2019': {'color': 'orange'},\n",
    "    'Boro Taxi 2019': {'color': '#8CFF00'},\n",
    "    'For Hire Vehicle 2019': {'color': '#000000'},\n",
    "    'For Hire Vehicle High Volume 2019': {'color': '#000000'}\n",
    "}\n",
    "def get_df_with_name(name):\n",
    "    return dfs[name]\n",
    "\n",
    "def get_name_of(find_df):\n",
    "    for name, df in dfs.items():\n",
    "        if df is find_df:\n",
    "            return name\n",
    "    raise Exception('Sorry, this dataframe was not found in `dfs`!')\n",
    "    \n",
    "def get_color_for(df):\n",
    "    return df_properties[get_name_of(df)]['color']"
   ]
  },
  {
   "cell_type": "code",
   "execution_count": null,
   "metadata": {
    "id": "3GHnyyLz6R8i"
   },
   "outputs": [],
   "source": [
    "ETL_FILENAMES = [\n",
    "    'yellow_2019',\n",
    "    'green_2019',\n",
    "    'fhv_2019',\n",
    "    'fhvhv_2019'\n",
    "]"
   ]
  },
  {
   "cell_type": "markdown",
   "metadata": {
    "id": "BWPom3j46R8k"
   },
   "source": [
    "# Merge Frames"
   ]
  },
  {
   "cell_type": "markdown",
   "metadata": {
    "id": "51qljP2W6R8l"
   },
   "source": [
    "## Map base number to company"
   ]
  },
  {
   "cell_type": "code",
   "execution_count": null,
   "metadata": {
    "id": "aG0UeJf46R8l"
   },
   "outputs": [],
   "source": [
    "company_base_df = (fhvhv_19_df[['company', \"dispatching_base_num\"]]\n",
    "                   .drop_duplicates()\n",
    "                   .set_index('dispatching_base_num')\n",
    "                   .drop(index=np.nan))\n",
    "\n",
    "# from trip_record_user_guide.pdf\n",
    "company_base_df.index = company_base_df.index.astype('category').add_categories(['B02907', 'B02908'])\n",
    "company_base_df.loc['B02907'] = 'Juno'\n",
    "company_base_df.loc['B02908'] = 'Juno'\n",
    "\n",
    "company_base_df.company = company_base_df.company.astype(COMPANY_CATS)\n",
    "company_base_df = company_base_df.sort_values(by='company')"
   ]
  },
  {
   "cell_type": "code",
   "execution_count": null,
   "metadata": {
    "id": "EdttQIxv6R8n"
   },
   "outputs": [],
   "source": [
    "company_base_df.reset_index().drop('index', axis=1, errors='ignore').to_feather('./Data/company_base.feather')"
   ]
  },
  {
   "cell_type": "code",
   "execution_count": null,
   "metadata": {
    "id": "uxqNbHJD6R8p",
    "scrolled": true
   },
   "outputs": [],
   "source": [
    "company_base_df = pd.read_feather('./Data/company_base.feather').set_index('dispatching_base_num')"
   ]
  },
  {
   "cell_type": "code",
   "execution_count": null,
   "metadata": {
    "id": "aYebzp046R8r"
   },
   "outputs": [],
   "source": [
    "company_base_df.company = company_base_df.company.astype(COMPANY_CATS)"
   ]
  },
  {
   "cell_type": "markdown",
   "metadata": {
    "id": "v5rJpMH-6R8v"
   },
   "source": [
    "## Merge Jan FHV with FHVHV"
   ]
  },
  {
   "cell_type": "code",
   "execution_count": null,
   "metadata": {
    "id": "hMEBe96C6R8v",
    "scrolled": true
   },
   "outputs": [],
   "source": [
    "fhv_jan_19_df = fhv_19_df.merge(company_base_df, left_on='dispatching_base_num', right_index=True)\n",
    "\n",
    "if not (fhvhv_19_df.month == 'Jan').sum():\n",
    "    fhvhv_19_df = fhvhv_19_df.append(fhv_jan_19_df)\n",
    "\n",
    "fhvhv_19_df['license_type'] = 'High-Volume For-Hire Services'\n",
    "fhvhv_19_df.license_type = fhvhv_19_df.license_type.astype(LICENSE_CATS)"
   ]
  },
  {
   "cell_type": "code",
   "execution_count": null,
   "metadata": {
    "id": "gXU5BduL6R8x",
    "scrolled": true
   },
   "outputs": [],
   "source": [
    "fhvhv_19_df.name = \"fhvhv_2019\"\n",
    "df_to_feather(fhvhv_19_df, \"incl_Jan\")"
   ]
  },
  {
   "cell_type": "markdown",
   "metadata": {
    "id": "zF7tdEh_6R8z"
   },
   "source": [
    "## Feather once again"
   ]
  },
  {
   "cell_type": "code",
   "execution_count": null,
   "metadata": {
    "id": "2IeiAom56R80"
   },
   "outputs": [],
   "source": [
    "feather_all(\"_ETL\")"
   ]
  },
  {
   "cell_type": "markdown",
   "metadata": {
    "id": "Ek6Pi7Ct6R82"
   },
   "source": [
    "# Anomalies and outliers"
   ]
  },
  {
   "cell_type": "markdown",
   "metadata": {
    "id": "samfDWvF6R82"
   },
   "source": [
    "## See overall patterns in the data with a parallel axes plot"
   ]
  },
  {
   "cell_type": "code",
   "execution_count": null,
   "metadata": {
    "id": "0jG02lsu6R82",
    "scrolled": true
   },
   "outputs": [],
   "source": [
    "def parallel_coords_plot(df, category):\n",
    "    \n",
    "    MAX_SAMPLES = 300\n",
    "    COLORS = (\n",
    "        '#ff5722',\n",
    "        '#0f4c75',\n",
    "        '#c3aed6',\n",
    "        '#6e6d6d',\n",
    "        '#fbd46d',\n",
    "        '#fa26a0',\n",
    "        '#81b214',\n",
    "        '#00b7c2'\n",
    "    )\n",
    "\n",
    "    if not isinstance(df[category].dtype, pd.CategoricalDtype):\n",
    "        raise ValueError(\"Category key was not found to be a pd.CategoricalDtype\")\n",
    "\n",
    "    uniques = df[category].unique()\n",
    "    \n",
    "    scaler = preprocessing.MinMaxScaler()\n",
    "    \n",
    "    cats_to_sample = [val for val in uniques if (df[df[category] == val].shape[0] > MAX_SAMPLES)]\n",
    "    \n",
    "    unsampled_df = df[~df[category].isin(cats_to_sample)].sample(frac=1)\n",
    "    \n",
    "    resampled_df = pd.concat(\n",
    "        [df[df[category] == cat].sample(n=MAX_SAMPLES) for cat in cats_to_sample],\n",
    "        axis=0, \n",
    "        join='outer'\n",
    "    )\n",
    "    \n",
    "    numeric_attributes = [attr for attr in df.columns \n",
    "                          if (is_numeric_dtype(df[attr]) \n",
    "                              and (np.nan not in df[attr].value_counts(normalize=True, dropna=False).index \n",
    "                                   or df[attr].value_counts(normalize=True, dropna=False)[np.nan] < 0.5\n",
    "                                  )\n",
    "                             )\n",
    "                         ]\n",
    "    \n",
    "    numeric_unsampled_df = unsampled_df[numeric_attributes]\n",
    "    numeric_resampled_df = resampled_df[numeric_attributes]\n",
    "    \n",
    "#     return numeric_unsampled_df, numeric_resampled_df, df[numeric_attributes]\n",
    "    scaler.fit(df[numeric_attributes])\n",
    "    if 0 not in numeric_unsampled_df.shape: \n",
    "        unsampled_df[numeric_attributes] = scaler.transform(numeric_unsampled_df)\n",
    "    if 0 not in numeric_resampled_df.shape:\n",
    "        resampled_df[numeric_attributes] = scaler.transform(numeric_resampled_df)\n",
    "    \n",
    "    fig, rates_pcp_ax = plt.subplots()\n",
    "\n",
    "    rates_pcp_ax = pd.plotting.parallel_coordinates(pd.concat([unsampled_df, resampled_df]), \n",
    "                                                    category, \n",
    "                                                    color=COLORS,\n",
    "                                                    cols=numeric_attributes,\n",
    "                                                    ax=rates_pcp_ax\n",
    "                                                   )\n",
    "\n",
    "    labels = rates_pcp_ax.get_xticklabels()\n",
    "    plt.setp(labels, rotation=45, horizontalalignment='right')\n",
    "    rates_pcp_ax.set_title(f\"{category.capitalize()} ({get_name_of(df)})\", fontsize=30)\n",
    "    rates_pcp_ax.set(xlabel='Attribute', ylabel='Normalised Value')\n",
    "    rates_pcp_ax.legend(loc='center left', bbox_to_anchor=(1,1))\n",
    "    fig.set_facecolor('white')\n",
    "\n",
    "    fig.tight_layout()\n",
    "    fig.savefig(f\"./Figures/{category}_pcp_{get_name_of(df)}_{datetime.now()}.png\", pad=1)\n",
    "\n",
    "    return fig"
   ]
  },
  {
   "cell_type": "code",
   "execution_count": null,
   "metadata": {
    "id": "Ni0_pcwb6R84",
    "scrolled": true
   },
   "outputs": [],
   "source": [
    "yellow_ratecode_pcp = parallel_coords_plot(yellow_19_df, 'ratecode')"
   ]
  },
  {
   "cell_type": "code",
   "execution_count": null,
   "metadata": {
    "id": "rN16oj4H6R88",
    "scrolled": true
   },
   "outputs": [],
   "source": [
    "yellow_vendor_pcp = parallel_coords_plot(yellow_19_df, 'vendor')\n",
    "yellow_vendor_pcp"
   ]
  },
  {
   "cell_type": "code",
   "execution_count": null,
   "metadata": {
    "id": "kPC42U9c6R8-",
    "scrolled": true
   },
   "outputs": [],
   "source": [
    "yellow_DOLocation_pcp = parallel_coords_plot(yellow_19_df, 'DOLocationID')\n",
    "yellow_DOLocation_pcp"
   ]
  },
  {
   "cell_type": "code",
   "execution_count": null,
   "metadata": {
    "id": "Lk5F5m3J6R9A",
    "scrolled": true
   },
   "outputs": [],
   "source": [
    "yellow_PULocation_pcp = parallel_coords_plot(yellow_19_df, 'PULocationID')\n",
    "yellow_PULocation_pcp"
   ]
  },
  {
   "cell_type": "code",
   "execution_count": null,
   "metadata": {
    "id": "7ctG74PI6R9C"
   },
   "outputs": [],
   "source": [
    "yellow_payment_pcp = parallel_coords_plot(yellow_19_df, 'payment_type')\n",
    "yellow_payment_pcp"
   ]
  },
  {
   "cell_type": "code",
   "execution_count": null,
   "metadata": {
    "id": "8O6C05PC6R9G"
   },
   "outputs": [],
   "source": [
    "def plot_all_parallel_coords_for(df):\n",
    "    plots = []\n",
    "    categoricals = [attribute for attribute in yellow_19_df.columns if isinstance(df[attribute].dtype, CategoricalDtype)] \n",
    "    for category in categoricals:\n",
    "        plots.append(parallel_coords_plot(df, category))\n",
    "    return plots"
   ]
  },
  {
   "cell_type": "markdown",
   "metadata": {
    "id": "NwBa2U5b6R9K"
   },
   "source": [
    "## Graphs distributions to find outliers & anomalies"
   ]
  },
  {
   "cell_type": "code",
   "execution_count": null,
   "metadata": {
    "id": "ihkp-51R6R9K"
   },
   "outputs": [],
   "source": [
    "yellow_19_df.passenger_count = yellow_19_df.passenger_count.fillna(0.0).astype('int')"
   ]
  },
  {
   "cell_type": "markdown",
   "metadata": {
    "id": "10l_5hzT6R9L"
   },
   "source": [
    "### Plot the count distributions"
   ]
  },
  {
   "cell_type": "code",
   "execution_count": null,
   "metadata": {
    "id": "fjue-Mbo6R9M"
   },
   "outputs": [],
   "source": [
    "def plot_int_val_hist(dfs, int_attribute, log=False):\n",
    "    \n",
    "    fig, axes = plt.subplots(ncols=len(dfs))\n",
    "    \n",
    "    for i, df in enumerate(dfs):\n",
    "    \n",
    "        print(df[int_attribute].value_counts(normalize=True, dropna=False))\n",
    "        \n",
    "        max_val = np.max(df[int_attribute].fillna(0).astype('int').unique())\n",
    "        axes[i-1].hist(df[int_attribute].fillna(0).astype('int'),\n",
    "                       density=True, \n",
    "                       log=log, \n",
    "                       bins=range(max_val+2), \n",
    "                       align='left', \n",
    "                       rwidth=0.8,\n",
    "                       color=get_color_for(df),\n",
    "                       label=[str(i) for i in range(max_val)]\n",
    "                      )\n",
    "        \n",
    "        attribute = int_attribute.replace('_', ' ').capitalize()\n",
    "        axes[i-1].set_title(f\"{attribute} distribution ({get_name_of(df)})\", fontsize=15, pad=12)\n",
    "        axes[i-1].set_xlabel(f'{attribute} per trip')\n",
    "        axes[i-1].set_ylabel('proportion of trips')\n",
    "        axes[i-1].set_xticks(range(max_val+1))\n",
    "        axes[i-1].grid(which='major', axis='y')\n",
    "    \n",
    "    fig.set_figheight(8)\n",
    "    fig.set_figheight(5)\n",
    "    fig.tight_layout()\n",
    "    fig.savefig(f\"./Figures/{int_attribute}_dist_{datetime.now()}.png\", pad=10)\n",
    "    return fig"
   ]
  },
  {
   "cell_type": "code",
   "execution_count": null,
   "metadata": {
    "id": "Q3SC413O6R9N"
   },
   "outputs": [],
   "source": [
    "passenger_dist = plot_int_val_hist([yellow_19_df, green_19_df], 'passenger_count', log=True)"
   ]
  },
  {
   "cell_type": "markdown",
   "metadata": {
    "id": "38WeL4rE6R9O"
   },
   "source": [
    "## Plot categorical distributions to find irregularities"
   ]
  },
  {
   "cell_type": "code",
   "execution_count": null,
   "metadata": {
    "id": "3E5nPRqU6R9P"
   },
   "outputs": [],
   "source": [
    "sns.set(style='darkgrid')\n",
    "def plot_count_cat(dfs, category, exp_scale=False, log_xform=False, normalize=False, vertical=False):\n",
    "    \n",
    "    fig, axes = plt.subplots()\n",
    "\n",
    "    print(\"\\n\\n\" + get_name_of(df))\n",
    "    print(df[category].value_counts(normalize=normalize, dropna=False))\n",
    "\n",
    "    categories = df[category].value_counts(normalize=normalize, dropna=False)\n",
    "    category_index = categories.index\n",
    "    category_counts = categories.apply(logify).values if log_xform else categories.values\n",
    "\n",
    "    order = category_index.sort_values() if (is_numeric_dtype(category_index.dtype)\n",
    "                                             or category_index.ordered\n",
    "                                            ) else category_index\n",
    "\n",
    "    width = len(category_index)*0.6 + 6\n",
    "\n",
    "    sns.barplot(x=category_index.values, \n",
    "                y=categories,\n",
    "                order=order,\n",
    "                color=get_color_for(df),\n",
    "                saturation=1,\n",
    "                ax=ax)\n",
    "\n",
    "    ax.grid(True, which='both', axis='y')\n",
    "\n",
    "    scale = 'log' if exp_scale else 'linear'\n",
    "    ax.set_yscale(scale)\n",
    "\n",
    "    ax.minorticks_on()\n",
    "    ax.tick_params(axis='y', \n",
    "                   which=\"both\", \n",
    "                   left=True, \n",
    "                   pad=10, \n",
    "                   color='gray', \n",
    "                   direction='out', \n",
    "                   length=5, width=0.5)\n",
    "    ax.yaxis.grid(True)       \n",
    "#         ax.xaxis.set_minor_locator(ticker.AutoMinorLocator(8))\n",
    "    ax.xaxis.set_minor_locator(ticker.LogLocator(base=10.0, numticks=3, subs='auto'))\n",
    "\n",
    "    # labels \n",
    "    ax.set_title(f'{category.replace(\"_\", \" \").capitalize()} {get_name_of(df)}', fontsize=15)\n",
    "    num_prop = 'proportion' if normalize else 'number'\n",
    "    ax.set_ylabel(f\"{num_prop} of trips\")\n",
    "    ax.set_xlabel(category.capitalize().replace('_', ' '))\n",
    "    ax.set_xticklabels(order, rotation=45, ha='right')\n",
    "    sns.despine(trim=False, left=False)\n",
    "\n",
    "\n",
    "    fig.set_figheight(5)\n",
    "    fig.set_figwidth(width)\n",
    "    fig.tight_layout()\n",
    "    fig.savefig(f\"./Figures/{category}_dist_{datetime.now()}.png\", pad=10)\n",
    "    return fig"
   ]
  },
  {
   "cell_type": "code",
   "execution_count": null,
   "metadata": {
    "id": "Cd2UpdXv6R9Q"
   },
   "outputs": [],
   "source": [
    "# sns.set_style(\"ticks\", {\"xtick.minor.size\":8, \"ytick.minor.size\":8})\n",
    "sns.set(style='darkgrid')\n",
    "def plot_bar_cat_counts(dfs, category, exp_scale=False, log_xform=False, normalize=False, vertical=False, verbose=False):\n",
    "    \n",
    "    if vertical: \n",
    "        ncols = 1\n",
    "        nrows = len(dfs)\n",
    "    else:\n",
    "        ncols =len(dfs)\n",
    "        nrows = 1\n",
    "    \n",
    "    fig, axes = plt.subplots(ncols=ncols, nrows=nrows, sharey=not vertical)\n",
    "    \n",
    "    for i, df in enumerate(dfs):\n",
    "        \n",
    "        ax = axes[i-1] if len(dfs) > 1 else axes\n",
    "        \n",
    "        if verbose:\n",
    "            print(\"\\n\\n\" + get_name_of(df))\n",
    "            print(df[category].value_counts(normalize=normalize, dropna=False))\n",
    "        \n",
    "        categories = df[category].value_counts(normalize=normalize, dropna=False)\n",
    "        category_index = categories.index\n",
    "        category_counts = categories.apply(logify).values if log_xform else categories.values\n",
    "        \n",
    "        order = category_index.sort_values() if (is_numeric_dtype(category_index.dtype)\n",
    "                                                 or category_index.ordered\n",
    "                                                ) else category_index\n",
    "        \n",
    "        width = len(category_index)*0.6 + 6\n",
    "        \n",
    "        sns.barplot(x=category_index.values, \n",
    "                    y=categories,\n",
    "                    order=order,\n",
    "                    color=get_color_for(df),\n",
    "                    saturation=1,\n",
    "                    ax=ax)\n",
    "        \n",
    "        ax.grid(True, which='both', axis='y')\n",
    "\n",
    "        scale = 'log' if exp_scale else 'linear'\n",
    "        ax.set_yscale(scale)\n",
    "        \n",
    "        ax.minorticks_on()\n",
    "        ax.tick_params(axis='y', \n",
    "                       which=\"both\", \n",
    "                       left=True, \n",
    "                       pad=10, \n",
    "                       color='gray', \n",
    "                       direction='out', \n",
    "                       length=5, width=0.5)\n",
    "        ax.yaxis.grid(True)       \n",
    "#         ax.xaxis.set_minor_locator(ticker.AutoMinorLocator(8))\n",
    "        ax.xaxis.set_minor_locator(ticker.LogLocator(base=10.0, numticks=3, subs='auto'))\n",
    " \n",
    "        # labels \n",
    "        ax.set_title(f'{category.replace(\"_\", \" \").capitalize()} {get_name_of(df)}', fontsize=15, pad=12)\n",
    "        num_prop = 'proportion' if normalize else 'number'\n",
    "        ax.set_ylabel(f\"{num_prop} of trips\", labelpad=10)\n",
    "        ax.set_xlabel(category.capitalize().replace('_', ' '))\n",
    "        ax.set_xticklabels(order, rotation=45, ha='right')\n",
    "        sns.despine(trim=False, left=False)\n",
    "\n",
    "            \n",
    "    fig.set_figheight(5)\n",
    "    fig.set_figwidth(width)\n",
    "    fig.tight_layout()\n",
    "    fig.savefig(f\"./Figures/{category}_dist_{datetime.now()}.png\", pad=10)\n",
    "    return fig"
   ]
  },
  {
   "cell_type": "code",
   "execution_count": null,
   "metadata": {
    "id": "9RCmXokY6R9R"
   },
   "outputs": [],
   "source": [
    "def plot_bar_plots_for(dfs, normalize=False, all_cats=False, include=[], exclude=[], verbose=False):\n",
    "    \n",
    "    plot_dict = dict()\n",
    "    \n",
    "    common_attrs = pd.Index([])\n",
    "    for i, df in enumerate(dfs):\n",
    "        if i == 1:\n",
    "            common_attrs = df.columns.drop_duplicates()\n",
    "        else:\n",
    "            common_attrs.intersection(df.columns).drop_duplicates()\n",
    "    \n",
    "    for attr in common_attrs:\n",
    "        if ((attr not in exclude) \n",
    "            and ((all_cats and isinstance(df[attr].dtype, pd.CategoricalDtype)) \n",
    "                 or attr in include)): \n",
    "            category = attr\n",
    "            plot_dict[category] = plot_bar_cat_counts(dfs, category, normalize=normalize, exp_scale=True, verbose=verbose)\n",
    "            \n",
    "    plt.close('all')\n",
    "    return plot_dict"
   ]
  },
  {
   "cell_type": "code",
   "execution_count": null,
   "metadata": {
    "id": "5S6V31Ex6R9T",
    "outputId": "7a142c91-af2d-49f4-fd83-787080ba704e",
    "scrolled": true
   },
   "outputs": [
    {
     "name": "stderr",
     "output_type": "stream",
     "text": [
      "/usr/local/lib/python3.6/dist-packages/ipykernel_launcher.py:68: MatplotlibDeprecationWarning: savefig() got unexpected keyword argument \"pad\" which is no longer supported as of 3.3 and will become an error two minor releases later\n",
      "/usr/local/lib/python3.6/dist-packages/ipykernel_launcher.py:68: MatplotlibDeprecationWarning: savefig() got unexpected keyword argument \"pad\" which is no longer supported as of 3.3 and will become an error two minor releases later\n",
      "/usr/local/lib/python3.6/dist-packages/ipykernel_launcher.py:68: MatplotlibDeprecationWarning: savefig() got unexpected keyword argument \"pad\" which is no longer supported as of 3.3 and will become an error two minor releases later\n",
      "/usr/local/lib/python3.6/dist-packages/ipykernel_launcher.py:68: MatplotlibDeprecationWarning: savefig() got unexpected keyword argument \"pad\" which is no longer supported as of 3.3 and will become an error two minor releases later\n",
      "/usr/local/lib/python3.6/dist-packages/ipykernel_launcher.py:68: MatplotlibDeprecationWarning: savefig() got unexpected keyword argument \"pad\" which is no longer supported as of 3.3 and will become an error two minor releases later\n"
     ]
    }
   ],
   "source": [
    "plot_dict_yg_norm = plot_bar_plots_for([yellow_19_df, green_19_df], \n",
    "                                       normalize=True,\n",
    "                                       include=[\n",
    "                                           'congestion_surcharge',\n",
    "                                           'mta_tax',\n",
    "                                           'improvement_surcharge',\n",
    "                                           'payment_type',\n",
    "                                           'vendor'\n",
    "                                       ])"
   ]
  },
  {
   "cell_type": "code",
   "execution_count": null,
   "metadata": {
    "id": "O0U39r5y6R9V",
    "outputId": "fda2bb7f-ce84-40c5-8582-eddcd940cc0b",
    "scrolled": true
   },
   "outputs": [
    {
     "name": "stderr",
     "output_type": "stream",
     "text": [
      "/usr/local/lib/python3.6/dist-packages/ipykernel_launcher.py:68: MatplotlibDeprecationWarning: savefig() got unexpected keyword argument \"pad\" which is no longer supported as of 3.3 and will become an error two minor releases later\n",
      "/usr/local/lib/python3.6/dist-packages/ipykernel_launcher.py:68: MatplotlibDeprecationWarning: savefig() got unexpected keyword argument \"pad\" which is no longer supported as of 3.3 and will become an error two minor releases later\n"
     ]
    }
   ],
   "source": [
    "plot_dict_yg_counts = plot_bar_plots_for([yellow_19_df, green_19_df], \n",
    "                               normalize=False,\n",
    "                               include=[\n",
    "                                   'ratecode',\n",
    "                                   'passenger_count'\n",
    "                               ])"
   ]
  },
  {
   "cell_type": "code",
   "execution_count": null,
   "metadata": {
    "id": "KZhu35BZ6R9X",
    "outputId": "2c257434-bd34-417d-ada9-fb963a9590c1"
   },
   "outputs": [
    {
     "name": "stderr",
     "output_type": "stream",
     "text": [
      "/usr/local/lib/python3.6/dist-packages/ipykernel_launcher.py:68: MatplotlibDeprecationWarning: savefig() got unexpected keyword argument \"pad\" which is no longer supported as of 3.3 and will become an error two minor releases later\n",
      "/usr/local/lib/python3.6/dist-packages/ipykernel_launcher.py:68: MatplotlibDeprecationWarning: savefig() got unexpected keyword argument \"pad\" which is no longer supported as of 3.3 and will become an error two minor releases later\n",
      "/usr/local/lib/python3.6/dist-packages/ipykernel_launcher.py:68: MatplotlibDeprecationWarning: savefig() got unexpected keyword argument \"pad\" which is no longer supported as of 3.3 and will become an error two minor releases later\n",
      "/usr/local/lib/python3.6/dist-packages/ipykernel_launcher.py:68: MatplotlibDeprecationWarning: savefig() got unexpected keyword argument \"pad\" which is no longer supported as of 3.3 and will become an error two minor releases later\n",
      "/usr/local/lib/python3.6/dist-packages/ipykernel_launcher.py:68: MatplotlibDeprecationWarning: savefig() got unexpected keyword argument \"pad\" which is no longer supported as of 3.3 and will become an error two minor releases later\n"
     ]
    }
   ],
   "source": [
    "plot_dict_all = plot_bar_plots_for(\n",
    "    [yellow_19_df, green_19_df, fhvhv_19_df],\n",
    "    normalize = False,\n",
    "    include = [\n",
    "        'license_type',\n",
    "        'company', \n",
    "        'month', \n",
    "        'SR_Flag', \n",
    "        'DOLocationID', \n",
    "        'PULocationID'\n",
    "    ]\n",
    ")"
   ]
  },
  {
   "cell_type": "code",
   "execution_count": null,
   "metadata": {
    "id": "SKXmLxuL6R9Z"
   },
   "outputs": [],
   "source": [
    "yellow_19_df.info()"
   ]
  },
  {
   "cell_type": "code",
   "execution_count": null,
   "metadata": {
    "id": "OauvcD-b6R9a"
   },
   "outputs": [],
   "source": [
    "nyc_taxi_df = pd.concat([yellow_19_df, green_19_df], axis=0).drop('index', axis=1)"
   ]
  },
  {
   "cell_type": "code",
   "execution_count": null,
   "metadata": {
    "id": "-jzKcqQW6R9b"
   },
   "outputs": [],
   "source": [
    "tlc_19.company = tlc_19.company.astype(COMPANY_CATS)"
   ]
  },
  {
   "cell_type": "code",
   "execution_count": null,
   "metadata": {
    "id": "iWfG471w6R9d"
   },
   "outputs": [],
   "source": [
    "COMPANY_COLOURS = {\n",
    "    'Uber': '#000000',\n",
    "    'Lyft': '#FF00BF',\n",
    "    'Via': '#00B7E8',\n",
    "    'Juno': '#234F9D',\n",
    "    'Yellow': '#FEC63F',\n",
    "    'Green': '#8CFF00'\n",
    "}\n",
    "\n",
    "LICENSE_COLOURS = {\n",
    "    'High-Volume For-Hire Services': '#000000',\n",
    "    'Street Hail Liveries': '#8CFF00',\n",
    "    'Medallion': '#FEC63F'\n",
    "}"
   ]
  },
  {
   "cell_type": "code",
   "execution_count": null,
   "metadata": {
    "id": "vIlCmjby6R9f"
   },
   "outputs": [],
   "source": [
    "months_count_fig, months_count_ax = plt.subplots()\n",
    "sns.countplot(x='month', hue='license_type', data=tlc_19, ax=months_count_ax, palette=LICENSE_COLOURS, saturation=1.0)"
   ]
  },
  {
   "cell_type": "code",
   "execution_count": null,
   "metadata": {
    "id": "jfJyrnp-6R9g"
   },
   "outputs": [],
   "source": [
    "months_count_ax.set_ylabel(\"Number of trips\")\n",
    "months_count_ax.set_title(f'Rides per month by license type 2019', fontsize='xx-large')\n",
    "months_count_fig.tight_layout()"
   ]
  },
  {
   "cell_type": "code",
   "execution_count": null,
   "metadata": {
    "id": "wQcg_VK46R9h"
   },
   "outputs": [],
   "source": [
    "months_count_fig."
   ]
  },
  {
   "cell_type": "markdown",
   "metadata": {
    "id": "Ab-WBSOj6R9j"
   },
   "source": [
    "## Plot distribution of continuous attributes to find irregularities"
   ]
  },
  {
   "cell_type": "code",
   "execution_count": null,
   "metadata": {
    "id": "TxoOe1gE6R9j"
   },
   "outputs": [],
   "source": [
    "df_yellow_19_feb.drop(df_yellow_19_feb[df_yellow_19_feb.fare_amount > df_yellow_19_feb.fare_amount.quantile(0.99999)].index, inplace=True)\n",
    "\n",
    "def plot_continuous_violin_dists(df, all_continuous=False, include=[], exclude=[]):"
   ]
  },
  {
   "cell_type": "code",
   "execution_count": null,
   "metadata": {
    "id": "8B1sZikS6R9l",
    "scrolled": true
   },
   "outputs": [],
   "source": [
    "def plot_continuous_violin_dist(df, attribute, given=None):\n",
    "    \n",
    "    unique_categories = df[given].unique() if given else [None]\n",
    "    \n",
    "    fig, axes = plt.subplots(nrows=len(unique_categories) if given else 1, sharex=False)\n",
    "\n",
    "    for i, category_value in enumerate(unique_categories):\n",
    "\n",
    "        ax = axes[i-1] if len(unique_categories) >= 1 else axes\n",
    "        df_given_category = df[df[given] == category_value]\n",
    "        \n",
    "        sns.violinplot(x=df_given_category[attribute], ax=ax, inner='quartile', color=get_color_for(df))\n",
    "        ax.set_title(category_value.capitalize(), loc='left', y=0.5, x=-10)\n",
    "        ax.set_xlabel(attribute.replace('_', ' ').capitalize())\n",
    "\n",
    "    attribute_str = attribute.replace('_', ' ').capitalize()\n",
    "    fig_title = (f'{attribute_str} distribution by {given} value' \n",
    "                 if given else f'{attribute_str} distribution')\n",
    "    \n",
    "    fig.suptitle(fig_title, fontsize=20)\n",
    "    fig.set_figheight=len(unique_categories)*1\n",
    "    fig.tight_layout()\n",
    "    fig.savefig(f'./Figures/{fig_title}.png')\n",
    "    \n",
    "    return fig"
   ]
  },
  {
   "cell_type": "code",
   "execution_count": null,
   "metadata": {
    "id": "IYlLkVNj6R9n"
   },
   "outputs": [],
   "source": [
    "fare_amount_dist_fig = plot_continuous_violin_dist(yellow_19_df, 'fare_amount', given='ratecode')"
   ]
  },
  {
   "cell_type": "code",
   "execution_count": null,
   "metadata": {
    "id": "ieAzvjPZ6R9q"
   },
   "outputs": [],
   "source": [
    "fare_amount_dist_fig.set_figheight(10)\n",
    "fare_amount_dist_fig.set_figwidth(15)\n",
    "fare_amount_dist_fig.tight_layout()"
   ]
  },
  {
   "cell_type": "code",
   "execution_count": null,
   "metadata": {
    "id": "waCfyveX6R9s"
   },
   "outputs": [],
   "source": [
    "fare_amount_dist_fig.savefig('./Figures/fare_amount_dist.png')"
   ]
  },
  {
   "cell_type": "code",
   "execution_count": null,
   "metadata": {
    "id": "OZ2Pq86w6R9t"
   },
   "outputs": [],
   "source": [
    "nyc_taxi_df.license_type"
   ]
  },
  {
   "cell_type": "code",
   "execution_count": null,
   "metadata": {
    "id": "KBXAxAiu6R9v"
   },
   "outputs": [],
   "source": [
    "fare_amount_fig, ax = plt.subplots()\n",
    "df = nyc_taxi_df\n",
    "# df.license_type.cat.remove_categories('High-Volume For-Hire Services', inplace=True)\n",
    "df.license_type.cat"
   ]
  },
  {
   "cell_type": "code",
   "execution_count": null,
   "metadata": {
    "id": "RpIbmR9s6R9y"
   },
   "outputs": [],
   "source": [
    "ax = sns.violinplot(x='ratecode', \n",
    "                    y='fare_amount', \n",
    "                    hue='license_type',\n",
    "                    hue_order=['Medallion', 'Street Hail Liveries'],\n",
    "                    data=df, \n",
    "                    split=True,\n",
    "                    scale='width',\n",
    "                    scale_hue=False,\n",
    "                    palette=[get_color_for(yellow_19_df), get_color_for(green_19_df)],\n",
    "                    inner='box', \n",
    "                    orient='v', \n",
    "                    ax=ax)"
   ]
  },
  {
   "cell_type": "code",
   "execution_count": null,
   "metadata": {
    "id": "4Z9PL6ZB6R96"
   },
   "outputs": [],
   "source": [
    "fare_amount_fig.tight_layout()"
   ]
  },
  {
   "cell_type": "code",
   "execution_count": null,
   "metadata": {
    "id": "Nd_nx6xL6R97"
   },
   "outputs": [],
   "source": [
    "fare_amount_fig.axes[0].set_title(\"Fare amount by metered rate\", fontsize='xx-large')"
   ]
  },
  {
   "cell_type": "code",
   "execution_count": null,
   "metadata": {
    "id": "opJNTXxO6R98"
   },
   "outputs": [],
   "source": [
    "fare_amount_fig.savefig('./Figures/Fare_amount_cleaned_dist.png', pad=4)"
   ]
  },
  {
   "cell_type": "code",
   "execution_count": null,
   "metadata": {
    "id": "1OC6nigV6R9_"
   },
   "outputs": [],
   "source": [
    "fare_amount_yg_comparison_fig, fare_amount_yg_comparison_ax = plt.subplots()"
   ]
  },
  {
   "cell_type": "markdown",
   "metadata": {
    "id": "5AKTPf5z6R-B"
   },
   "source": [
    "# Cleaning"
   ]
  },
  {
   "cell_type": "code",
   "execution_count": null,
   "metadata": {
    "id": "fpQDYYdZ6R-B",
    "scrolled": true
   },
   "outputs": [],
   "source": [
    "def cleanse_fare(df):\n",
    "    \n",
    "    # drop top 0.001% quantile ~.>$200\n",
    "    df.drop(index=df[df.fare_amount > df.fare_amount.quantile(0.9999)].index, inplace=True)\n",
    "\n",
    "    negative_fare = df[(df.fare_amount < 0)].index\n",
    "    df.drop(index=negative_fare, axis=0, inplace=True)\n",
    "    \n",
    "    bad_jfk = df[(df.ratecode == 'JFK')&(df.fare_amount < 52.0)&(df.trip_distance < 14)].index\n",
    "    df.drop(index=bad_jfk, inplace=True)\n",
    "\n",
    "    no_go = df[(df.fare_amount == 0)&(df.trip_distance == 0.0)].index\n",
    "    df.drop(index=no_go, inplace=True)\n",
    "\n",
    "    return df"
   ]
  },
  {
   "cell_type": "code",
   "execution_count": null,
   "metadata": {
    "id": "vd_dgjDS6R-C",
    "scrolled": true
   },
   "outputs": [],
   "source": [
    "def cleanse_trip_distance(df):\n",
    "    \n",
    "    negative_dists = df[df.trip_distance < 0].index\n",
    "    df.drop(index=negative_dists, inplace=True)\n",
    "    \n",
    "    too_high = df[df.trip_distance > df.trip_distance.quantile(0.99999)].index\n",
    "    df.drop(index=too_high, inplace=True)\n",
    "    \n",
    "    return df"
   ]
  },
  {
   "cell_type": "code",
   "execution_count": null,
   "metadata": {
    "id": "yW80n_yO6R-D"
   },
   "outputs": [],
   "source": [
    "def cleanse_trip_duration(df):\n",
    "    \n",
    "    index_names = df.index.names\n",
    "    if None not in index_names:\n",
    "        df = df.reset_index()\n",
    "    \n",
    "    df = df.drop(\n",
    "        index=(\n",
    "            df[\n",
    "                (\n",
    "                    ((df.trip_duration) > np.timedelta64(3, 'h')) \n",
    "                    | (df.trip_duration < np.timedelta64(0, 's'))\n",
    "                )\n",
    "            ].index\n",
    "        )\n",
    "    )\n",
    "    \n",
    "    if None not in index_names:\n",
    "        df = df.set_index(index_names)\n",
    "    \n",
    "    return df"
   ]
  },
  {
   "cell_type": "code",
   "execution_count": null,
   "metadata": {
    "id": "XjzpOGAA6R-N",
    "outputId": "48fac11c-4ac5-48f6-cf26-48183d556488"
   },
   "outputs": [
    {
     "name": "stdout",
     "output_type": "stream",
     "text": [
      "\n",
      "\n",
      "Boro Taxi 2019\n",
      "CPU times: user 3.84 s, sys: 797 ms, total: 4.64 s\n",
      "Wall time: 4.58 s\n",
      "CPU times: user 1.85 s, sys: 428 ms, total: 2.28 s\n",
      "Wall time: 2.26 s\n",
      "CPU times: user 873 ms, sys: 217 ms, total: 1.09 s\n",
      "Wall time: 1.09 s\n",
      "\n",
      "\n",
      "Yellow Taxi 2019\n",
      "CPU times: user 1min 28s, sys: 11.5 s, total: 1min 39s\n",
      "Wall time: 1min 39s\n",
      "CPU times: user 40.4 s, sys: 4.79 s, total: 45.1 s\n",
      "Wall time: 44.9 s\n",
      "CPU times: user 19.2 s, sys: 2 s, total: 21.2 s\n",
      "Wall time: 21.2 s\n",
      "CPU times: user 2min 34s, sys: 19.7 s, total: 2min 54s\n",
      "Wall time: 2min 53s\n"
     ]
    }
   ],
   "source": [
    "%%time\n",
    "for name in dfs.keys():\n",
    "    if 'For Hire' not in name:\n",
    "        print('\\n\\n' + name)\n",
    "        %time dfs[name] = cleanse_fare(dfs[name])\n",
    "        %time dfs[name] = cleanse_trip_distance(dfs[name])\n",
    "        %time dfs[name] = cleanse_trip_duration(dfs[name])"
   ]
  },
  {
   "cell_type": "code",
   "execution_count": null,
   "metadata": {
    "id": "3_4r_Cj86R-Q"
   },
   "outputs": [],
   "source": [
    "fhvhv_19_df = cleanse_trip_duration(fhvhv_19_df)\n",
    "dfs['For Hire Vehicle High Volume 2019'] = fhvhv_19_df"
   ]
  },
  {
   "cell_type": "code",
   "execution_count": null,
   "metadata": {
    "id": "2LEMOqB56R-R",
    "scrolled": true
   },
   "outputs": [],
   "source": [
    "yellow_19_df = dfs['Yellow Taxi 2019']\n",
    "green_19_df = dfs['Boro Taxi 2019']\n",
    "fhvhv_19_df = dfs['For Hire Vehicle High Volume 2019']"
   ]
  },
  {
   "cell_type": "code",
   "execution_count": null,
   "metadata": {
    "id": "ENXto6f06R-S"
   },
   "outputs": [],
   "source": [
    "nyc_taxi_df = pd.concat([dfs['Yellow Taxi 2019'], dfs['Boro Taxi 2019']], axis=0).drop('index', axis=1)\n",
    "\n",
    "dfs['NYC Taxi 2019'] = nyc_taxi_df"
   ]
  },
  {
   "cell_type": "code",
   "execution_count": null,
   "metadata": {
    "id": "1uSGwyaq6R-T"
   },
   "outputs": [],
   "source": [
    "tlc_19 = pd.concat([\n",
    "    dfs['For Hire Vehicle High Volume 2019'].reset_index(),\n",
    "    dfs['NYC Taxi 2019'].reset_index()\n",
    "], axis=0, join='inner')\n",
    "dfs['TLC 2019'] = tlc_19"
   ]
  },
  {
   "cell_type": "code",
   "execution_count": null,
   "metadata": {
    "id": "UAx2EAjh6R-U",
    "outputId": "eeb9d811-c783-41cc-ca6c-9e4fcbacf04d"
   },
   "outputs": [
    {
     "data": {
      "text/plain": [
       "dict_keys(['Boro Taxi 2019', 'Yellow Taxi 2019', 'For Hire Vehicle High Volume 2019', 'NYC Taxi 2019', 'TLC 2019'])"
      ]
     },
     "execution_count": 24,
     "metadata": {
      "tags": []
     },
     "output_type": "execute_result"
    }
   ],
   "source": [
    "dfs.keys()"
   ]
  },
  {
   "cell_type": "code",
   "execution_count": null,
   "metadata": {
    "id": "AoxynaPb6R-W"
   },
   "outputs": [],
   "source": [
    "feather_all(\"_CLEANED\")"
   ]
  },
  {
   "cell_type": "code",
   "execution_count": null,
   "metadata": {
    "id": "5YsYTrWB6R-c"
   },
   "outputs": [],
   "source": []
  },
  {
   "cell_type": "code",
   "execution_count": null,
   "metadata": {
    "id": "4E94zEEm6R-e"
   },
   "outputs": [],
   "source": [
    "nyc_taxi_df = cleanse_fare(nyc_taxi_df)"
   ]
  },
  {
   "cell_type": "code",
   "execution_count": null,
   "metadata": {
    "id": "nKbQSUUZ6R-f",
    "scrolled": false
   },
   "outputs": [],
   "source": [
    "nyc_taxi_df = cleanse_trip_distance(nyc_taxi_df)"
   ]
  },
  {
   "cell_type": "code",
   "execution_count": null,
   "metadata": {
    "id": "x1EtIj886R-g",
    "scrolled": true
   },
   "outputs": [],
   "source": [
    "fhvhv_19_df = cleanse_trip_duration(fhvhv_19_df)"
   ]
  },
  {
   "cell_type": "code",
   "execution_count": null,
   "metadata": {
    "id": "DgR72DlT6R-h",
    "scrolled": true
   },
   "outputs": [],
   "source": [
    "nyc_taxi_df = cleanse_trip_duration(nyc_taxi_df)"
   ]
  },
  {
   "cell_type": "code",
   "execution_count": null,
   "metadata": {
    "id": "abqOJDQB6R-i"
   },
   "outputs": [],
   "source": [
    "tlc_19 = cleanse_trip_duration(tlc_19)"
   ]
  },
  {
   "cell_type": "code",
   "execution_count": null,
   "metadata": {
    "id": "0j4Yxdid6R-j",
    "outputId": "35fdd9f8-2ba2-41bb-8f9e-4ead01b2af6c"
   },
   "outputs": [
    {
     "data": {
      "text/plain": [
       "count                    345733555\n",
       "mean     0 days 00:17:55.163158644\n",
       "std      0 days 00:13:14.871534124\n",
       "min                0 days 00:00:00\n",
       "25%                0 days 00:08:49\n",
       "50%                0 days 00:14:24\n",
       "75%                0 days 00:23:07\n",
       "max                0 days 03:00:00\n",
       "Name: trip_duration, dtype: object"
      ]
     },
     "execution_count": 26,
     "metadata": {
      "tags": []
     },
     "output_type": "execute_result"
    }
   ],
   "source": [
    "tlc_19.trip_duration.describe()"
   ]
  },
  {
   "cell_type": "code",
   "execution_count": null,
   "metadata": {
    "id": "eOfvB2Kg6R_T"
   },
   "outputs": [],
   "source": [
    "df_to_feather(tlc_19, \"_CLEANSED\")\n",
    "df_to_feather(nyc_taxi_df, \"_CLEANSED\")"
   ]
  },
  {
   "cell_type": "code",
   "execution_count": null,
   "metadata": {
    "id": "NLaXM4nQ6R_U",
    "outputId": "87c8f777-ad5f-4063-8a24-d38d238c43b7"
   },
   "outputs": [
    {
     "ename": "ValueError",
     "evalue": "Categorical categories must be unique",
     "output_type": "error",
     "traceback": [
      "\u001b[0;31m---------------------------------------------------------------------------\u001b[0m",
      "\u001b[0;31mValueError\u001b[0m                                Traceback (most recent call last)",
      "\u001b[0;32m<ipython-input-54-725c9cc10477>\u001b[0m in \u001b[0;36m<module>\u001b[0;34m\u001b[0m\n\u001b[0;32m----> 1\u001b[0;31m \u001b[0mnyc_taxi_df\u001b[0m \u001b[0;34m=\u001b[0m \u001b[0mdf_from_feather\u001b[0m\u001b[0;34m(\u001b[0m\u001b[0;34m\"./Data/New York Taxi 2019_CLEANSED.feather\"\u001b[0m\u001b[0;34m,\u001b[0m \u001b[0;34m\"NYC Yaxi 2019\"\u001b[0m\u001b[0;34m)\u001b[0m\u001b[0;34m\u001b[0m\u001b[0;34m\u001b[0m\u001b[0m\n\u001b[0m",
      "\u001b[0;32m<ipython-input-11-440268ec4e00>\u001b[0m in \u001b[0;36mdf_from_feather\u001b[0;34m(filepath, name)\u001b[0m\n\u001b[1;32m      1\u001b[0m \u001b[0;32mdef\u001b[0m \u001b[0mdf_from_feather\u001b[0m\u001b[0;34m(\u001b[0m\u001b[0mfilepath\u001b[0m\u001b[0;34m,\u001b[0m \u001b[0mname\u001b[0m\u001b[0;34m)\u001b[0m\u001b[0;34m:\u001b[0m\u001b[0;34m\u001b[0m\u001b[0;34m\u001b[0m\u001b[0m\n\u001b[0;32m----> 2\u001b[0;31m     \u001b[0mdf\u001b[0m \u001b[0;34m=\u001b[0m \u001b[0mpd\u001b[0m\u001b[0;34m.\u001b[0m\u001b[0mread_feather\u001b[0m\u001b[0;34m(\u001b[0m\u001b[0mfilepath\u001b[0m\u001b[0;34m)\u001b[0m\u001b[0;34m.\u001b[0m\u001b[0mdrop\u001b[0m\u001b[0;34m(\u001b[0m\u001b[0;34m'index'\u001b[0m\u001b[0;34m,\u001b[0m \u001b[0merrors\u001b[0m\u001b[0;34m=\u001b[0m\u001b[0;34m'ignore'\u001b[0m\u001b[0;34m)\u001b[0m\u001b[0;34m\u001b[0m\u001b[0;34m\u001b[0m\u001b[0m\n\u001b[0m\u001b[1;32m      3\u001b[0m     \u001b[0mdf\u001b[0m\u001b[0;34m.\u001b[0m\u001b[0mname\u001b[0m \u001b[0;34m=\u001b[0m \u001b[0mname\u001b[0m\u001b[0;34m\u001b[0m\u001b[0;34m\u001b[0m\u001b[0m\n\u001b[1;32m      4\u001b[0m     \u001b[0mdf\u001b[0m\u001b[0;34m[\u001b[0m\u001b[0;34m'trip_duration'\u001b[0m\u001b[0;34m]\u001b[0m \u001b[0;34m=\u001b[0m \u001b[0mdf\u001b[0m\u001b[0;34m.\u001b[0m\u001b[0mdropoff_datetime\u001b[0m \u001b[0;34m-\u001b[0m \u001b[0mdf\u001b[0m\u001b[0;34m.\u001b[0m\u001b[0mpickup_datetime\u001b[0m\u001b[0;34m\u001b[0m\u001b[0;34m\u001b[0m\u001b[0m\n\u001b[1;32m      5\u001b[0m     \u001b[0;32mreturn\u001b[0m \u001b[0mdf\u001b[0m\u001b[0;34m\u001b[0m\u001b[0;34m\u001b[0m\u001b[0m\n",
      "\u001b[0;32m~/.local/lib/python3.6/site-packages/pandas/io/feather_format.py\u001b[0m in \u001b[0;36mread_feather\u001b[0;34m(path, columns, use_threads)\u001b[0m\n\u001b[1;32m    101\u001b[0m     \u001b[0mpath\u001b[0m\u001b[0;34m,\u001b[0m \u001b[0m_\u001b[0m\u001b[0;34m,\u001b[0m \u001b[0m_\u001b[0m\u001b[0;34m,\u001b[0m \u001b[0mshould_close\u001b[0m \u001b[0;34m=\u001b[0m \u001b[0mget_filepath_or_buffer\u001b[0m\u001b[0;34m(\u001b[0m\u001b[0mpath\u001b[0m\u001b[0;34m)\u001b[0m\u001b[0;34m\u001b[0m\u001b[0;34m\u001b[0m\u001b[0m\n\u001b[1;32m    102\u001b[0m \u001b[0;34m\u001b[0m\u001b[0m\n\u001b[0;32m--> 103\u001b[0;31m     \u001b[0mdf\u001b[0m \u001b[0;34m=\u001b[0m \u001b[0mfeather\u001b[0m\u001b[0;34m.\u001b[0m\u001b[0mread_feather\u001b[0m\u001b[0;34m(\u001b[0m\u001b[0mpath\u001b[0m\u001b[0;34m,\u001b[0m \u001b[0mcolumns\u001b[0m\u001b[0;34m=\u001b[0m\u001b[0mcolumns\u001b[0m\u001b[0;34m,\u001b[0m \u001b[0muse_threads\u001b[0m\u001b[0;34m=\u001b[0m\u001b[0mbool\u001b[0m\u001b[0;34m(\u001b[0m\u001b[0muse_threads\u001b[0m\u001b[0;34m)\u001b[0m\u001b[0;34m)\u001b[0m\u001b[0;34m\u001b[0m\u001b[0;34m\u001b[0m\u001b[0m\n\u001b[0m\u001b[1;32m    104\u001b[0m \u001b[0;34m\u001b[0m\u001b[0m\n\u001b[1;32m    105\u001b[0m     \u001b[0;31m# s3fs only validates the credentials when the file is closed.\u001b[0m\u001b[0;34m\u001b[0m\u001b[0;34m\u001b[0m\u001b[0;34m\u001b[0m\u001b[0m\n",
      "\u001b[0;32m/usr/local/lib/python3.6/dist-packages/pyarrow/feather.py\u001b[0m in \u001b[0;36mread_feather\u001b[0;34m(source, columns, use_threads)\u001b[0m\n\u001b[1;32m    213\u001b[0m     \"\"\"\n\u001b[1;32m    214\u001b[0m     \u001b[0mreader\u001b[0m \u001b[0;34m=\u001b[0m \u001b[0mFeatherReader\u001b[0m\u001b[0;34m(\u001b[0m\u001b[0msource\u001b[0m\u001b[0;34m)\u001b[0m\u001b[0;34m\u001b[0m\u001b[0;34m\u001b[0m\u001b[0m\n\u001b[0;32m--> 215\u001b[0;31m     \u001b[0;32mreturn\u001b[0m \u001b[0mreader\u001b[0m\u001b[0;34m.\u001b[0m\u001b[0mread_pandas\u001b[0m\u001b[0;34m(\u001b[0m\u001b[0mcolumns\u001b[0m\u001b[0;34m=\u001b[0m\u001b[0mcolumns\u001b[0m\u001b[0;34m,\u001b[0m \u001b[0muse_threads\u001b[0m\u001b[0;34m=\u001b[0m\u001b[0muse_threads\u001b[0m\u001b[0;34m)\u001b[0m\u001b[0;34m\u001b[0m\u001b[0;34m\u001b[0m\u001b[0m\n\u001b[0m\u001b[1;32m    216\u001b[0m \u001b[0;34m\u001b[0m\u001b[0m\n\u001b[1;32m    217\u001b[0m \u001b[0;34m\u001b[0m\u001b[0m\n",
      "\u001b[0;32m/usr/local/lib/python3.6/dist-packages/pyarrow/feather.py\u001b[0m in \u001b[0;36mread_pandas\u001b[0;34m(self, columns, use_threads)\u001b[0m\n\u001b[1;32m     56\u001b[0m     \u001b[0;32mdef\u001b[0m \u001b[0mread_pandas\u001b[0m\u001b[0;34m(\u001b[0m\u001b[0mself\u001b[0m\u001b[0;34m,\u001b[0m \u001b[0mcolumns\u001b[0m\u001b[0;34m=\u001b[0m\u001b[0;32mNone\u001b[0m\u001b[0;34m,\u001b[0m \u001b[0muse_threads\u001b[0m\u001b[0;34m=\u001b[0m\u001b[0;32mTrue\u001b[0m\u001b[0;34m)\u001b[0m\u001b[0;34m:\u001b[0m\u001b[0;34m\u001b[0m\u001b[0;34m\u001b[0m\u001b[0m\n\u001b[1;32m     57\u001b[0m         return self.read_table(columns=columns).to_pandas(\n\u001b[0;32m---> 58\u001b[0;31m             use_threads=use_threads)\n\u001b[0m\u001b[1;32m     59\u001b[0m \u001b[0;34m\u001b[0m\u001b[0m\n\u001b[1;32m     60\u001b[0m \u001b[0;34m\u001b[0m\u001b[0m\n",
      "\u001b[0;32m/usr/local/lib/python3.6/dist-packages/pyarrow/array.pxi\u001b[0m in \u001b[0;36mpyarrow.lib._PandasConvertible.to_pandas\u001b[0;34m()\u001b[0m\n",
      "\u001b[0;32m/usr/local/lib/python3.6/dist-packages/pyarrow/table.pxi\u001b[0m in \u001b[0;36mpyarrow.lib.Table._to_pandas\u001b[0;34m()\u001b[0m\n",
      "\u001b[0;32m/usr/local/lib/python3.6/dist-packages/pyarrow/pandas_compat.py\u001b[0m in \u001b[0;36mtable_to_blockmanager\u001b[0;34m(options, table, categories, ignore_metadata)\u001b[0m\n\u001b[1;32m    702\u001b[0m \u001b[0;34m\u001b[0m\u001b[0m\n\u001b[1;32m    703\u001b[0m     \u001b[0m_check_data_column_metadata_consistency\u001b[0m\u001b[0;34m(\u001b[0m\u001b[0mall_columns\u001b[0m\u001b[0;34m)\u001b[0m\u001b[0;34m\u001b[0m\u001b[0;34m\u001b[0m\u001b[0m\n\u001b[0;32m--> 704\u001b[0;31m     \u001b[0mblocks\u001b[0m \u001b[0;34m=\u001b[0m \u001b[0m_table_to_blocks\u001b[0m\u001b[0;34m(\u001b[0m\u001b[0moptions\u001b[0m\u001b[0;34m,\u001b[0m \u001b[0mtable\u001b[0m\u001b[0;34m,\u001b[0m \u001b[0mcategories\u001b[0m\u001b[0;34m)\u001b[0m\u001b[0;34m\u001b[0m\u001b[0;34m\u001b[0m\u001b[0m\n\u001b[0m\u001b[1;32m    705\u001b[0m     \u001b[0mcolumns\u001b[0m \u001b[0;34m=\u001b[0m \u001b[0m_deserialize_column_index\u001b[0m\u001b[0;34m(\u001b[0m\u001b[0mtable\u001b[0m\u001b[0;34m,\u001b[0m \u001b[0mall_columns\u001b[0m\u001b[0;34m,\u001b[0m \u001b[0mcolumn_indexes\u001b[0m\u001b[0;34m)\u001b[0m\u001b[0;34m\u001b[0m\u001b[0;34m\u001b[0m\u001b[0m\n\u001b[1;32m    706\u001b[0m \u001b[0;34m\u001b[0m\u001b[0m\n",
      "\u001b[0;32m/usr/local/lib/python3.6/dist-packages/pyarrow/pandas_compat.py\u001b[0m in \u001b[0;36m_table_to_blocks\u001b[0;34m(options, block_table, categories)\u001b[0m\n\u001b[1;32m    977\u001b[0m \u001b[0;34m\u001b[0m\u001b[0m\n\u001b[1;32m    978\u001b[0m     \u001b[0;31m# Defined above\u001b[0m\u001b[0;34m\u001b[0m\u001b[0;34m\u001b[0m\u001b[0;34m\u001b[0m\u001b[0m\n\u001b[0;32m--> 979\u001b[0;31m     \u001b[0;32mreturn\u001b[0m \u001b[0;34m[\u001b[0m\u001b[0m_reconstruct_block\u001b[0m\u001b[0;34m(\u001b[0m\u001b[0mitem\u001b[0m\u001b[0;34m)\u001b[0m \u001b[0;32mfor\u001b[0m \u001b[0mitem\u001b[0m \u001b[0;32min\u001b[0m \u001b[0mresult\u001b[0m\u001b[0;34m]\u001b[0m\u001b[0;34m\u001b[0m\u001b[0;34m\u001b[0m\u001b[0m\n\u001b[0m\u001b[1;32m    980\u001b[0m \u001b[0;34m\u001b[0m\u001b[0m\n\u001b[1;32m    981\u001b[0m \u001b[0;34m\u001b[0m\u001b[0m\n",
      "\u001b[0;32m/usr/local/lib/python3.6/dist-packages/pyarrow/pandas_compat.py\u001b[0m in \u001b[0;36m<listcomp>\u001b[0;34m(.0)\u001b[0m\n\u001b[1;32m    977\u001b[0m \u001b[0;34m\u001b[0m\u001b[0m\n\u001b[1;32m    978\u001b[0m     \u001b[0;31m# Defined above\u001b[0m\u001b[0;34m\u001b[0m\u001b[0;34m\u001b[0m\u001b[0;34m\u001b[0m\u001b[0m\n\u001b[0;32m--> 979\u001b[0;31m     \u001b[0;32mreturn\u001b[0m \u001b[0;34m[\u001b[0m\u001b[0m_reconstruct_block\u001b[0m\u001b[0;34m(\u001b[0m\u001b[0mitem\u001b[0m\u001b[0;34m)\u001b[0m \u001b[0;32mfor\u001b[0m \u001b[0mitem\u001b[0m \u001b[0;32min\u001b[0m \u001b[0mresult\u001b[0m\u001b[0;34m]\u001b[0m\u001b[0;34m\u001b[0m\u001b[0;34m\u001b[0m\u001b[0m\n\u001b[0m\u001b[1;32m    980\u001b[0m \u001b[0;34m\u001b[0m\u001b[0m\n\u001b[1;32m    981\u001b[0m \u001b[0;34m\u001b[0m\u001b[0m\n",
      "\u001b[0;32m/usr/local/lib/python3.6/dist-packages/pyarrow/pandas_compat.py\u001b[0m in \u001b[0;36m_reconstruct_block\u001b[0;34m(item)\u001b[0m\n\u001b[1;32m    657\u001b[0m         cat = _pandas_api.categorical_type.from_codes(\n\u001b[1;32m    658\u001b[0m             \u001b[0mblock_arr\u001b[0m\u001b[0;34m,\u001b[0m \u001b[0mcategories\u001b[0m\u001b[0;34m=\u001b[0m\u001b[0mitem\u001b[0m\u001b[0;34m[\u001b[0m\u001b[0;34m'dictionary'\u001b[0m\u001b[0;34m]\u001b[0m\u001b[0;34m,\u001b[0m\u001b[0;34m\u001b[0m\u001b[0;34m\u001b[0m\u001b[0m\n\u001b[0;32m--> 659\u001b[0;31m             ordered=item['ordered'])\n\u001b[0m\u001b[1;32m    660\u001b[0m         block = _int.make_block(cat, placement=placement,\n\u001b[1;32m    661\u001b[0m                                 klass=_int.CategoricalBlock)\n",
      "\u001b[0;32m~/.local/lib/python3.6/site-packages/pandas/core/arrays/categorical.py\u001b[0m in \u001b[0;36mfrom_codes\u001b[0;34m(cls, codes, categories, ordered, dtype)\u001b[0m\n\u001b[1;32m    605\u001b[0m         \"\"\"\n\u001b[1;32m    606\u001b[0m         dtype = CategoricalDtype._from_values_or_dtype(\n\u001b[0;32m--> 607\u001b[0;31m             \u001b[0mcategories\u001b[0m\u001b[0;34m=\u001b[0m\u001b[0mcategories\u001b[0m\u001b[0;34m,\u001b[0m \u001b[0mordered\u001b[0m\u001b[0;34m=\u001b[0m\u001b[0mordered\u001b[0m\u001b[0;34m,\u001b[0m \u001b[0mdtype\u001b[0m\u001b[0;34m=\u001b[0m\u001b[0mdtype\u001b[0m\u001b[0;34m\u001b[0m\u001b[0;34m\u001b[0m\u001b[0m\n\u001b[0m\u001b[1;32m    608\u001b[0m         )\n\u001b[1;32m    609\u001b[0m         \u001b[0;32mif\u001b[0m \u001b[0mdtype\u001b[0m\u001b[0;34m.\u001b[0m\u001b[0mcategories\u001b[0m \u001b[0;32mis\u001b[0m \u001b[0;32mNone\u001b[0m\u001b[0;34m:\u001b[0m\u001b[0;34m\u001b[0m\u001b[0;34m\u001b[0m\u001b[0m\n",
      "\u001b[0;32m~/.local/lib/python3.6/site-packages/pandas/core/dtypes/dtypes.py\u001b[0m in \u001b[0;36m_from_values_or_dtype\u001b[0;34m(cls, values, categories, ordered, dtype)\u001b[0m\n\u001b[1;32m    275\u001b[0m             \u001b[0;31m# Note: This could potentially have categories=None and\u001b[0m\u001b[0;34m\u001b[0m\u001b[0;34m\u001b[0m\u001b[0;34m\u001b[0m\u001b[0m\n\u001b[1;32m    276\u001b[0m             \u001b[0;31m# ordered=None.\u001b[0m\u001b[0;34m\u001b[0m\u001b[0;34m\u001b[0m\u001b[0;34m\u001b[0m\u001b[0m\n\u001b[0;32m--> 277\u001b[0;31m             \u001b[0mdtype\u001b[0m \u001b[0;34m=\u001b[0m \u001b[0mCategoricalDtype\u001b[0m\u001b[0;34m(\u001b[0m\u001b[0mcategories\u001b[0m\u001b[0;34m,\u001b[0m \u001b[0mordered\u001b[0m\u001b[0;34m)\u001b[0m\u001b[0;34m\u001b[0m\u001b[0;34m\u001b[0m\u001b[0m\n\u001b[0m\u001b[1;32m    278\u001b[0m \u001b[0;34m\u001b[0m\u001b[0m\n\u001b[1;32m    279\u001b[0m         \u001b[0;32mreturn\u001b[0m \u001b[0mdtype\u001b[0m\u001b[0;34m\u001b[0m\u001b[0;34m\u001b[0m\u001b[0m\n",
      "\u001b[0;32m~/.local/lib/python3.6/site-packages/pandas/core/dtypes/dtypes.py\u001b[0m in \u001b[0;36m__init__\u001b[0;34m(self, categories, ordered)\u001b[0m\n\u001b[1;32m    162\u001b[0m \u001b[0;34m\u001b[0m\u001b[0m\n\u001b[1;32m    163\u001b[0m     \u001b[0;32mdef\u001b[0m \u001b[0m__init__\u001b[0m\u001b[0;34m(\u001b[0m\u001b[0mself\u001b[0m\u001b[0;34m,\u001b[0m \u001b[0mcategories\u001b[0m\u001b[0;34m=\u001b[0m\u001b[0;32mNone\u001b[0m\u001b[0;34m,\u001b[0m \u001b[0mordered\u001b[0m\u001b[0;34m:\u001b[0m \u001b[0mOrdered\u001b[0m \u001b[0;34m=\u001b[0m \u001b[0;32mFalse\u001b[0m\u001b[0;34m)\u001b[0m\u001b[0;34m:\u001b[0m\u001b[0;34m\u001b[0m\u001b[0;34m\u001b[0m\u001b[0m\n\u001b[0;32m--> 164\u001b[0;31m         \u001b[0mself\u001b[0m\u001b[0;34m.\u001b[0m\u001b[0m_finalize\u001b[0m\u001b[0;34m(\u001b[0m\u001b[0mcategories\u001b[0m\u001b[0;34m,\u001b[0m \u001b[0mordered\u001b[0m\u001b[0;34m,\u001b[0m \u001b[0mfastpath\u001b[0m\u001b[0;34m=\u001b[0m\u001b[0;32mFalse\u001b[0m\u001b[0;34m)\u001b[0m\u001b[0;34m\u001b[0m\u001b[0;34m\u001b[0m\u001b[0m\n\u001b[0m\u001b[1;32m    165\u001b[0m \u001b[0;34m\u001b[0m\u001b[0m\n\u001b[1;32m    166\u001b[0m     \u001b[0;34m@\u001b[0m\u001b[0mclassmethod\u001b[0m\u001b[0;34m\u001b[0m\u001b[0;34m\u001b[0m\u001b[0m\n",
      "\u001b[0;32m~/.local/lib/python3.6/site-packages/pandas/core/dtypes/dtypes.py\u001b[0m in \u001b[0;36m_finalize\u001b[0;34m(self, categories, ordered, fastpath)\u001b[0m\n\u001b[1;32m    316\u001b[0m \u001b[0;34m\u001b[0m\u001b[0m\n\u001b[1;32m    317\u001b[0m         \u001b[0;32mif\u001b[0m \u001b[0mcategories\u001b[0m \u001b[0;32mis\u001b[0m \u001b[0;32mnot\u001b[0m \u001b[0;32mNone\u001b[0m\u001b[0;34m:\u001b[0m\u001b[0;34m\u001b[0m\u001b[0;34m\u001b[0m\u001b[0m\n\u001b[0;32m--> 318\u001b[0;31m             \u001b[0mcategories\u001b[0m \u001b[0;34m=\u001b[0m \u001b[0mself\u001b[0m\u001b[0;34m.\u001b[0m\u001b[0mvalidate_categories\u001b[0m\u001b[0;34m(\u001b[0m\u001b[0mcategories\u001b[0m\u001b[0;34m,\u001b[0m \u001b[0mfastpath\u001b[0m\u001b[0;34m=\u001b[0m\u001b[0mfastpath\u001b[0m\u001b[0;34m)\u001b[0m\u001b[0;34m\u001b[0m\u001b[0;34m\u001b[0m\u001b[0m\n\u001b[0m\u001b[1;32m    319\u001b[0m \u001b[0;34m\u001b[0m\u001b[0m\n\u001b[1;32m    320\u001b[0m         \u001b[0mself\u001b[0m\u001b[0;34m.\u001b[0m\u001b[0m_categories\u001b[0m \u001b[0;34m=\u001b[0m \u001b[0mcategories\u001b[0m\u001b[0;34m\u001b[0m\u001b[0;34m\u001b[0m\u001b[0m\n",
      "\u001b[0;32m~/.local/lib/python3.6/site-packages/pandas/core/dtypes/dtypes.py\u001b[0m in \u001b[0;36mvalidate_categories\u001b[0;34m(categories, fastpath)\u001b[0m\n\u001b[1;32m    493\u001b[0m \u001b[0;34m\u001b[0m\u001b[0m\n\u001b[1;32m    494\u001b[0m             \u001b[0;32mif\u001b[0m \u001b[0;32mnot\u001b[0m \u001b[0mcategories\u001b[0m\u001b[0;34m.\u001b[0m\u001b[0mis_unique\u001b[0m\u001b[0;34m:\u001b[0m\u001b[0;34m\u001b[0m\u001b[0;34m\u001b[0m\u001b[0m\n\u001b[0;32m--> 495\u001b[0;31m                 \u001b[0;32mraise\u001b[0m \u001b[0mValueError\u001b[0m\u001b[0;34m(\u001b[0m\u001b[0;34m\"Categorical categories must be unique\"\u001b[0m\u001b[0;34m)\u001b[0m\u001b[0;34m\u001b[0m\u001b[0;34m\u001b[0m\u001b[0m\n\u001b[0m\u001b[1;32m    496\u001b[0m \u001b[0;34m\u001b[0m\u001b[0m\n\u001b[1;32m    497\u001b[0m         \u001b[0;32mif\u001b[0m \u001b[0misinstance\u001b[0m\u001b[0;34m(\u001b[0m\u001b[0mcategories\u001b[0m\u001b[0;34m,\u001b[0m \u001b[0mABCCategoricalIndex\u001b[0m\u001b[0;34m)\u001b[0m\u001b[0;34m:\u001b[0m\u001b[0;34m\u001b[0m\u001b[0;34m\u001b[0m\u001b[0m\n",
      "\u001b[0;31mValueError\u001b[0m: Categorical categories must be unique"
     ]
    }
   ],
   "source": [
    "nyc_taxi_df = df_from_feather(\"./Data/New York Taxi 2019_CLEANSED.feather\", \"NYC Yaxi 2019\")"
   ]
  },
  {
   "cell_type": "code",
   "execution_count": null,
   "metadata": {
    "id": "4dq6-mKA6R_V",
    "outputId": "b673e4a2-8f98-4446-f0d3-55ea5d659983"
   },
   "outputs": [
    {
     "ename": "ValueError",
     "evalue": "Categorical categories must be unique",
     "output_type": "error",
     "traceback": [
      "\u001b[0;31m---------------------------------------------------------------------------\u001b[0m",
      "\u001b[0;31mValueError\u001b[0m                                Traceback (most recent call last)",
      "\u001b[0;32m<ipython-input-53-81dd1a6409ef>\u001b[0m in \u001b[0;36m<module>\u001b[0;34m\u001b[0m\n\u001b[0;32m----> 1\u001b[0;31m \u001b[0mtlc_19\u001b[0m \u001b[0;34m=\u001b[0m \u001b[0mdf_from_feather\u001b[0m\u001b[0;34m(\u001b[0m\u001b[0;34m\"./Data/TLC 2019_CLEANSED.feather\"\u001b[0m\u001b[0;34m,\u001b[0m \u001b[0;34m\"TLC 2019\"\u001b[0m\u001b[0;34m)\u001b[0m\u001b[0;34m\u001b[0m\u001b[0;34m\u001b[0m\u001b[0m\n\u001b[0m",
      "\u001b[0;32m<ipython-input-11-440268ec4e00>\u001b[0m in \u001b[0;36mdf_from_feather\u001b[0;34m(filepath, name)\u001b[0m\n\u001b[1;32m      1\u001b[0m \u001b[0;32mdef\u001b[0m \u001b[0mdf_from_feather\u001b[0m\u001b[0;34m(\u001b[0m\u001b[0mfilepath\u001b[0m\u001b[0;34m,\u001b[0m \u001b[0mname\u001b[0m\u001b[0;34m)\u001b[0m\u001b[0;34m:\u001b[0m\u001b[0;34m\u001b[0m\u001b[0;34m\u001b[0m\u001b[0m\n\u001b[0;32m----> 2\u001b[0;31m     \u001b[0mdf\u001b[0m \u001b[0;34m=\u001b[0m \u001b[0mpd\u001b[0m\u001b[0;34m.\u001b[0m\u001b[0mread_feather\u001b[0m\u001b[0;34m(\u001b[0m\u001b[0mfilepath\u001b[0m\u001b[0;34m)\u001b[0m\u001b[0;34m.\u001b[0m\u001b[0mdrop\u001b[0m\u001b[0;34m(\u001b[0m\u001b[0;34m'index'\u001b[0m\u001b[0;34m,\u001b[0m \u001b[0merrors\u001b[0m\u001b[0;34m=\u001b[0m\u001b[0;34m'ignore'\u001b[0m\u001b[0;34m)\u001b[0m\u001b[0;34m\u001b[0m\u001b[0;34m\u001b[0m\u001b[0m\n\u001b[0m\u001b[1;32m      3\u001b[0m     \u001b[0mdf\u001b[0m\u001b[0;34m.\u001b[0m\u001b[0mname\u001b[0m \u001b[0;34m=\u001b[0m \u001b[0mname\u001b[0m\u001b[0;34m\u001b[0m\u001b[0;34m\u001b[0m\u001b[0m\n\u001b[1;32m      4\u001b[0m     \u001b[0mdf\u001b[0m\u001b[0;34m[\u001b[0m\u001b[0;34m'trip_duration'\u001b[0m\u001b[0;34m]\u001b[0m \u001b[0;34m=\u001b[0m \u001b[0mdf\u001b[0m\u001b[0;34m.\u001b[0m\u001b[0mdropoff_datetime\u001b[0m \u001b[0;34m-\u001b[0m \u001b[0mdf\u001b[0m\u001b[0;34m.\u001b[0m\u001b[0mpickup_datetime\u001b[0m\u001b[0;34m\u001b[0m\u001b[0;34m\u001b[0m\u001b[0m\n\u001b[1;32m      5\u001b[0m     \u001b[0;32mreturn\u001b[0m \u001b[0mdf\u001b[0m\u001b[0;34m\u001b[0m\u001b[0;34m\u001b[0m\u001b[0m\n",
      "\u001b[0;32m~/.local/lib/python3.6/site-packages/pandas/io/feather_format.py\u001b[0m in \u001b[0;36mread_feather\u001b[0;34m(path, columns, use_threads)\u001b[0m\n\u001b[1;32m    101\u001b[0m     \u001b[0mpath\u001b[0m\u001b[0;34m,\u001b[0m \u001b[0m_\u001b[0m\u001b[0;34m,\u001b[0m \u001b[0m_\u001b[0m\u001b[0;34m,\u001b[0m \u001b[0mshould_close\u001b[0m \u001b[0;34m=\u001b[0m \u001b[0mget_filepath_or_buffer\u001b[0m\u001b[0;34m(\u001b[0m\u001b[0mpath\u001b[0m\u001b[0;34m)\u001b[0m\u001b[0;34m\u001b[0m\u001b[0;34m\u001b[0m\u001b[0m\n\u001b[1;32m    102\u001b[0m \u001b[0;34m\u001b[0m\u001b[0m\n\u001b[0;32m--> 103\u001b[0;31m     \u001b[0mdf\u001b[0m \u001b[0;34m=\u001b[0m \u001b[0mfeather\u001b[0m\u001b[0;34m.\u001b[0m\u001b[0mread_feather\u001b[0m\u001b[0;34m(\u001b[0m\u001b[0mpath\u001b[0m\u001b[0;34m,\u001b[0m \u001b[0mcolumns\u001b[0m\u001b[0;34m=\u001b[0m\u001b[0mcolumns\u001b[0m\u001b[0;34m,\u001b[0m \u001b[0muse_threads\u001b[0m\u001b[0;34m=\u001b[0m\u001b[0mbool\u001b[0m\u001b[0;34m(\u001b[0m\u001b[0muse_threads\u001b[0m\u001b[0;34m)\u001b[0m\u001b[0;34m)\u001b[0m\u001b[0;34m\u001b[0m\u001b[0;34m\u001b[0m\u001b[0m\n\u001b[0m\u001b[1;32m    104\u001b[0m \u001b[0;34m\u001b[0m\u001b[0m\n\u001b[1;32m    105\u001b[0m     \u001b[0;31m# s3fs only validates the credentials when the file is closed.\u001b[0m\u001b[0;34m\u001b[0m\u001b[0;34m\u001b[0m\u001b[0;34m\u001b[0m\u001b[0m\n",
      "\u001b[0;32m/usr/local/lib/python3.6/dist-packages/pyarrow/feather.py\u001b[0m in \u001b[0;36mread_feather\u001b[0;34m(source, columns, use_threads)\u001b[0m\n\u001b[1;32m    213\u001b[0m     \"\"\"\n\u001b[1;32m    214\u001b[0m     \u001b[0mreader\u001b[0m \u001b[0;34m=\u001b[0m \u001b[0mFeatherReader\u001b[0m\u001b[0;34m(\u001b[0m\u001b[0msource\u001b[0m\u001b[0;34m)\u001b[0m\u001b[0;34m\u001b[0m\u001b[0;34m\u001b[0m\u001b[0m\n\u001b[0;32m--> 215\u001b[0;31m     \u001b[0;32mreturn\u001b[0m \u001b[0mreader\u001b[0m\u001b[0;34m.\u001b[0m\u001b[0mread_pandas\u001b[0m\u001b[0;34m(\u001b[0m\u001b[0mcolumns\u001b[0m\u001b[0;34m=\u001b[0m\u001b[0mcolumns\u001b[0m\u001b[0;34m,\u001b[0m \u001b[0muse_threads\u001b[0m\u001b[0;34m=\u001b[0m\u001b[0muse_threads\u001b[0m\u001b[0;34m)\u001b[0m\u001b[0;34m\u001b[0m\u001b[0;34m\u001b[0m\u001b[0m\n\u001b[0m\u001b[1;32m    216\u001b[0m \u001b[0;34m\u001b[0m\u001b[0m\n\u001b[1;32m    217\u001b[0m \u001b[0;34m\u001b[0m\u001b[0m\n",
      "\u001b[0;32m/usr/local/lib/python3.6/dist-packages/pyarrow/feather.py\u001b[0m in \u001b[0;36mread_pandas\u001b[0;34m(self, columns, use_threads)\u001b[0m\n\u001b[1;32m     56\u001b[0m     \u001b[0;32mdef\u001b[0m \u001b[0mread_pandas\u001b[0m\u001b[0;34m(\u001b[0m\u001b[0mself\u001b[0m\u001b[0;34m,\u001b[0m \u001b[0mcolumns\u001b[0m\u001b[0;34m=\u001b[0m\u001b[0;32mNone\u001b[0m\u001b[0;34m,\u001b[0m \u001b[0muse_threads\u001b[0m\u001b[0;34m=\u001b[0m\u001b[0;32mTrue\u001b[0m\u001b[0;34m)\u001b[0m\u001b[0;34m:\u001b[0m\u001b[0;34m\u001b[0m\u001b[0;34m\u001b[0m\u001b[0m\n\u001b[1;32m     57\u001b[0m         return self.read_table(columns=columns).to_pandas(\n\u001b[0;32m---> 58\u001b[0;31m             use_threads=use_threads)\n\u001b[0m\u001b[1;32m     59\u001b[0m \u001b[0;34m\u001b[0m\u001b[0m\n\u001b[1;32m     60\u001b[0m \u001b[0;34m\u001b[0m\u001b[0m\n",
      "\u001b[0;32m/usr/local/lib/python3.6/dist-packages/pyarrow/array.pxi\u001b[0m in \u001b[0;36mpyarrow.lib._PandasConvertible.to_pandas\u001b[0;34m()\u001b[0m\n",
      "\u001b[0;32m/usr/local/lib/python3.6/dist-packages/pyarrow/table.pxi\u001b[0m in \u001b[0;36mpyarrow.lib.Table._to_pandas\u001b[0;34m()\u001b[0m\n",
      "\u001b[0;32m/usr/local/lib/python3.6/dist-packages/pyarrow/pandas_compat.py\u001b[0m in \u001b[0;36mtable_to_blockmanager\u001b[0;34m(options, table, categories, ignore_metadata)\u001b[0m\n\u001b[1;32m    702\u001b[0m \u001b[0;34m\u001b[0m\u001b[0m\n\u001b[1;32m    703\u001b[0m     \u001b[0m_check_data_column_metadata_consistency\u001b[0m\u001b[0;34m(\u001b[0m\u001b[0mall_columns\u001b[0m\u001b[0;34m)\u001b[0m\u001b[0;34m\u001b[0m\u001b[0;34m\u001b[0m\u001b[0m\n\u001b[0;32m--> 704\u001b[0;31m     \u001b[0mblocks\u001b[0m \u001b[0;34m=\u001b[0m \u001b[0m_table_to_blocks\u001b[0m\u001b[0;34m(\u001b[0m\u001b[0moptions\u001b[0m\u001b[0;34m,\u001b[0m \u001b[0mtable\u001b[0m\u001b[0;34m,\u001b[0m \u001b[0mcategories\u001b[0m\u001b[0;34m)\u001b[0m\u001b[0;34m\u001b[0m\u001b[0;34m\u001b[0m\u001b[0m\n\u001b[0m\u001b[1;32m    705\u001b[0m     \u001b[0mcolumns\u001b[0m \u001b[0;34m=\u001b[0m \u001b[0m_deserialize_column_index\u001b[0m\u001b[0;34m(\u001b[0m\u001b[0mtable\u001b[0m\u001b[0;34m,\u001b[0m \u001b[0mall_columns\u001b[0m\u001b[0;34m,\u001b[0m \u001b[0mcolumn_indexes\u001b[0m\u001b[0;34m)\u001b[0m\u001b[0;34m\u001b[0m\u001b[0;34m\u001b[0m\u001b[0m\n\u001b[1;32m    706\u001b[0m \u001b[0;34m\u001b[0m\u001b[0m\n",
      "\u001b[0;32m/usr/local/lib/python3.6/dist-packages/pyarrow/pandas_compat.py\u001b[0m in \u001b[0;36m_table_to_blocks\u001b[0;34m(options, block_table, categories)\u001b[0m\n\u001b[1;32m    977\u001b[0m \u001b[0;34m\u001b[0m\u001b[0m\n\u001b[1;32m    978\u001b[0m     \u001b[0;31m# Defined above\u001b[0m\u001b[0;34m\u001b[0m\u001b[0;34m\u001b[0m\u001b[0;34m\u001b[0m\u001b[0m\n\u001b[0;32m--> 979\u001b[0;31m     \u001b[0;32mreturn\u001b[0m \u001b[0;34m[\u001b[0m\u001b[0m_reconstruct_block\u001b[0m\u001b[0;34m(\u001b[0m\u001b[0mitem\u001b[0m\u001b[0;34m)\u001b[0m \u001b[0;32mfor\u001b[0m \u001b[0mitem\u001b[0m \u001b[0;32min\u001b[0m \u001b[0mresult\u001b[0m\u001b[0;34m]\u001b[0m\u001b[0;34m\u001b[0m\u001b[0;34m\u001b[0m\u001b[0m\n\u001b[0m\u001b[1;32m    980\u001b[0m \u001b[0;34m\u001b[0m\u001b[0m\n\u001b[1;32m    981\u001b[0m \u001b[0;34m\u001b[0m\u001b[0m\n",
      "\u001b[0;32m/usr/local/lib/python3.6/dist-packages/pyarrow/pandas_compat.py\u001b[0m in \u001b[0;36m<listcomp>\u001b[0;34m(.0)\u001b[0m\n\u001b[1;32m    977\u001b[0m \u001b[0;34m\u001b[0m\u001b[0m\n\u001b[1;32m    978\u001b[0m     \u001b[0;31m# Defined above\u001b[0m\u001b[0;34m\u001b[0m\u001b[0;34m\u001b[0m\u001b[0;34m\u001b[0m\u001b[0m\n\u001b[0;32m--> 979\u001b[0;31m     \u001b[0;32mreturn\u001b[0m \u001b[0;34m[\u001b[0m\u001b[0m_reconstruct_block\u001b[0m\u001b[0;34m(\u001b[0m\u001b[0mitem\u001b[0m\u001b[0;34m)\u001b[0m \u001b[0;32mfor\u001b[0m \u001b[0mitem\u001b[0m \u001b[0;32min\u001b[0m \u001b[0mresult\u001b[0m\u001b[0;34m]\u001b[0m\u001b[0;34m\u001b[0m\u001b[0;34m\u001b[0m\u001b[0m\n\u001b[0m\u001b[1;32m    980\u001b[0m \u001b[0;34m\u001b[0m\u001b[0m\n\u001b[1;32m    981\u001b[0m \u001b[0;34m\u001b[0m\u001b[0m\n",
      "\u001b[0;32m/usr/local/lib/python3.6/dist-packages/pyarrow/pandas_compat.py\u001b[0m in \u001b[0;36m_reconstruct_block\u001b[0;34m(item)\u001b[0m\n\u001b[1;32m    657\u001b[0m         cat = _pandas_api.categorical_type.from_codes(\n\u001b[1;32m    658\u001b[0m             \u001b[0mblock_arr\u001b[0m\u001b[0;34m,\u001b[0m \u001b[0mcategories\u001b[0m\u001b[0;34m=\u001b[0m\u001b[0mitem\u001b[0m\u001b[0;34m[\u001b[0m\u001b[0;34m'dictionary'\u001b[0m\u001b[0;34m]\u001b[0m\u001b[0;34m,\u001b[0m\u001b[0;34m\u001b[0m\u001b[0;34m\u001b[0m\u001b[0m\n\u001b[0;32m--> 659\u001b[0;31m             ordered=item['ordered'])\n\u001b[0m\u001b[1;32m    660\u001b[0m         block = _int.make_block(cat, placement=placement,\n\u001b[1;32m    661\u001b[0m                                 klass=_int.CategoricalBlock)\n",
      "\u001b[0;32m~/.local/lib/python3.6/site-packages/pandas/core/arrays/categorical.py\u001b[0m in \u001b[0;36mfrom_codes\u001b[0;34m(cls, codes, categories, ordered, dtype)\u001b[0m\n\u001b[1;32m    605\u001b[0m         \"\"\"\n\u001b[1;32m    606\u001b[0m         dtype = CategoricalDtype._from_values_or_dtype(\n\u001b[0;32m--> 607\u001b[0;31m             \u001b[0mcategories\u001b[0m\u001b[0;34m=\u001b[0m\u001b[0mcategories\u001b[0m\u001b[0;34m,\u001b[0m \u001b[0mordered\u001b[0m\u001b[0;34m=\u001b[0m\u001b[0mordered\u001b[0m\u001b[0;34m,\u001b[0m \u001b[0mdtype\u001b[0m\u001b[0;34m=\u001b[0m\u001b[0mdtype\u001b[0m\u001b[0;34m\u001b[0m\u001b[0;34m\u001b[0m\u001b[0m\n\u001b[0m\u001b[1;32m    608\u001b[0m         )\n\u001b[1;32m    609\u001b[0m         \u001b[0;32mif\u001b[0m \u001b[0mdtype\u001b[0m\u001b[0;34m.\u001b[0m\u001b[0mcategories\u001b[0m \u001b[0;32mis\u001b[0m \u001b[0;32mNone\u001b[0m\u001b[0;34m:\u001b[0m\u001b[0;34m\u001b[0m\u001b[0;34m\u001b[0m\u001b[0m\n",
      "\u001b[0;32m~/.local/lib/python3.6/site-packages/pandas/core/dtypes/dtypes.py\u001b[0m in \u001b[0;36m_from_values_or_dtype\u001b[0;34m(cls, values, categories, ordered, dtype)\u001b[0m\n\u001b[1;32m    275\u001b[0m             \u001b[0;31m# Note: This could potentially have categories=None and\u001b[0m\u001b[0;34m\u001b[0m\u001b[0;34m\u001b[0m\u001b[0;34m\u001b[0m\u001b[0m\n\u001b[1;32m    276\u001b[0m             \u001b[0;31m# ordered=None.\u001b[0m\u001b[0;34m\u001b[0m\u001b[0;34m\u001b[0m\u001b[0;34m\u001b[0m\u001b[0m\n\u001b[0;32m--> 277\u001b[0;31m             \u001b[0mdtype\u001b[0m \u001b[0;34m=\u001b[0m \u001b[0mCategoricalDtype\u001b[0m\u001b[0;34m(\u001b[0m\u001b[0mcategories\u001b[0m\u001b[0;34m,\u001b[0m \u001b[0mordered\u001b[0m\u001b[0;34m)\u001b[0m\u001b[0;34m\u001b[0m\u001b[0;34m\u001b[0m\u001b[0m\n\u001b[0m\u001b[1;32m    278\u001b[0m \u001b[0;34m\u001b[0m\u001b[0m\n\u001b[1;32m    279\u001b[0m         \u001b[0;32mreturn\u001b[0m \u001b[0mdtype\u001b[0m\u001b[0;34m\u001b[0m\u001b[0;34m\u001b[0m\u001b[0m\n",
      "\u001b[0;32m~/.local/lib/python3.6/site-packages/pandas/core/dtypes/dtypes.py\u001b[0m in \u001b[0;36m__init__\u001b[0;34m(self, categories, ordered)\u001b[0m\n\u001b[1;32m    162\u001b[0m \u001b[0;34m\u001b[0m\u001b[0m\n\u001b[1;32m    163\u001b[0m     \u001b[0;32mdef\u001b[0m \u001b[0m__init__\u001b[0m\u001b[0;34m(\u001b[0m\u001b[0mself\u001b[0m\u001b[0;34m,\u001b[0m \u001b[0mcategories\u001b[0m\u001b[0;34m=\u001b[0m\u001b[0;32mNone\u001b[0m\u001b[0;34m,\u001b[0m \u001b[0mordered\u001b[0m\u001b[0;34m:\u001b[0m \u001b[0mOrdered\u001b[0m \u001b[0;34m=\u001b[0m \u001b[0;32mFalse\u001b[0m\u001b[0;34m)\u001b[0m\u001b[0;34m:\u001b[0m\u001b[0;34m\u001b[0m\u001b[0;34m\u001b[0m\u001b[0m\n\u001b[0;32m--> 164\u001b[0;31m         \u001b[0mself\u001b[0m\u001b[0;34m.\u001b[0m\u001b[0m_finalize\u001b[0m\u001b[0;34m(\u001b[0m\u001b[0mcategories\u001b[0m\u001b[0;34m,\u001b[0m \u001b[0mordered\u001b[0m\u001b[0;34m,\u001b[0m \u001b[0mfastpath\u001b[0m\u001b[0;34m=\u001b[0m\u001b[0;32mFalse\u001b[0m\u001b[0;34m)\u001b[0m\u001b[0;34m\u001b[0m\u001b[0;34m\u001b[0m\u001b[0m\n\u001b[0m\u001b[1;32m    165\u001b[0m \u001b[0;34m\u001b[0m\u001b[0m\n\u001b[1;32m    166\u001b[0m     \u001b[0;34m@\u001b[0m\u001b[0mclassmethod\u001b[0m\u001b[0;34m\u001b[0m\u001b[0;34m\u001b[0m\u001b[0m\n",
      "\u001b[0;32m~/.local/lib/python3.6/site-packages/pandas/core/dtypes/dtypes.py\u001b[0m in \u001b[0;36m_finalize\u001b[0;34m(self, categories, ordered, fastpath)\u001b[0m\n\u001b[1;32m    316\u001b[0m \u001b[0;34m\u001b[0m\u001b[0m\n\u001b[1;32m    317\u001b[0m         \u001b[0;32mif\u001b[0m \u001b[0mcategories\u001b[0m \u001b[0;32mis\u001b[0m \u001b[0;32mnot\u001b[0m \u001b[0;32mNone\u001b[0m\u001b[0;34m:\u001b[0m\u001b[0;34m\u001b[0m\u001b[0;34m\u001b[0m\u001b[0m\n\u001b[0;32m--> 318\u001b[0;31m             \u001b[0mcategories\u001b[0m \u001b[0;34m=\u001b[0m \u001b[0mself\u001b[0m\u001b[0;34m.\u001b[0m\u001b[0mvalidate_categories\u001b[0m\u001b[0;34m(\u001b[0m\u001b[0mcategories\u001b[0m\u001b[0;34m,\u001b[0m \u001b[0mfastpath\u001b[0m\u001b[0;34m=\u001b[0m\u001b[0mfastpath\u001b[0m\u001b[0;34m)\u001b[0m\u001b[0;34m\u001b[0m\u001b[0;34m\u001b[0m\u001b[0m\n\u001b[0m\u001b[1;32m    319\u001b[0m \u001b[0;34m\u001b[0m\u001b[0m\n\u001b[1;32m    320\u001b[0m         \u001b[0mself\u001b[0m\u001b[0;34m.\u001b[0m\u001b[0m_categories\u001b[0m \u001b[0;34m=\u001b[0m \u001b[0mcategories\u001b[0m\u001b[0;34m\u001b[0m\u001b[0;34m\u001b[0m\u001b[0m\n",
      "\u001b[0;32m~/.local/lib/python3.6/site-packages/pandas/core/dtypes/dtypes.py\u001b[0m in \u001b[0;36mvalidate_categories\u001b[0;34m(categories, fastpath)\u001b[0m\n\u001b[1;32m    493\u001b[0m \u001b[0;34m\u001b[0m\u001b[0m\n\u001b[1;32m    494\u001b[0m             \u001b[0;32mif\u001b[0m \u001b[0;32mnot\u001b[0m \u001b[0mcategories\u001b[0m\u001b[0;34m.\u001b[0m\u001b[0mis_unique\u001b[0m\u001b[0;34m:\u001b[0m\u001b[0;34m\u001b[0m\u001b[0;34m\u001b[0m\u001b[0m\n\u001b[0;32m--> 495\u001b[0;31m                 \u001b[0;32mraise\u001b[0m \u001b[0mValueError\u001b[0m\u001b[0;34m(\u001b[0m\u001b[0;34m\"Categorical categories must be unique\"\u001b[0m\u001b[0;34m)\u001b[0m\u001b[0;34m\u001b[0m\u001b[0;34m\u001b[0m\u001b[0m\n\u001b[0m\u001b[1;32m    496\u001b[0m \u001b[0;34m\u001b[0m\u001b[0m\n\u001b[1;32m    497\u001b[0m         \u001b[0;32mif\u001b[0m \u001b[0misinstance\u001b[0m\u001b[0;34m(\u001b[0m\u001b[0mcategories\u001b[0m\u001b[0;34m,\u001b[0m \u001b[0mABCCategoricalIndex\u001b[0m\u001b[0;34m)\u001b[0m\u001b[0;34m:\u001b[0m\u001b[0;34m\u001b[0m\u001b[0;34m\u001b[0m\u001b[0m\n",
      "\u001b[0;31mValueError\u001b[0m: Categorical categories must be unique"
     ]
    }
   ],
   "source": [
    "tlc_19 = df_from_feather(\"./Data/TLC 2019_CLEANSED.feather\", \"TLC 2019\")"
   ]
  },
  {
   "cell_type": "code",
   "execution_count": null,
   "metadata": {
    "id": "mhtil7Hz6R_W"
   },
   "outputs": [],
   "source": [
    "df_to_feather(tlc_19, \"_CLEANSED\")"
   ]
  },
  {
   "cell_type": "markdown",
   "metadata": {
    "id": "gyFYIoF26R_X"
   },
   "source": [
    "# Stuffs"
   ]
  },
  {
   "cell_type": "code",
   "execution_count": null,
   "metadata": {
    "id": "qMtnAlBX6R_X"
   },
   "outputs": [],
   "source": [
    "trip_dist_fare_zero_df = nyc_taxi_df[(nyc_taxi_df.fare_amount == 0)&(nyc_taxi_df.trip_distance != 0)]"
   ]
  },
  {
   "cell_type": "code",
   "execution_count": null,
   "metadata": {
    "id": "oBWIyzqV6R_Y"
   },
   "outputs": [],
   "source": [
    "sns.displot(x='trip_distance', data=trip_dist_fare_zero_df, kind='kde')"
   ]
  },
  {
   "cell_type": "code",
   "execution_count": null,
   "metadata": {
    "id": "Ir7BZPgq6R_Z"
   },
   "outputs": [],
   "source": [
    "nyc_taxi_df"
   ]
  },
  {
   "cell_type": "code",
   "execution_count": null,
   "metadata": {
    "id": "-58kxqn96R_a"
   },
   "outputs": [],
   "source": [
    "negative_fare = nyc_taxi_df[(nyc_taxi_df.fare_amount < 0)].index\n",
    "negative_fare"
   ]
  },
  {
   "cell_type": "code",
   "execution_count": null,
   "metadata": {
    "id": "9TAOz-HD6R_b",
    "scrolled": true
   },
   "outputs": [],
   "source": [
    "yellow_upper_quantiles = yellow_19_df.fare_amount.quantile([0.9, 0.99, 0.999, 0.9999, 0.99999, 0.999999])\n",
    "yellow_upper_quantiles.to_csv('./Tables/yellow_fare_upper_q.csv')\n",
    "yellow_upper_quantiles"
   ]
  },
  {
   "cell_type": "code",
   "execution_count": null,
   "metadata": {
    "id": "mTdMCR-36R_c",
    "scrolled": true
   },
   "outputs": [],
   "source": [
    "green_upper_quantiles = green_19_df.fare_amount.quantile([0.9, 0.99, 0.999, 0.9999, 0.99999, 0.999999])\n",
    "green_upper_quantiles.to_csv('./Tables/green_fare_upper_q.csv')\n",
    "green_upper_quantiles"
   ]
  },
  {
   "cell_type": "code",
   "execution_count": null,
   "metadata": {
    "id": "E3rLS5IW6R_d"
   },
   "outputs": [],
   "source": [
    "yellow_summary = yellow_19_df.fare_amount.describe()\n",
    "yellow_summary.to_csv('./Tables/yellow_fare_summary.csv')\n",
    "yellow_summary"
   ]
  },
  {
   "cell_type": "code",
   "execution_count": null,
   "metadata": {
    "id": "ZEunMWu36R_e"
   },
   "outputs": [],
   "source": [
    "green_summary = green_19_df.fare_amount.describe()\n",
    "green_summary.to_csv('./Tables/green_fare_summary.csv')\n",
    "green_summary"
   ]
  },
  {
   "cell_type": "code",
   "execution_count": null,
   "metadata": {
    "id": "-ozCS7ol6R_f"
   },
   "outputs": [],
   "source": [
    "nyc_taxi_df.info()"
   ]
  },
  {
   "cell_type": "code",
   "execution_count": null,
   "metadata": {
    "id": "f37botla6R_g"
   },
   "outputs": [],
   "source": [
    "fig, ax = plt.subplots()\n",
    "numeric = [attr for attr in nyc_taxi_df.columns if is_numeric_dtype(nyc_taxi_df[attr].dtype)]\n",
    "sns.heatmap(nyc_taxi_df[numeric].corr(), ax=ax, square=True, center=0.0, cmap='PRGn')"
   ]
  },
  {
   "cell_type": "code",
   "execution_count": null,
   "metadata": {
    "id": "L1L0Lbtz6R_h"
   },
   "outputs": [],
   "source": [
    "negative_fare_portion_df = nyc_taxi_df[nyc_taxi_df.fare_amount < 0]"
   ]
  },
  {
   "cell_type": "code",
   "execution_count": null,
   "metadata": {
    "id": "mJ7xmd7x6R_j"
   },
   "outputs": [],
   "source": [
    "neg_fare_corr_fig, ax = plt.subplots()\n",
    "sns.heatmap(negative_fare_portion_df[numeric].corr(), ax=ax, square=True, center=0.0, cmap='PRGn')"
   ]
  },
  {
   "cell_type": "code",
   "execution_count": null,
   "metadata": {
    "id": "_LsWHkld6R_k"
   },
   "outputs": [],
   "source": [
    "neg_fare_payment_fig, ax = plt.subplots()\n",
    "sns.countplot(x='payment_type', data=negative_fare_portion_df, ax=ax, palette='pastel')\n",
    "ax.set(\n",
    "    xlabel='Payment type', ylabel='Number of trips'\n",
    ")\n",
    "plt.xticks(rotation=90)\n",
    "ax.set_title('Payment type distribution of negative fares', fontsize='x-large')\n",
    "neg_fare_payment_fig.set_figwidth(5)\n",
    "neg_fare_payment_fig.set_figheight(4)\n",
    "neg_fare_payment_fig.tight_layout()\n",
    "neg_fare_payment_fig.savefig('./Figures/neg_fare_payment.png', pad=1)"
   ]
  },
  {
   "cell_type": "code",
   "execution_count": null,
   "metadata": {
    "id": "IMtnt6cq6R_m"
   },
   "outputs": [],
   "source": [
    "negative_fare_portion_df.shape[0]/nyc_taxi_df.shape[0]"
   ]
  },
  {
   "cell_type": "code",
   "execution_count": null,
   "metadata": {
    "id": "pQha_Nnq6R_o"
   },
   "outputs": [],
   "source": []
  },
  {
   "cell_type": "code",
   "execution_count": null,
   "metadata": {
    "id": "BXssPp-86R_p"
   },
   "outputs": [],
   "source": [
    "jfk_trips_df = nyc_taxi_df[nyc_taxi_df.ratecode == 'JFK']"
   ]
  },
  {
   "cell_type": "code",
   "execution_count": null,
   "metadata": {
    "id": "CRJ-CMk_6R_q"
   },
   "outputs": [],
   "source": [
    "jfk_trips_df[(jfk_trips_df.company=='Yellow') & (jfk_trips_df.fare_amount==0)].sort_values(by='trip_duration').payment_type.value_counts()"
   ]
  },
  {
   "cell_type": "code",
   "execution_count": null,
   "metadata": {
    "id": "2tmithKr6R_r"
   },
   "outputs": [],
   "source": [
    "jfk_less_than_52 = nyc_taxi_df[(nyc_taxi_df.ratecode == 'JFK')&(nyc_taxi_df.fare_amount < 52)&(nyc_taxi_df.fare_amount > 60)]"
   ]
  },
  {
   "cell_type": "code",
   "execution_count": null,
   "metadata": {
    "id": "feywvzPK6R_u"
   },
   "outputs": [],
   "source": [
    "(jfk_less_than_52.trip_distance < 14).sum() / jfk_less_than_52.shape[0]"
   ]
  },
  {
   "cell_type": "code",
   "execution_count": null,
   "metadata": {
    "id": "mUDt-SXA6R_v"
   },
   "outputs": [],
   "source": [
    "jfk_distance_fig, ax = plt.subplot()\n",
    "sns.displot(data=jfk_less_than_52, x='trip_distance', kind='kde', ax=ax)\n",
    "ax.set_xlabel(\"Trip Distance\")\n",
    "ax.set_title(\"Distance \")"
   ]
  },
  {
   "cell_type": "code",
   "execution_count": null,
   "metadata": {
    "id": "rinPMi6N6R_w"
   },
   "outputs": [],
   "source": [
    "sns.distplot(a=jfk_less_than_52['trip_distance'], kde=True)"
   ]
  },
  {
   "cell_type": "code",
   "execution_count": null,
   "metadata": {
    "id": "wFiSR8Q86R_x"
   },
   "outputs": [],
   "source": [
    "no_charge_movement_df = nyc_taxi_df[(nyc_taxi_df.fare_amount == 0)&(nyc_taxi_df.trip_distance == 0.0)]"
   ]
  },
  {
   "cell_type": "code",
   "execution_count": null,
   "metadata": {
    "id": "9RTT93Ff6R_y",
    "scrolled": true
   },
   "outputs": [],
   "source": [
    "jfk_bad_fares = df_yellow_19_feb[(df_yellow_19_feb.Ratecode == 'JFK')&(df_yellow_19_feb.fare_amount != 52.0)]\n",
    "\n",
    "neg52 = jfk_bad_fares[jfk_bad_fares.fare_amount == -52.0]\n",
    "neg52group = neg52.groupby('payment_type').agg(count=('payment_type', 'count')).reset_index()\n",
    "neg52group\n",
    "\n",
    "to_drop = df_yellow_19_feb[(df_yellow_19_feb.Ratecode == 'JFK')&(df_yellow_19_feb.fare_amount == -52.0)].index\n",
    "\n",
    "df_yellow_19_feb.drop(to_drop, inplace=True)\n",
    "\n",
    "no_go = df_yellow_19_feb[(df_yellow_19_feb.fare_amount == 0)&(df_yellow_19_feb.trip_distance == 0.0)].index\n",
    "df_yellow_19_feb.drop(no_go, inplace=True)\n",
    "\n",
    "negative_fare = df_yellow_19_feb[(df_yellow_19_feb.fare_amount < 0)].index\n",
    "df_yellow_19_feb.drop(negative_fare, inplace=True)\n",
    "\n",
    "df_yellow_19_feb['trip_duration'] = df_yellow_19_feb.tpep_dropoff_datetime - df_yellow_19_feb.tpep_pickup_datetime\n",
    "\n",
    "drop2_rate_fares_fig, drop2_rate_fares_axs = plt.subplots(nrows=len(df_yellow_19_feb.Ratecode.unique()), sharex=True, sharey=False)\n",
    "\n",
    "for i, ratecode in enumerate(df_yellow_19_feb.Ratecode.unique()):\n",
    "    \n",
    "    df = df_yellow_19_feb[df_yellow_19_feb.Ratecode == ratecode]\n",
    "    sns.violinplot(x=df.fare_amount, ax=drop2_rate_fares_axs[i], inner='quartile', color='orange')\n",
    "    drop2_rate_fares_axs[i].set_title(ratecode.capitalize(), loc='right', y=0.5)\n",
    "    drop2_rate_fares_axs[i].set_xlabel('Fare amount $')\n",
    "\n",
    "    \n",
    "drop2_rate_fares_fig.suptitle(\"Ratecode Fare Amount\", fontsize=20)\n",
    "drop2_rate_fares_fig.savefig('ratecode_fare_violin_drop2.png')"
   ]
  },
  {
   "cell_type": "markdown",
   "metadata": {
    "id": "WslYYgBI6R_z"
   },
   "source": [
    "## Trip Distance\n"
   ]
  },
  {
   "cell_type": "code",
   "execution_count": null,
   "metadata": {
    "id": "X8kT771r6R_z"
   },
   "outputs": [],
   "source": [
    "fhvhv_19_df"
   ]
  },
  {
   "cell_type": "code",
   "execution_count": null,
   "metadata": {
    "id": "XEsISPWL6R_0"
   },
   "outputs": [],
   "source": [
    "yellow_19_df.info()"
   ]
  },
  {
   "cell_type": "code",
   "execution_count": null,
   "metadata": {
    "id": "sRxV6gMg6R_1"
   },
   "outputs": [],
   "source": [
    "sns.violinplot(y='trip_distance', hue='license_type', data=nyc_taxi_df)"
   ]
  },
  {
   "cell_type": "code",
   "execution_count": null,
   "metadata": {
    "id": "TDrxRoOt6R_1"
   },
   "outputs": [],
   "source": [
    "plt.hist()"
   ]
  },
  {
   "cell_type": "code",
   "execution_count": null,
   "metadata": {
    "id": "ePOdCy3t6R_2"
   },
   "outputs": [],
   "source": [
    "nyc_taxi_df_df.trip_distance.describe()"
   ]
  },
  {
   "cell_type": "code",
   "execution_count": null,
   "metadata": {
    "id": "j-bmfcqR6R_3"
   },
   "outputs": [],
   "source": [
    "nyc_taxi_df.trip_distance.quantile(0.99999)"
   ]
  },
  {
   "cell_type": "code",
   "execution_count": null,
   "metadata": {
    "id": "ds88FT4A6R_4"
   },
   "outputs": [],
   "source": []
  },
  {
   "cell_type": "code",
   "execution_count": null,
   "metadata": {
    "id": "OohYWP7h6R_5"
   },
   "outputs": [],
   "source": []
  },
  {
   "cell_type": "code",
   "execution_count": null,
   "metadata": {
    "id": "I-hJMA5v6R_6",
    "scrolled": false
   },
   "outputs": [],
   "source": [
    "too_fast_too_far_df = nyc_taxi_df[(nyc_taxi_df.trip_distance > 100)&(nyc_taxi_df.trip_duration < np.timedelta64(1, 'h'))]"
   ]
  },
  {
   "cell_type": "code",
   "execution_count": null,
   "metadata": {
    "id": "BqfPYM7l6R_6"
   },
   "outputs": [],
   "source": [
    "too_fast_too_far_df.pickup_datetime.dt.time.sort_values()"
   ]
  },
  {
   "cell_type": "code",
   "execution_count": null,
   "metadata": {
    "id": "2UVDGl2I6R_7"
   },
   "outputs": [],
   "source": [
    "sns.distplot(too_fast_too_far_df['pickup_datetime'].dt.time, kde=True)"
   ]
  },
  {
   "cell_type": "code",
   "execution_count": null,
   "metadata": {
    "id": "ELCMIjfr6R_8"
   },
   "outputs": [],
   "source": [
    "sns.violinplot(x='', y='', hue=)"
   ]
  },
  {
   "cell_type": "code",
   "execution_count": null,
   "metadata": {
    "id": "X2TPrlSz6R_9"
   },
   "outputs": [],
   "source": []
  },
  {
   "cell_type": "code",
   "execution_count": null,
   "metadata": {
    "id": "C1pX7Xub6R_9"
   },
   "outputs": [],
   "source": [
    "sns.countplot(x='ratecode', data=too_fast_too_far_df)"
   ]
  },
  {
   "cell_type": "code",
   "execution_count": null,
   "metadata": {
    "id": "qKJZDFtX6R_-"
   },
   "outputs": [],
   "source": []
  },
  {
   "cell_type": "code",
   "execution_count": null,
   "metadata": {
    "id": "RngvmJTq6R__"
   },
   "outputs": [],
   "source": []
  },
  {
   "cell_type": "code",
   "execution_count": null,
   "metadata": {
    "id": "VZJnqTuU6R__"
   },
   "outputs": [],
   "source": []
  },
  {
   "cell_type": "code",
   "execution_count": null,
   "metadata": {
    "id": "lcaZhN1O6SAA",
    "scrolled": false
   },
   "outputs": [],
   "source": [
    "trip_dist_fig, trip_dist_ax = plt.subplots()\n",
    "sns.distplot(df_yellow_19_feb.trip_distance.apply(logify), hist=False, rug=False, ax=trip_dist_ax)\n",
    "trip_dist_ax.set(title='Trip distance kernel density estimate', xlabel='Trip distance', ylabel='Density')\n",
    "trip_dist_fig.tight_layout()\n",
    "trip_dist_fig.savefig('trip_KDE.png', pad=1)"
   ]
  },
  {
   "cell_type": "code",
   "execution_count": null,
   "metadata": {
    "id": "FG7H-geI6SAB",
    "scrolled": true
   },
   "outputs": [],
   "source": [
    "df_yellow_19_feb.trip_distance.describe()"
   ]
  },
  {
   "cell_type": "code",
   "execution_count": null,
   "metadata": {
    "id": "zC1csGHE6SAC",
    "scrolled": true
   },
   "outputs": [],
   "source": [
    "df_yellow_19_feb.trip_distance.quantile([0.9, 0.99, 0.999, 0.9999, 0.99999, 0.999999])"
   ]
  },
  {
   "cell_type": "code",
   "execution_count": null,
   "metadata": {
    "id": "nTB6dGmT6SAD",
    "scrolled": true
   },
   "outputs": [],
   "source": [
    "plt.hist(df_yellow_19_feb.trip_distance, bins=[0,1,2,3,4,5,10,50,100,200], log=True)"
   ]
  },
  {
   "cell_type": "code",
   "execution_count": null,
   "metadata": {
    "id": "a-gqX6vf6SAE",
    "scrolled": true
   },
   "outputs": [],
   "source": [
    "too_far = df_yellow_19_feb[(df_yellow_19_feb.trip_distance > 100)&(df_yellow_19_feb.trip_duration < np.timedelta64(1, 'h'))].index\n",
    "df_yellow_19_feb.drop(too_far, inplace=True)"
   ]
  },
  {
   "cell_type": "markdown",
   "metadata": {
    "id": "Wh3ZV6SM6SAE"
   },
   "source": [
    "## Check that passenger counts make sense: MAY WANT TO REDISTRIBUTE 0"
   ]
  },
  {
   "cell_type": "code",
   "execution_count": null,
   "metadata": {
    "id": "laQUwwqs6SAF",
    "scrolled": true
   },
   "outputs": [],
   "source": [
    "figure, axes = plt.subplots()\n",
    "plt.grid(which='major', axis='y')\n",
    "max_passengers = df_yellow_19_feb.passenger_count.unique().max()\n",
    "counts, bins, patches = plt.hist(df_yellow_19_feb.passenger_count, \n",
    "                                 density=True, \n",
    "                                 log=True, \n",
    "                                 bins=range(max_passengers+2), \n",
    "                                 align='left', \n",
    "                                 rwidth=0.8,\n",
    "                                 color='orange',\n",
    "                                 label=[str(i) for i in range(max_passengers)])\n",
    "plt.title(\"Yellow taxi passenger count\", fontsize=15)\n",
    "plt.xlabel('# passengers / trip')\n",
    "plt.ylabel('proportion of trips')\n",
    "plt.xticks(range(max_passengers+1))\n",
    "plt.show()"
   ]
  },
  {
   "cell_type": "markdown",
   "metadata": {
    "id": "tbf2VD-N6SAF"
   },
   "source": [
    "Now perform imputation on 0's as this is a driver entered value. Use KNN clustering to find the most appropriate count. "
   ]
  },
  {
   "cell_type": "code",
   "execution_count": null,
   "metadata": {
    "id": "cQ8-AnGb6SAF",
    "scrolled": true
   },
   "outputs": [],
   "source": [
    "from sklearn.impute import KNNImputer, MissingIndicator\n",
    "indicator = MissingIndicator(missing_values=0)\n"
   ]
  },
  {
   "cell_type": "code",
   "execution_count": null,
   "metadata": {
    "id": "M2XjWRrT6SAG",
    "scrolled": true
   },
   "outputs": [],
   "source": [
    "df_yellow_19_feb.info()"
   ]
  },
  {
   "cell_type": "code",
   "execution_count": null,
   "metadata": {
    "id": "2MbdrKmm6SAH",
    "scrolled": true
   },
   "outputs": [],
   "source": [
    "imputer = KNNImputer(n)\n",
    "df_yellow_19_feb."
   ]
  },
  {
   "cell_type": "code",
   "execution_count": null,
   "metadata": {
    "id": "EyaDVb3I6SAI",
    "scrolled": true
   },
   "outputs": [],
   "source": []
  },
  {
   "cell_type": "code",
   "execution_count": null,
   "metadata": {
    "id": "8TNRwjgN6SAI",
    "scrolled": true
   },
   "outputs": [],
   "source": []
  },
  {
   "cell_type": "markdown",
   "metadata": {
    "id": "caJrXtP86SAK"
   },
   "source": [
    "# Programmatically cleanse all"
   ]
  },
  {
   "cell_type": "markdown",
   "metadata": {
    "id": "KLbCijQ-6SAK"
   },
   "source": [
    "Name the dfs"
   ]
  },
  {
   "cell_type": "markdown",
   "metadata": {
    "id": "x9pmlMHW6SAK"
   },
   "source": [
    "Clean yellow"
   ]
  },
  {
   "cell_type": "code",
   "execution_count": null,
   "metadata": {
    "id": "2OhQo3Dh6SAK",
    "scrolled": true
   },
   "outputs": [],
   "source": [
    "for month in MONTHS:\n",
    "    df = yellow19[month]\n",
    "    print(\"Cleaning \" + month)\n",
    "    %time yellow19[month] = cleanse_trip_distance(cleanse_fare(df))\n",
    "    print(\"Writing .feather...\")\n",
    "    %time yellow19[month].drop(labels='trip_duration', axis=1).reset_index().to_feather(f'./Data/Cleansed/{df.name}.feather'.replace(' ', '_'))"
   ]
  },
  {
   "cell_type": "code",
   "execution_count": null,
   "metadata": {
    "id": "mnL159So6SAL",
    "scrolled": true
   },
   "outputs": [],
   "source": [
    "for month in MONTHS:\n",
    "    df = green19[month]\n",
    "    print(\"Cleaning \" + month)\n",
    "    %time green19[month] = cleanse_trip_distance(cleanse_fare(df))\n",
    "    print(\"Writing .feather...\")\n",
    "    %time green19[month].reset_index().drop(labels='trip_duration', axis=1).to_feather(f'./Data/Cleansed/{df.name}.feather'.replace(' ', '_'))"
   ]
  },
  {
   "cell_type": "code",
   "execution_count": null,
   "metadata": {
    "id": "hnnl4oql6SAM",
    "scrolled": true
   },
   "outputs": [],
   "source": [
    "# load in cleansed yellow 2019\n",
    "for month in MONTHS:\n",
    "    capmonth = month.capitalize()\n",
    "    yellow19[month] = pd.read_feather(f'./Data/Cleansed/Yellow_Taxi_{capmonth}_2019.feather')"
   ]
  },
  {
   "cell_type": "code",
   "execution_count": null,
   "metadata": {
    "id": "1LwW7YQ46SAN",
    "scrolled": true
   },
   "outputs": [],
   "source": [
    "# load in cleansed yellow 2019\n",
    "for month in MONTHS:\n",
    "    capmonth = month.capitalize()\n",
    "    green19[month] = pd.read_feather(f'./Data/Cleansed/Green_Taxi_{capmonth}_2019.feather')"
   ]
  },
  {
   "cell_type": "code",
   "execution_count": null,
   "metadata": {
    "id": "fUFuE20u6SAO"
   },
   "outputs": [],
   "source": [
    "df_to_feather(nyc_taxi_df, '_CLEANSED')\n"
   ]
  },
  {
   "cell_type": "code",
   "execution_count": null,
   "metadata": {
    "id": "KBwmZTBH6SAO"
   },
   "outputs": [],
   "source": [
    "nyc_taxi_df = df_from_feather(\"./Data/New York Taxi 2019_CLEANSED.feather\", \"nyc_taxi_2019\")"
   ]
  },
  {
   "cell_type": "markdown",
   "metadata": {
    "id": "TnHb7WZe6SAP"
   },
   "source": [
    "# Find interesting features by correlation"
   ]
  },
  {
   "cell_type": "code",
   "execution_count": null,
   "metadata": {
    "id": "fRTVWsyL6SAP"
   },
   "outputs": [],
   "source": [
    "fhvhv_corr = fhvhv_19_df.corr()"
   ]
  },
  {
   "cell_type": "code",
   "execution_count": null,
   "metadata": {
    "id": "-NepGVsr6SAQ"
   },
   "outputs": [],
   "source": [
    "corr_fig, corr_axes = plt.subplots(ncols=3)\n",
    "for i, corr_df in enumerate([yellow_corr, green_corr, fhvhv_corr]):\n",
    "    ax = corr_axes[i-1]\n",
    "    sns.heatmap()"
   ]
  },
  {
   "cell_type": "markdown",
   "metadata": {
    "id": "Isib0eH16SAR"
   },
   "source": [
    "# Reindex"
   ]
  },
  {
   "cell_type": "code",
   "execution_count": null,
   "metadata": {
    "id": "1ENdi4gv6SAR",
    "outputId": "ca5ef0e9-a0e4-48ab-a7c0-be61f22429ba"
   },
   "outputs": [
    {
     "data": {
      "text/html": [
       "<div>\n",
       "<style scoped>\n",
       "    .dataframe tbody tr th:only-of-type {\n",
       "        vertical-align: middle;\n",
       "    }\n",
       "\n",
       "    .dataframe tbody tr th {\n",
       "        vertical-align: top;\n",
       "    }\n",
       "\n",
       "    .dataframe thead th {\n",
       "        text-align: right;\n",
       "    }\n",
       "</style>\n",
       "<table border=\"1\" class=\"dataframe\">\n",
       "  <thead>\n",
       "    <tr style=\"text-align: right;\">\n",
       "      <th></th>\n",
       "      <th>month</th>\n",
       "      <th>vendor</th>\n",
       "      <th>pickup_datetime</th>\n",
       "      <th>dropoff_datetime</th>\n",
       "      <th>passenger_count</th>\n",
       "      <th>trip_distance</th>\n",
       "      <th>ratecode</th>\n",
       "      <th>store_and_fwd_flag</th>\n",
       "      <th>PULocationID</th>\n",
       "      <th>DOLocationID</th>\n",
       "      <th>...</th>\n",
       "      <th>tip_amount</th>\n",
       "      <th>tolls_amount</th>\n",
       "      <th>improvement_surcharge</th>\n",
       "      <th>total_amount</th>\n",
       "      <th>congestion_surcharge</th>\n",
       "      <th>company</th>\n",
       "      <th>license_type</th>\n",
       "      <th>trip_duration</th>\n",
       "      <th>ehail_fee</th>\n",
       "      <th>trip_type</th>\n",
       "    </tr>\n",
       "  </thead>\n",
       "  <tbody>\n",
       "    <tr>\n",
       "      <th>0</th>\n",
       "      <td>Jan</td>\n",
       "      <td>Creative Mobile Technologies, LLC.</td>\n",
       "      <td>2019-01-01 00:46:40</td>\n",
       "      <td>2019-01-01 00:53:20</td>\n",
       "      <td>1.0</td>\n",
       "      <td>1.50</td>\n",
       "      <td>Standard</td>\n",
       "      <td>True</td>\n",
       "      <td>151</td>\n",
       "      <td>239</td>\n",
       "      <td>...</td>\n",
       "      <td>1.65</td>\n",
       "      <td>0.0</td>\n",
       "      <td>0.3</td>\n",
       "      <td>9.95</td>\n",
       "      <td>NaN</td>\n",
       "      <td>Yellow</td>\n",
       "      <td>Medallion</td>\n",
       "      <td>0 days 00:06:40</td>\n",
       "      <td>NaN</td>\n",
       "      <td>NaN</td>\n",
       "    </tr>\n",
       "    <tr>\n",
       "      <th>1</th>\n",
       "      <td>Jan</td>\n",
       "      <td>Creative Mobile Technologies, LLC.</td>\n",
       "      <td>2019-01-01 00:59:47</td>\n",
       "      <td>2019-01-01 01:18:59</td>\n",
       "      <td>1.0</td>\n",
       "      <td>2.60</td>\n",
       "      <td>Standard</td>\n",
       "      <td>True</td>\n",
       "      <td>239</td>\n",
       "      <td>246</td>\n",
       "      <td>...</td>\n",
       "      <td>1.00</td>\n",
       "      <td>0.0</td>\n",
       "      <td>0.3</td>\n",
       "      <td>16.30</td>\n",
       "      <td>NaN</td>\n",
       "      <td>Yellow</td>\n",
       "      <td>Medallion</td>\n",
       "      <td>0 days 00:19:12</td>\n",
       "      <td>NaN</td>\n",
       "      <td>NaN</td>\n",
       "    </tr>\n",
       "    <tr>\n",
       "      <th>2</th>\n",
       "      <td>Jan</td>\n",
       "      <td>Verifone Inc.</td>\n",
       "      <td>2018-12-21 13:48:30</td>\n",
       "      <td>2018-12-21 13:52:40</td>\n",
       "      <td>3.0</td>\n",
       "      <td>0.00</td>\n",
       "      <td>Standard</td>\n",
       "      <td>True</td>\n",
       "      <td>236</td>\n",
       "      <td>236</td>\n",
       "      <td>...</td>\n",
       "      <td>0.00</td>\n",
       "      <td>0.0</td>\n",
       "      <td>0.3</td>\n",
       "      <td>5.80</td>\n",
       "      <td>NaN</td>\n",
       "      <td>Yellow</td>\n",
       "      <td>Medallion</td>\n",
       "      <td>0 days 00:04:10</td>\n",
       "      <td>NaN</td>\n",
       "      <td>NaN</td>\n",
       "    </tr>\n",
       "    <tr>\n",
       "      <th>3</th>\n",
       "      <td>Jan</td>\n",
       "      <td>Verifone Inc.</td>\n",
       "      <td>2018-11-28 15:52:25</td>\n",
       "      <td>2018-11-28 15:55:45</td>\n",
       "      <td>5.0</td>\n",
       "      <td>0.00</td>\n",
       "      <td>Standard</td>\n",
       "      <td>True</td>\n",
       "      <td>193</td>\n",
       "      <td>193</td>\n",
       "      <td>...</td>\n",
       "      <td>0.00</td>\n",
       "      <td>0.0</td>\n",
       "      <td>0.3</td>\n",
       "      <td>7.55</td>\n",
       "      <td>NaN</td>\n",
       "      <td>Yellow</td>\n",
       "      <td>Medallion</td>\n",
       "      <td>0 days 00:03:20</td>\n",
       "      <td>NaN</td>\n",
       "      <td>NaN</td>\n",
       "    </tr>\n",
       "    <tr>\n",
       "      <th>4</th>\n",
       "      <td>Jan</td>\n",
       "      <td>Verifone Inc.</td>\n",
       "      <td>2018-11-28 15:56:57</td>\n",
       "      <td>2018-11-28 15:58:33</td>\n",
       "      <td>5.0</td>\n",
       "      <td>0.00</td>\n",
       "      <td>JFK</td>\n",
       "      <td>True</td>\n",
       "      <td>193</td>\n",
       "      <td>193</td>\n",
       "      <td>...</td>\n",
       "      <td>0.00</td>\n",
       "      <td>0.0</td>\n",
       "      <td>0.3</td>\n",
       "      <td>55.55</td>\n",
       "      <td>NaN</td>\n",
       "      <td>Yellow</td>\n",
       "      <td>Medallion</td>\n",
       "      <td>0 days 00:01:36</td>\n",
       "      <td>NaN</td>\n",
       "      <td>NaN</td>\n",
       "    </tr>\n",
       "    <tr>\n",
       "      <th>...</th>\n",
       "      <td>...</td>\n",
       "      <td>...</td>\n",
       "      <td>...</td>\n",
       "      <td>...</td>\n",
       "      <td>...</td>\n",
       "      <td>...</td>\n",
       "      <td>...</td>\n",
       "      <td>...</td>\n",
       "      <td>...</td>\n",
       "      <td>...</td>\n",
       "      <td>...</td>\n",
       "      <td>...</td>\n",
       "      <td>...</td>\n",
       "      <td>...</td>\n",
       "      <td>...</td>\n",
       "      <td>...</td>\n",
       "      <td>...</td>\n",
       "      <td>...</td>\n",
       "      <td>...</td>\n",
       "      <td>...</td>\n",
       "      <td>...</td>\n",
       "    </tr>\n",
       "    <tr>\n",
       "      <th>6044044</th>\n",
       "      <td>Dec</td>\n",
       "      <td>NaN</td>\n",
       "      <td>2019-12-31 23:46:00</td>\n",
       "      <td>2020-01-01 00:03:00</td>\n",
       "      <td>NaN</td>\n",
       "      <td>7.43</td>\n",
       "      <td>Unknown</td>\n",
       "      <td>False</td>\n",
       "      <td>7</td>\n",
       "      <td>56</td>\n",
       "      <td>...</td>\n",
       "      <td>0.00</td>\n",
       "      <td>0.0</td>\n",
       "      <td>0.3</td>\n",
       "      <td>24.50</td>\n",
       "      <td>NaN</td>\n",
       "      <td>Green</td>\n",
       "      <td>Street Hail Liveries</td>\n",
       "      <td>0 days 00:17:00</td>\n",
       "      <td>NaN</td>\n",
       "      <td>NaN</td>\n",
       "    </tr>\n",
       "    <tr>\n",
       "      <th>6044045</th>\n",
       "      <td>Dec</td>\n",
       "      <td>NaN</td>\n",
       "      <td>2019-12-31 23:26:00</td>\n",
       "      <td>2019-12-31 23:54:00</td>\n",
       "      <td>NaN</td>\n",
       "      <td>10.02</td>\n",
       "      <td>Unknown</td>\n",
       "      <td>False</td>\n",
       "      <td>35</td>\n",
       "      <td>130</td>\n",
       "      <td>...</td>\n",
       "      <td>0.00</td>\n",
       "      <td>0.0</td>\n",
       "      <td>0.3</td>\n",
       "      <td>51.90</td>\n",
       "      <td>NaN</td>\n",
       "      <td>Green</td>\n",
       "      <td>Street Hail Liveries</td>\n",
       "      <td>0 days 00:28:00</td>\n",
       "      <td>NaN</td>\n",
       "      <td>NaN</td>\n",
       "    </tr>\n",
       "    <tr>\n",
       "      <th>6044046</th>\n",
       "      <td>Dec</td>\n",
       "      <td>NaN</td>\n",
       "      <td>2019-12-31 23:02:00</td>\n",
       "      <td>2019-12-31 23:16:00</td>\n",
       "      <td>NaN</td>\n",
       "      <td>2.27</td>\n",
       "      <td>Unknown</td>\n",
       "      <td>False</td>\n",
       "      <td>76</td>\n",
       "      <td>61</td>\n",
       "      <td>...</td>\n",
       "      <td>0.00</td>\n",
       "      <td>0.0</td>\n",
       "      <td>0.3</td>\n",
       "      <td>26.36</td>\n",
       "      <td>NaN</td>\n",
       "      <td>Green</td>\n",
       "      <td>Street Hail Liveries</td>\n",
       "      <td>0 days 00:14:00</td>\n",
       "      <td>NaN</td>\n",
       "      <td>NaN</td>\n",
       "    </tr>\n",
       "    <tr>\n",
       "      <th>6044047</th>\n",
       "      <td>Dec</td>\n",
       "      <td>NaN</td>\n",
       "      <td>2019-12-31 23:24:00</td>\n",
       "      <td>2019-12-31 23:40:00</td>\n",
       "      <td>NaN</td>\n",
       "      <td>9.35</td>\n",
       "      <td>Unknown</td>\n",
       "      <td>False</td>\n",
       "      <td>185</td>\n",
       "      <td>247</td>\n",
       "      <td>...</td>\n",
       "      <td>0.00</td>\n",
       "      <td>0.0</td>\n",
       "      <td>0.3</td>\n",
       "      <td>30.32</td>\n",
       "      <td>NaN</td>\n",
       "      <td>Green</td>\n",
       "      <td>Street Hail Liveries</td>\n",
       "      <td>0 days 00:16:00</td>\n",
       "      <td>NaN</td>\n",
       "      <td>NaN</td>\n",
       "    </tr>\n",
       "    <tr>\n",
       "      <th>6044049</th>\n",
       "      <td>Dec</td>\n",
       "      <td>NaN</td>\n",
       "      <td>2019-12-31 23:52:00</td>\n",
       "      <td>2020-01-01 00:05:00</td>\n",
       "      <td>NaN</td>\n",
       "      <td>2.43</td>\n",
       "      <td>Unknown</td>\n",
       "      <td>False</td>\n",
       "      <td>42</td>\n",
       "      <td>244</td>\n",
       "      <td>...</td>\n",
       "      <td>0.00</td>\n",
       "      <td>0.0</td>\n",
       "      <td>0.0</td>\n",
       "      <td>24.40</td>\n",
       "      <td>NaN</td>\n",
       "      <td>Green</td>\n",
       "      <td>Street Hail Liveries</td>\n",
       "      <td>0 days 00:13:00</td>\n",
       "      <td>NaN</td>\n",
       "      <td>NaN</td>\n",
       "    </tr>\n",
       "  </tbody>\n",
       "</table>\n",
       "<p>89939647 rows × 24 columns</p>\n",
       "</div>"
      ],
      "text/plain": [
       "        month                              vendor     pickup_datetime  \\\n",
       "0         Jan  Creative Mobile Technologies, LLC. 2019-01-01 00:46:40   \n",
       "1         Jan  Creative Mobile Technologies, LLC. 2019-01-01 00:59:47   \n",
       "2         Jan                       Verifone Inc. 2018-12-21 13:48:30   \n",
       "3         Jan                       Verifone Inc. 2018-11-28 15:52:25   \n",
       "4         Jan                       Verifone Inc. 2018-11-28 15:56:57   \n",
       "...       ...                                 ...                 ...   \n",
       "6044044   Dec                                 NaN 2019-12-31 23:46:00   \n",
       "6044045   Dec                                 NaN 2019-12-31 23:26:00   \n",
       "6044046   Dec                                 NaN 2019-12-31 23:02:00   \n",
       "6044047   Dec                                 NaN 2019-12-31 23:24:00   \n",
       "6044049   Dec                                 NaN 2019-12-31 23:52:00   \n",
       "\n",
       "           dropoff_datetime  passenger_count  trip_distance  ratecode  \\\n",
       "0       2019-01-01 00:53:20              1.0           1.50  Standard   \n",
       "1       2019-01-01 01:18:59              1.0           2.60  Standard   \n",
       "2       2018-12-21 13:52:40              3.0           0.00  Standard   \n",
       "3       2018-11-28 15:55:45              5.0           0.00  Standard   \n",
       "4       2018-11-28 15:58:33              5.0           0.00       JFK   \n",
       "...                     ...              ...            ...       ...   \n",
       "6044044 2020-01-01 00:03:00              NaN           7.43   Unknown   \n",
       "6044045 2019-12-31 23:54:00              NaN          10.02   Unknown   \n",
       "6044046 2019-12-31 23:16:00              NaN           2.27   Unknown   \n",
       "6044047 2019-12-31 23:40:00              NaN           9.35   Unknown   \n",
       "6044049 2020-01-01 00:05:00              NaN           2.43   Unknown   \n",
       "\n",
       "         store_and_fwd_flag PULocationID DOLocationID  ... tip_amount  \\\n",
       "0                      True          151          239  ...       1.65   \n",
       "1                      True          239          246  ...       1.00   \n",
       "2                      True          236          236  ...       0.00   \n",
       "3                      True          193          193  ...       0.00   \n",
       "4                      True          193          193  ...       0.00   \n",
       "...                     ...          ...          ...  ...        ...   \n",
       "6044044               False            7           56  ...       0.00   \n",
       "6044045               False           35          130  ...       0.00   \n",
       "6044046               False           76           61  ...       0.00   \n",
       "6044047               False          185          247  ...       0.00   \n",
       "6044049               False           42          244  ...       0.00   \n",
       "\n",
       "         tolls_amount  improvement_surcharge  total_amount  \\\n",
       "0                 0.0                    0.3          9.95   \n",
       "1                 0.0                    0.3         16.30   \n",
       "2                 0.0                    0.3          5.80   \n",
       "3                 0.0                    0.3          7.55   \n",
       "4                 0.0                    0.3         55.55   \n",
       "...               ...                    ...           ...   \n",
       "6044044           0.0                    0.3         24.50   \n",
       "6044045           0.0                    0.3         51.90   \n",
       "6044046           0.0                    0.3         26.36   \n",
       "6044047           0.0                    0.3         30.32   \n",
       "6044049           0.0                    0.0         24.40   \n",
       "\n",
       "         congestion_surcharge  company          license_type   trip_duration  \\\n",
       "0                         NaN   Yellow             Medallion 0 days 00:06:40   \n",
       "1                         NaN   Yellow             Medallion 0 days 00:19:12   \n",
       "2                         NaN   Yellow             Medallion 0 days 00:04:10   \n",
       "3                         NaN   Yellow             Medallion 0 days 00:03:20   \n",
       "4                         NaN   Yellow             Medallion 0 days 00:01:36   \n",
       "...                       ...      ...                   ...             ...   \n",
       "6044044                   NaN    Green  Street Hail Liveries 0 days 00:17:00   \n",
       "6044045                   NaN    Green  Street Hail Liveries 0 days 00:28:00   \n",
       "6044046                   NaN    Green  Street Hail Liveries 0 days 00:14:00   \n",
       "6044047                   NaN    Green  Street Hail Liveries 0 days 00:16:00   \n",
       "6044049                   NaN    Green  Street Hail Liveries 0 days 00:13:00   \n",
       "\n",
       "         ehail_fee trip_type  \n",
       "0              NaN       NaN  \n",
       "1              NaN       NaN  \n",
       "2              NaN       NaN  \n",
       "3              NaN       NaN  \n",
       "4              NaN       NaN  \n",
       "...            ...       ...  \n",
       "6044044        NaN       NaN  \n",
       "6044045        NaN       NaN  \n",
       "6044046        NaN       NaN  \n",
       "6044047        NaN       NaN  \n",
       "6044049        NaN       NaN  \n",
       "\n",
       "[89939647 rows x 24 columns]"
      ]
     },
     "execution_count": 26,
     "metadata": {
      "tags": []
     },
     "output_type": "execute_result"
    }
   ],
   "source": [
    "nyc_taxi_df"
   ]
  },
  {
   "cell_type": "code",
   "execution_count": null,
   "metadata": {
    "id": "CFay2koG6SAS",
    "outputId": "2f3dba1b-994b-432f-d8ff-4358058f025b"
   },
   "outputs": [
    {
     "data": {
      "text/html": [
       "<div>\n",
       "<style scoped>\n",
       "    .dataframe tbody tr th:only-of-type {\n",
       "        vertical-align: middle;\n",
       "    }\n",
       "\n",
       "    .dataframe tbody tr th {\n",
       "        vertical-align: top;\n",
       "    }\n",
       "\n",
       "    .dataframe thead th {\n",
       "        text-align: right;\n",
       "    }\n",
       "</style>\n",
       "<table border=\"1\" class=\"dataframe\">\n",
       "  <thead>\n",
       "    <tr style=\"text-align: right;\">\n",
       "      <th></th>\n",
       "      <th>index</th>\n",
       "      <th>month</th>\n",
       "      <th>company</th>\n",
       "      <th>pickup_datetime</th>\n",
       "      <th>dropoff_datetime</th>\n",
       "      <th>PULocationID</th>\n",
       "      <th>DOLocationID</th>\n",
       "      <th>license_type</th>\n",
       "      <th>trip_duration</th>\n",
       "    </tr>\n",
       "  </thead>\n",
       "  <tbody>\n",
       "    <tr>\n",
       "      <th>0</th>\n",
       "      <td>0</td>\n",
       "      <td>Feb</td>\n",
       "      <td>Uber</td>\n",
       "      <td>2019-02-01 00:05:18</td>\n",
       "      <td>2019-02-01 00:14:57</td>\n",
       "      <td>245</td>\n",
       "      <td>251</td>\n",
       "      <td>High-Volume For-Hire Services</td>\n",
       "      <td>0 days 00:09:39</td>\n",
       "    </tr>\n",
       "    <tr>\n",
       "      <th>1</th>\n",
       "      <td>1</td>\n",
       "      <td>Feb</td>\n",
       "      <td>Uber</td>\n",
       "      <td>2019-02-01 00:41:29</td>\n",
       "      <td>2019-02-01 00:49:39</td>\n",
       "      <td>216</td>\n",
       "      <td>197</td>\n",
       "      <td>High-Volume For-Hire Services</td>\n",
       "      <td>0 days 00:08:10</td>\n",
       "    </tr>\n",
       "    <tr>\n",
       "      <th>2</th>\n",
       "      <td>2</td>\n",
       "      <td>Feb</td>\n",
       "      <td>Lyft</td>\n",
       "      <td>2019-02-01 00:51:34</td>\n",
       "      <td>2019-02-01 01:28:29</td>\n",
       "      <td>NaN</td>\n",
       "      <td>234</td>\n",
       "      <td>High-Volume For-Hire Services</td>\n",
       "      <td>0 days 00:36:55</td>\n",
       "    </tr>\n",
       "    <tr>\n",
       "      <th>3</th>\n",
       "      <td>3</td>\n",
       "      <td>Feb</td>\n",
       "      <td>Lyft</td>\n",
       "      <td>2019-02-01 00:03:51</td>\n",
       "      <td>2019-02-01 00:07:16</td>\n",
       "      <td>87</td>\n",
       "      <td>87</td>\n",
       "      <td>High-Volume For-Hire Services</td>\n",
       "      <td>0 days 00:03:25</td>\n",
       "    </tr>\n",
       "    <tr>\n",
       "      <th>4</th>\n",
       "      <td>4</td>\n",
       "      <td>Feb</td>\n",
       "      <td>Lyft</td>\n",
       "      <td>2019-02-01 00:09:44</td>\n",
       "      <td>2019-02-01 00:39:56</td>\n",
       "      <td>87</td>\n",
       "      <td>198</td>\n",
       "      <td>High-Volume For-Hire Services</td>\n",
       "      <td>0 days 00:30:12</td>\n",
       "    </tr>\n",
       "    <tr>\n",
       "      <th>...</th>\n",
       "      <td>...</td>\n",
       "      <td>...</td>\n",
       "      <td>...</td>\n",
       "      <td>...</td>\n",
       "      <td>...</td>\n",
       "      <td>...</td>\n",
       "      <td>...</td>\n",
       "      <td>...</td>\n",
       "      <td>...</td>\n",
       "    </tr>\n",
       "    <tr>\n",
       "      <th>89939642</th>\n",
       "      <td>6044044</td>\n",
       "      <td>Dec</td>\n",
       "      <td>Green</td>\n",
       "      <td>2019-12-31 23:46:00</td>\n",
       "      <td>2020-01-01 00:03:00</td>\n",
       "      <td>7</td>\n",
       "      <td>56</td>\n",
       "      <td>Street Hail Liveries</td>\n",
       "      <td>0 days 00:17:00</td>\n",
       "    </tr>\n",
       "    <tr>\n",
       "      <th>89939643</th>\n",
       "      <td>6044045</td>\n",
       "      <td>Dec</td>\n",
       "      <td>Green</td>\n",
       "      <td>2019-12-31 23:26:00</td>\n",
       "      <td>2019-12-31 23:54:00</td>\n",
       "      <td>35</td>\n",
       "      <td>130</td>\n",
       "      <td>Street Hail Liveries</td>\n",
       "      <td>0 days 00:28:00</td>\n",
       "    </tr>\n",
       "    <tr>\n",
       "      <th>89939644</th>\n",
       "      <td>6044046</td>\n",
       "      <td>Dec</td>\n",
       "      <td>Green</td>\n",
       "      <td>2019-12-31 23:02:00</td>\n",
       "      <td>2019-12-31 23:16:00</td>\n",
       "      <td>76</td>\n",
       "      <td>61</td>\n",
       "      <td>Street Hail Liveries</td>\n",
       "      <td>0 days 00:14:00</td>\n",
       "    </tr>\n",
       "    <tr>\n",
       "      <th>89939645</th>\n",
       "      <td>6044047</td>\n",
       "      <td>Dec</td>\n",
       "      <td>Green</td>\n",
       "      <td>2019-12-31 23:24:00</td>\n",
       "      <td>2019-12-31 23:40:00</td>\n",
       "      <td>185</td>\n",
       "      <td>247</td>\n",
       "      <td>Street Hail Liveries</td>\n",
       "      <td>0 days 00:16:00</td>\n",
       "    </tr>\n",
       "    <tr>\n",
       "      <th>89939646</th>\n",
       "      <td>6044049</td>\n",
       "      <td>Dec</td>\n",
       "      <td>Green</td>\n",
       "      <td>2019-12-31 23:52:00</td>\n",
       "      <td>2020-01-01 00:05:00</td>\n",
       "      <td>42</td>\n",
       "      <td>244</td>\n",
       "      <td>Street Hail Liveries</td>\n",
       "      <td>0 days 00:13:00</td>\n",
       "    </tr>\n",
       "  </tbody>\n",
       "</table>\n",
       "<p>345783959 rows × 9 columns</p>\n",
       "</div>"
      ],
      "text/plain": [
       "            index month company     pickup_datetime    dropoff_datetime  \\\n",
       "0               0   Feb    Uber 2019-02-01 00:05:18 2019-02-01 00:14:57   \n",
       "1               1   Feb    Uber 2019-02-01 00:41:29 2019-02-01 00:49:39   \n",
       "2               2   Feb    Lyft 2019-02-01 00:51:34 2019-02-01 01:28:29   \n",
       "3               3   Feb    Lyft 2019-02-01 00:03:51 2019-02-01 00:07:16   \n",
       "4               4   Feb    Lyft 2019-02-01 00:09:44 2019-02-01 00:39:56   \n",
       "...           ...   ...     ...                 ...                 ...   \n",
       "89939642  6044044   Dec   Green 2019-12-31 23:46:00 2020-01-01 00:03:00   \n",
       "89939643  6044045   Dec   Green 2019-12-31 23:26:00 2019-12-31 23:54:00   \n",
       "89939644  6044046   Dec   Green 2019-12-31 23:02:00 2019-12-31 23:16:00   \n",
       "89939645  6044047   Dec   Green 2019-12-31 23:24:00 2019-12-31 23:40:00   \n",
       "89939646  6044049   Dec   Green 2019-12-31 23:52:00 2020-01-01 00:05:00   \n",
       "\n",
       "         PULocationID DOLocationID                   license_type  \\\n",
       "0                 245          251  High-Volume For-Hire Services   \n",
       "1                 216          197  High-Volume For-Hire Services   \n",
       "2                 NaN          234  High-Volume For-Hire Services   \n",
       "3                  87           87  High-Volume For-Hire Services   \n",
       "4                  87          198  High-Volume For-Hire Services   \n",
       "...               ...          ...                            ...   \n",
       "89939642            7           56           Street Hail Liveries   \n",
       "89939643           35          130           Street Hail Liveries   \n",
       "89939644           76           61           Street Hail Liveries   \n",
       "89939645          185          247           Street Hail Liveries   \n",
       "89939646           42          244           Street Hail Liveries   \n",
       "\n",
       "           trip_duration  \n",
       "0        0 days 00:09:39  \n",
       "1        0 days 00:08:10  \n",
       "2        0 days 00:36:55  \n",
       "3        0 days 00:03:25  \n",
       "4        0 days 00:30:12  \n",
       "...                  ...  \n",
       "89939642 0 days 00:17:00  \n",
       "89939643 0 days 00:28:00  \n",
       "89939644 0 days 00:14:00  \n",
       "89939645 0 days 00:16:00  \n",
       "89939646 0 days 00:13:00  \n",
       "\n",
       "[345783959 rows x 9 columns]"
      ]
     },
     "execution_count": 27,
     "metadata": {
      "tags": []
     },
     "output_type": "execute_result"
    }
   ],
   "source": [
    "tlc_19"
   ]
  },
  {
   "cell_type": "code",
   "execution_count": null,
   "metadata": {
    "id": "kf4os3xI6SAT"
   },
   "outputs": [],
   "source": []
  },
  {
   "cell_type": "code",
   "execution_count": null,
   "metadata": {
    "id": "DPxvOZbH6SAT"
   },
   "outputs": [],
   "source": []
  },
  {
   "cell_type": "code",
   "execution_count": null,
   "metadata": {
    "id": "CSQA4rq06SAU"
   },
   "outputs": [],
   "source": []
  },
  {
   "cell_type": "code",
   "execution_count": null,
   "metadata": {
    "id": "XxqLeZgb6SAV"
   },
   "outputs": [],
   "source": []
  },
  {
   "cell_type": "code",
   "execution_count": null,
   "metadata": {
    "id": "nn1iBr6s6SAV"
   },
   "outputs": [],
   "source": [
    "fhvhv_19_df = fhvhv_19_df.rename_axis(index=['idx']).reset_index().set_index(['month', 'company', 'idx'])"
   ]
  },
  {
   "cell_type": "code",
   "execution_count": null,
   "metadata": {
    "id": "aJooRww36SAW"
   },
   "outputs": [],
   "source": [
    "yellow_19_df.rename_axis(index=['idx']).reset_index().set_index(['month', 'idx'])"
   ]
  },
  {
   "cell_type": "code",
   "execution_count": null,
   "metadata": {
    "id": "GFheV1c66SAX"
   },
   "outputs": [],
   "source": [
    "green_19_df = green_19_df.rename_axis(index=['idx']).reset_index().set_index(['month', 'idx'])"
   ]
  },
  {
   "cell_type": "code",
   "execution_count": null,
   "metadata": {
    "id": "DxTKcXLk6SAY"
   },
   "outputs": [],
   "source": [
    "nyc_taxi_df = nyc_taxi_df.rename_axis(index=['idx']).reset_index().set_index(['month', 'idx'])"
   ]
  },
  {
   "cell_type": "markdown",
   "metadata": {
    "id": "EkJbTbos6SAY"
   },
   "source": [
    "# Mapping"
   ]
  },
  {
   "cell_type": "code",
   "execution_count": null,
   "metadata": {
    "id": "5s-ivGKi6SAZ"
   },
   "outputs": [],
   "source": [
    "zone_polgns_gdf = gpd.read_file(\"./Data/taxi_zones/taxi_zones.shp\")\n",
    "zone_polgns_gdf.geometry = zone_polgns_gdf.geometry.to_crs(\"+proj=longlat +ellps=WGS84 +datum=WGS84 +no_defs\")\n",
    "zone_polgns_gdf.set_index('LocationID', drop=False, inplace=True)\n",
    "zone_polgns_gdf.drop('OBJECTID', axis=1, errors='ignore', inplace=True)\n",
    "# zone_polgns_gdf['centroid'] = zone_polgns_gdf.geometry.centroid"
   ]
  },
  {
   "cell_type": "code",
   "execution_count": null,
   "metadata": {
    "id": "t4bIPIGw6SAZ",
    "outputId": "b0169675-970f-4689-9119-402ece6fffd2"
   },
   "outputs": [
    {
     "data": {
      "text/html": [
       "<div>\n",
       "<style scoped>\n",
       "    .dataframe tbody tr th:only-of-type {\n",
       "        vertical-align: middle;\n",
       "    }\n",
       "\n",
       "    .dataframe tbody tr th {\n",
       "        vertical-align: top;\n",
       "    }\n",
       "\n",
       "    .dataframe thead th {\n",
       "        text-align: right;\n",
       "    }\n",
       "</style>\n",
       "<table border=\"1\" class=\"dataframe\">\n",
       "  <thead>\n",
       "    <tr style=\"text-align: right;\">\n",
       "      <th></th>\n",
       "      <th>Shape_Leng</th>\n",
       "      <th>Shape_Area</th>\n",
       "      <th>zone</th>\n",
       "      <th>LocationID</th>\n",
       "      <th>borough</th>\n",
       "      <th>geometry</th>\n",
       "    </tr>\n",
       "    <tr>\n",
       "      <th>LocationID</th>\n",
       "      <th></th>\n",
       "      <th></th>\n",
       "      <th></th>\n",
       "      <th></th>\n",
       "      <th></th>\n",
       "      <th></th>\n",
       "    </tr>\n",
       "  </thead>\n",
       "  <tbody>\n",
       "    <tr>\n",
       "      <th>1</th>\n",
       "      <td>0.116357</td>\n",
       "      <td>0.000782</td>\n",
       "      <td>Newark Airport</td>\n",
       "      <td>1</td>\n",
       "      <td>EWR</td>\n",
       "      <td>POLYGON ((-74.18445 40.69500, -74.18449 40.695...</td>\n",
       "    </tr>\n",
       "    <tr>\n",
       "      <th>2</th>\n",
       "      <td>0.433470</td>\n",
       "      <td>0.004866</td>\n",
       "      <td>Jamaica Bay</td>\n",
       "      <td>2</td>\n",
       "      <td>Queens</td>\n",
       "      <td>MULTIPOLYGON (((-73.82338 40.63899, -73.82277 ...</td>\n",
       "    </tr>\n",
       "    <tr>\n",
       "      <th>3</th>\n",
       "      <td>0.084341</td>\n",
       "      <td>0.000314</td>\n",
       "      <td>Allerton/Pelham Gardens</td>\n",
       "      <td>3</td>\n",
       "      <td>Bronx</td>\n",
       "      <td>POLYGON ((-73.84793 40.87134, -73.84725 40.870...</td>\n",
       "    </tr>\n",
       "    <tr>\n",
       "      <th>4</th>\n",
       "      <td>0.043567</td>\n",
       "      <td>0.000112</td>\n",
       "      <td>Alphabet City</td>\n",
       "      <td>4</td>\n",
       "      <td>Manhattan</td>\n",
       "      <td>POLYGON ((-73.97177 40.72582, -73.97179 40.725...</td>\n",
       "    </tr>\n",
       "    <tr>\n",
       "      <th>5</th>\n",
       "      <td>0.092146</td>\n",
       "      <td>0.000498</td>\n",
       "      <td>Arden Heights</td>\n",
       "      <td>5</td>\n",
       "      <td>Staten Island</td>\n",
       "      <td>POLYGON ((-74.17422 40.56257, -74.17349 40.562...</td>\n",
       "    </tr>\n",
       "    <tr>\n",
       "      <th>...</th>\n",
       "      <td>...</td>\n",
       "      <td>...</td>\n",
       "      <td>...</td>\n",
       "      <td>...</td>\n",
       "      <td>...</td>\n",
       "      <td>...</td>\n",
       "    </tr>\n",
       "    <tr>\n",
       "      <th>259</th>\n",
       "      <td>0.126750</td>\n",
       "      <td>0.000395</td>\n",
       "      <td>Woodlawn/Wakefield</td>\n",
       "      <td>259</td>\n",
       "      <td>Bronx</td>\n",
       "      <td>POLYGON ((-73.85107 40.91037, -73.85207 40.909...</td>\n",
       "    </tr>\n",
       "    <tr>\n",
       "      <th>260</th>\n",
       "      <td>0.133514</td>\n",
       "      <td>0.000422</td>\n",
       "      <td>Woodside</td>\n",
       "      <td>260</td>\n",
       "      <td>Queens</td>\n",
       "      <td>POLYGON ((-73.90175 40.76078, -73.90147 40.759...</td>\n",
       "    </tr>\n",
       "    <tr>\n",
       "      <th>261</th>\n",
       "      <td>0.027120</td>\n",
       "      <td>0.000034</td>\n",
       "      <td>World Trade Center</td>\n",
       "      <td>261</td>\n",
       "      <td>Manhattan</td>\n",
       "      <td>POLYGON ((-74.01333 40.70503, -74.01327 40.704...</td>\n",
       "    </tr>\n",
       "    <tr>\n",
       "      <th>262</th>\n",
       "      <td>0.049064</td>\n",
       "      <td>0.000122</td>\n",
       "      <td>Yorkville East</td>\n",
       "      <td>262</td>\n",
       "      <td>Manhattan</td>\n",
       "      <td>MULTIPOLYGON (((-73.94383 40.78286, -73.94376 ...</td>\n",
       "    </tr>\n",
       "    <tr>\n",
       "      <th>263</th>\n",
       "      <td>0.037017</td>\n",
       "      <td>0.000066</td>\n",
       "      <td>Yorkville West</td>\n",
       "      <td>263</td>\n",
       "      <td>Manhattan</td>\n",
       "      <td>POLYGON ((-73.95219 40.77302, -73.95269 40.772...</td>\n",
       "    </tr>\n",
       "  </tbody>\n",
       "</table>\n",
       "<p>263 rows × 6 columns</p>\n",
       "</div>"
      ],
      "text/plain": [
       "            Shape_Leng  Shape_Area                     zone  LocationID  \\\n",
       "LocationID                                                                \n",
       "1             0.116357    0.000782           Newark Airport           1   \n",
       "2             0.433470    0.004866              Jamaica Bay           2   \n",
       "3             0.084341    0.000314  Allerton/Pelham Gardens           3   \n",
       "4             0.043567    0.000112            Alphabet City           4   \n",
       "5             0.092146    0.000498            Arden Heights           5   \n",
       "...                ...         ...                      ...         ...   \n",
       "259           0.126750    0.000395       Woodlawn/Wakefield         259   \n",
       "260           0.133514    0.000422                 Woodside         260   \n",
       "261           0.027120    0.000034       World Trade Center         261   \n",
       "262           0.049064    0.000122           Yorkville East         262   \n",
       "263           0.037017    0.000066           Yorkville West         263   \n",
       "\n",
       "                  borough                                           geometry  \n",
       "LocationID                                                                    \n",
       "1                     EWR  POLYGON ((-74.18445 40.69500, -74.18449 40.695...  \n",
       "2                  Queens  MULTIPOLYGON (((-73.82338 40.63899, -73.82277 ...  \n",
       "3                   Bronx  POLYGON ((-73.84793 40.87134, -73.84725 40.870...  \n",
       "4               Manhattan  POLYGON ((-73.97177 40.72582, -73.97179 40.725...  \n",
       "5           Staten Island  POLYGON ((-74.17422 40.56257, -74.17349 40.562...  \n",
       "...                   ...                                                ...  \n",
       "259                 Bronx  POLYGON ((-73.85107 40.91037, -73.85207 40.909...  \n",
       "260                Queens  POLYGON ((-73.90175 40.76078, -73.90147 40.759...  \n",
       "261             Manhattan  POLYGON ((-74.01333 40.70503, -74.01327 40.704...  \n",
       "262             Manhattan  MULTIPOLYGON (((-73.94383 40.78286, -73.94376 ...  \n",
       "263             Manhattan  POLYGON ((-73.95219 40.77302, -73.95269 40.772...  \n",
       "\n",
       "[263 rows x 6 columns]"
      ]
     },
     "execution_count": 75,
     "metadata": {
      "tags": []
     },
     "output_type": "execute_result"
    }
   ],
   "source": [
    "zone_polgns_gdf"
   ]
  },
  {
   "cell_type": "markdown",
   "metadata": {
    "id": "6nDXs8PJ6SAb"
   },
   "source": [
    "## Mean fare /zone"
   ]
  },
  {
   "cell_type": "code",
   "execution_count": null,
   "metadata": {
    "id": "6wzwWJne6SAb"
   },
   "outputs": [],
   "source": [
    "zones_geo_JSON = zone_polgns_gdf[['LocationID', 'geometry']].drop_duplicates('LocationID').to_json()"
   ]
  },
  {
   "cell_type": "code",
   "execution_count": null,
   "metadata": {
    "id": "m2oDi9UI6SAc",
    "scrolled": true
   },
   "outputs": [],
   "source": [
    "zone_mean_fare_df = yellow_19_df.loc['Jan'].groupby('PULocationID').agg(avg_fare=('fare_amount', 'mean'))\n",
    "zone_mean_fare_df = zone_mean_fare_df.reset_index()\n",
    "zone_mean_fare_df"
   ]
  },
  {
   "cell_type": "code",
   "execution_count": null,
   "metadata": {
    "id": "u2fHJNzJ6SAc"
   },
   "outputs": [],
   "source": [
    "nyc_yellow_zone_avg_fare_gdf = (\n",
    "    gpd.GeoDataFrame(\n",
    "        pd.merge(\n",
    "            zone_mean_fare_df, zone_polgns_gdf, left_on='PULocationID', right_on='LocationID' )\n",
    "    ).drop('LocationID', axis=1)\n",
    ")\n",
    "nyc_yellow_zone_avg_fare_gdf['log_avg_fare'] = nyc_yellow_zone_avg_fare_gdf['avg_fare'].apply(logify)\n",
    "nyc_yellow_zone_avg_fare_gdf"
   ]
  },
  {
   "cell_type": "markdown",
   "metadata": {
    "id": "r5STUsVR6SAd"
   },
   "source": [
    "Create a new folium Map"
   ]
  },
  {
   "cell_type": "code",
   "execution_count": null,
   "metadata": {
    "id": "xLq1tkL76SAd"
   },
   "outputs": [],
   "source": [
    "nyc = folium.Map(location=(40.66, -73.94), tiles=\"Stamen Terrain\", zoom_start=10)\n",
    "folium.TileLayer('CartoDB positron',name=\"Light Map\",control=False).add_to(nyc)"
   ]
  },
  {
   "cell_type": "code",
   "execution_count": null,
   "metadata": {
    "id": "5zYWrc506SAe",
    "scrolled": false
   },
   "outputs": [],
   "source": [
    "folium.Choropleth(\n",
    "    geo_data=zones_geo_JSON,\n",
    "    name='Average Fare',\n",
    "    data=nyc_yellow_zone_avg_fare_gdf,\n",
    "    columns=['PULocationID', 'avg_fare'],\n",
    "    key_on='feature.properties.LocationID',\n",
    "    legend_name='Average fare by pickup zone',\n",
    "    fill_opacity=0.8,\n",
    "    line_opacity=0.1,\n",
    "    highlight=True\n",
    ").add_to(nyc)\n",
    "\n",
    "style_func = lambda x: {\n",
    "    'fillColor': '#ffffff',\n",
    "    'color': '#000000',\n",
    "    'fillOpacity': 0.1,\n",
    "    'weight': 0.1\n",
    "}\n",
    "\n",
    "ZoneName = folium.features.GeoJson(\n",
    "    nyc_yellow_zone_avg_fare_gdf,\n",
    "    style_function=style_func,\n",
    "    control=False, \n",
    "    tooltip=folium.features.GeoJsonTooltip(\n",
    "        fields=[\n",
    "            'zone', \n",
    "            'PULocationID',\n",
    "            'borough',\n",
    "            'avg_fare'\n",
    "        ],\n",
    "        aliases=[\n",
    "            'Zone Name:',\n",
    "            'LocationID:',\n",
    "            'Borough:',\n",
    "            'Average fare:'\n",
    "        ],\n",
    "        style=(\"background-color: white; color: #333333; font-family: arial; font-size: 12px; padding: 10px;\")\n",
    "    )\n",
    ")\n",
    "nyc.add_child(ZoneName)\n",
    "nyc.keep_in_front(ZoneName)\n",
    "folium.LayerControl().add_to(nyc)"
   ]
  },
  {
   "cell_type": "markdown",
   "metadata": {
    "id": "T4KSFSsU6SAf"
   },
   "source": [
    "# Market dominance"
   ]
  },
  {
   "cell_type": "code",
   "execution_count": null,
   "metadata": {
    "id": "OuYgTKnH6SAf"
   },
   "outputs": [],
   "source": [
    "# tlc_19 = pd.concat([\n",
    "#     fhvhv_19_df.reset_index(),\n",
    "#     nyc_taxi_df\n",
    "# ], axis=0, join='inner')\n",
    "\n",
    "tlc_19.company = tlc_19.company.astype(COMPANY_CATS)"
   ]
  },
  {
   "cell_type": "code",
   "execution_count": null,
   "metadata": {
    "id": "P_90sXrU6SAg",
    "outputId": "bf20240d-f90a-4071-95ea-c7e64855e8c9"
   },
   "outputs": [
    {
     "ename": "KeyError",
     "evalue": "\"None of ['idx'] are in the columns\"",
     "output_type": "error",
     "traceback": [
      "\u001b[0;31m---------------------------------------------------------------------------\u001b[0m",
      "\u001b[0;31mKeyError\u001b[0m                                  Traceback (most recent call last)",
      "\u001b[0;32m<ipython-input-30-ded387b5baa5>\u001b[0m in \u001b[0;36m<module>\u001b[0;34m\u001b[0m\n\u001b[1;32m      1\u001b[0m \u001b[0mtlc_19\u001b[0m \u001b[0;34m=\u001b[0m \u001b[0mtlc_19\u001b[0m\u001b[0;34m.\u001b[0m\u001b[0mrename_axis\u001b[0m\u001b[0;34m(\u001b[0m\u001b[0mindex\u001b[0m\u001b[0;34m=\u001b[0m\u001b[0;34m[\u001b[0m\u001b[0;34m'idx'\u001b[0m\u001b[0;34m]\u001b[0m\u001b[0;34m)\u001b[0m\u001b[0;34m\u001b[0m\u001b[0;34m\u001b[0m\u001b[0m\n\u001b[0;32m----> 2\u001b[0;31m \u001b[0mtlc_19\u001b[0m \u001b[0;34m=\u001b[0m \u001b[0mtlc_19\u001b[0m\u001b[0;34m.\u001b[0m\u001b[0mset_index\u001b[0m\u001b[0;34m(\u001b[0m\u001b[0;34m[\u001b[0m\u001b[0;34m'month'\u001b[0m\u001b[0;34m,\u001b[0m \u001b[0;34m'idx'\u001b[0m\u001b[0;34m]\u001b[0m\u001b[0;34m)\u001b[0m\u001b[0;34m\u001b[0m\u001b[0;34m\u001b[0m\u001b[0m\n\u001b[0m",
      "\u001b[0;32m~/.local/lib/python3.6/site-packages/pandas/core/frame.py\u001b[0m in \u001b[0;36mset_index\u001b[0;34m(self, keys, drop, append, inplace, verify_integrity)\u001b[0m\n\u001b[1;32m   4548\u001b[0m \u001b[0;34m\u001b[0m\u001b[0m\n\u001b[1;32m   4549\u001b[0m         \u001b[0;32mif\u001b[0m \u001b[0mmissing\u001b[0m\u001b[0;34m:\u001b[0m\u001b[0;34m\u001b[0m\u001b[0;34m\u001b[0m\u001b[0m\n\u001b[0;32m-> 4550\u001b[0;31m             \u001b[0;32mraise\u001b[0m \u001b[0mKeyError\u001b[0m\u001b[0;34m(\u001b[0m\u001b[0;34mf\"None of {missing} are in the columns\"\u001b[0m\u001b[0;34m)\u001b[0m\u001b[0;34m\u001b[0m\u001b[0;34m\u001b[0m\u001b[0m\n\u001b[0m\u001b[1;32m   4551\u001b[0m \u001b[0;34m\u001b[0m\u001b[0m\n\u001b[1;32m   4552\u001b[0m         \u001b[0;32mif\u001b[0m \u001b[0minplace\u001b[0m\u001b[0;34m:\u001b[0m\u001b[0;34m\u001b[0m\u001b[0;34m\u001b[0m\u001b[0m\n",
      "\u001b[0;31mKeyError\u001b[0m: \"None of ['idx'] are in the columns\""
     ]
    }
   ],
   "source": [
    "tlc_19 = tlc_19.rename_axis(index=['idx'])\n",
    "tlc_19 = tlc_19.set_index(['month', 'idx'])"
   ]
  },
  {
   "cell_type": "code",
   "execution_count": null,
   "metadata": {
    "id": "fzs5NKq36SAg"
   },
   "outputs": [],
   "source": [
    "num_pickups_by_location_company_df = tlc_19.reset_index().groupby(['PULocationID', 'company']).agg(trip_count=('company', 'count'))\n",
    "\n",
    "zone_pickup_dominant_company_df = (num_pickups_by_location_company_df\n",
    "                                  .iloc[\n",
    "                                      num_pickups_by_location_company_df\n",
    "                                      .reset_index()\n",
    "                                      .reset_index()\n",
    "                                      .groupby(['PULocationID'])\n",
    "                                      .trip_count\n",
    "                                      .idxmax()\n",
    "                                      .values\n",
    "                                  ]\n",
    "                                 )\n",
    "zone_pickup_dominant_company_df = (zone_pickup_dominant_company_df\n",
    "                                   .reset_index()\n",
    "                                   .drop('index', axis=1, errors='ignore')\n",
    "                                   .set_index(['PULocationID']))\n",
    "zone_pickup_dominant_company_df.index = zone_pickup_dominant_company_df.index.rename('LocationID')\n",
    "\n",
    "zone_pickup_dominant_company_gdf = (\n",
    "    gpd.GeoDataFrame(\n",
    "        zone_pickup_dominant_company_df.merge(zone_polgns_gdf, on='LocationID')\n",
    "    )\n",
    ")\n",
    "\n",
    "zone_pickup_dominant_company_gdf = zone_pickup_dominant_company_gdf.reset_index().set_index('LocationID')"
   ]
  },
  {
   "cell_type": "code",
   "execution_count": null,
   "metadata": {
    "id": "aKkjzINV6SAh"
   },
   "outputs": [],
   "source": [
    "zone_pickup_dominant_company_gdf.reset_index(inplace=True)"
   ]
  },
  {
   "cell_type": "code",
   "execution_count": null,
   "metadata": {
    "id": "OpJbSbCZ6SAi"
   },
   "outputs": [],
   "source": [
    "zone_pickup_dominant_company_gdf.set_index('LocationID', drop=False, inplace=True)"
   ]
  },
  {
   "cell_type": "code",
   "execution_count": null,
   "metadata": {
    "id": "XLU3KMvI6SAj"
   },
   "outputs": [],
   "source": [
    "marketshare_2019 = folium.Map(location=(40.66, -73.94), tiles=\"Stamen Terrain\", zoom_start=10)\n",
    "folium.TileLayer('CartoDB positron',name=\"Light Map\",control=False).add_to(marketshare_2019)\n",
    "\n",
    "uber_colorscale = LinearColormap(\n",
    "    ['#000000', '#323232', '#646464', '#959595', '#C7C7C7'],\n",
    "    vmin=0, vmax=4000000\n",
    ") \n",
    "lyft_colorscale = LinearColormap(\n",
    "    ['#521180', '#7D0D90', '#A909A0', '#D404AF', '#FF00BF'], \n",
    "    vmin=0, vmax=4000000\n",
    ")\n",
    "via_colorscale = LinearColormap(\n",
    "    ['#00316E', '#00538D', '#0074AB', '#0096CA', '#00B7E8'], \n",
    "    vmin=0, vmax=4000000\n",
    ")\n",
    "yellow_taxi_colorscale = LinearColormap(\n",
    "    ['#B52700', '#C74F10', '#DA7720', '#EC9E2F', '#FEC63F'], \n",
    "    vmin=0, vmax=4000000\n",
    ")\n",
    "green_apple_colorscale= LinearColormap(\n",
    "    ['#004A13', '#23770E', '#46A50A', '#69D205', '#8CFF00'], \n",
    "    vmin=0, vmax=4000000\n",
    ")\n",
    "\n",
    "colorscales = {\n",
    "    'Uber': uber_colorscale,\n",
    "    'Lyft': lyft_colorscale,\n",
    "    'Via': via_colorscale,\n",
    "    'Yellow': yellow_taxi_colorscale,\n",
    "    'Green': green_apple_colorscale\n",
    "}\n",
    "\n",
    "for name, colorscale in colorscales.items():\n",
    "    colorscale.caption = f'Number of trips by {name} taxi'\n",
    "    colorscale.to_step(index=range(0, 4000000, 800000))\n",
    "    colorscale.add_to(marketshare_2019)\n",
    "\n",
    "def get_color(zone):\n",
    "    try: \n",
    "        cell = company_agg_pickups_by_zone_df.loc[zone]\n",
    "        company = cell.company\n",
    "        value = cell.trip_count\n",
    "        colorscale = colorscales[company]\n",
    "        return colorscale.rgb_hex_str(value)\n",
    "    except:\n",
    "        return 'Red'\n",
    "\n",
    "folium.GeoJson(\n",
    "    data='./Data/Borough Boundaries.geojson',\n",
    "    name='Borough Boundaries',\n",
    "    control=False,\n",
    "    style_function=lambda features: {\n",
    "        'weight': 1.5,\n",
    "        'opacity': 0.8,\n",
    "        'color': 'yellow',\n",
    "        'fillOpacity': 0\n",
    "    }\n",
    ").add_to(marketshare_2019)\n",
    "\n",
    "choropleth = folium.GeoJson(\n",
    "    data=zone_pickup_dominant_company_gdf.drop('centroid', axis=1, errors='ignore'),\n",
    "    name='Market domination',\n",
    "    style_function=lambda features: {\n",
    "        'fillColor' : get_color(features['properties']['LocationID']),\n",
    "        'fillOpacity' : 0.7,\n",
    "        'color': 'grey',\n",
    "        'weight': 0.5\n",
    "    },\n",
    "    control=True, \n",
    "    tooltip=folium.features.GeoJsonTooltip(\n",
    "        fields=[\n",
    "            'zone', \n",
    "            'LocationID',\n",
    "            'borough',\n",
    "            'company',\n",
    "            'trip_count'\n",
    "        ],\n",
    "        aliases=[\n",
    "            'Zone Name:',\n",
    "            'LocationID:',\n",
    "            'Borough:',\n",
    "            'Dominant player:',\n",
    "            'Trip count:'\n",
    "        ],\n",
    "        style=(\"background-color: white; color: #333333; font-family: arial; font-size: 12px; padding: 10px;\")\n",
    "    )\n",
    ").add_to(marketshare_2019)\n",
    "\n",
    "folium.GeoJson(\n",
    "    data='./Data/Subway Lines.geojson',\n",
    "    name='NY Subway Lines',\n",
    "    style_function=lambda features: {\n",
    "        'weight': 0.5,\n",
    "        'color': 'red',\n",
    "        'opacity': 0.5\n",
    "    }\n",
    ").add_to(marketshare_2019)\n",
    "\n",
    "folium.LayerControl().add_to(marketshare_2019)\n",
    "\n",
    "marketshare_2019.save(\"marketshare_2019.html\")"
   ]
  },
  {
   "cell_type": "markdown",
   "metadata": {
    "id": "9C4X6z-W6SAk"
   },
   "source": [
    "# JFK Travel time"
   ]
  },
  {
   "cell_type": "markdown",
   "metadata": {
    "id": "EOPcFvGw6SAk"
   },
   "source": [
    "## JFK from anywhere"
   ]
  },
  {
   "cell_type": "code",
   "execution_count": null,
   "metadata": {
    "id": "q5QmXh1-6SAk",
    "outputId": "a2e8da6a-34f4-4dd2-8160-6931178c3c77"
   },
   "outputs": [
    {
     "name": "stderr",
     "output_type": "stream",
     "text": [
      "/home/student.unimelb.edu.au/daniely/.local/lib/python3.6/site-packages/pandas/core/generic.py:5165: SettingWithCopyWarning: \n",
      "A value is trying to be set on a copy of a slice from a DataFrame.\n",
      "Try using .loc[row_indexer,col_indexer] = value instead\n",
      "\n",
      "See the caveats in the documentation: https://pandas.pydata.org/pandas-docs/stable/user_guide/indexing.html#returning-a-view-versus-a-copy\n",
      "  self[name] = value\n"
     ]
    }
   ],
   "source": [
    "tlc_to_JFK_df = tlc_19[tlc_19.DOLocationID==zone_polgns_gdf[zone_polgns_gdf.zone==\"JFK Airport\"].index.ravel()[0]]\n",
    "\n",
    "tlc_to_JFK_df.trip_duration = tlc_to_JFK_df.trip_duration / np.timedelta64(1, 'm')"
   ]
  },
  {
   "cell_type": "code",
   "execution_count": null,
   "metadata": {
    "id": "ChRX9kHb6SAl"
   },
   "outputs": [],
   "source": [
    "zone_to_JFK_mean_travel_df = tlc_to_JFK_df.groupby('PULocationID').agg(avg_duration=('trip_duration', 'mean'))"
   ]
  },
  {
   "cell_type": "code",
   "execution_count": null,
   "metadata": {
    "id": "mpC50E6K6SAm"
   },
   "outputs": [],
   "source": [
    "zone_to_JFK_mean_travel_df = (zone_to_JFK_mean_travel_df\n",
    "                              .reset_index()\n",
    "                              .drop('index', axis=1, errors='ignore')\n",
    "                              .rename(columns={'PULocationID': 'LocationID'}))"
   ]
  },
  {
   "cell_type": "code",
   "execution_count": null,
   "metadata": {
    "id": "Qnnw6ceG6SAn",
    "outputId": "c34e393b-345e-4d20-dc99-636acb2f496c"
   },
   "outputs": [
    {
     "data": {
      "text/html": [
       "<div>\n",
       "<style scoped>\n",
       "    .dataframe tbody tr th:only-of-type {\n",
       "        vertical-align: middle;\n",
       "    }\n",
       "\n",
       "    .dataframe tbody tr th {\n",
       "        vertical-align: top;\n",
       "    }\n",
       "\n",
       "    .dataframe thead th {\n",
       "        text-align: right;\n",
       "    }\n",
       "</style>\n",
       "<table border=\"1\" class=\"dataframe\">\n",
       "  <thead>\n",
       "    <tr style=\"text-align: right;\">\n",
       "      <th></th>\n",
       "      <th>LocationID</th>\n",
       "      <th>avg_duration</th>\n",
       "    </tr>\n",
       "  </thead>\n",
       "  <tbody>\n",
       "    <tr>\n",
       "      <th>0</th>\n",
       "      <td>1</td>\n",
       "      <td>72.158854</td>\n",
       "    </tr>\n",
       "    <tr>\n",
       "      <th>1</th>\n",
       "      <td>2</td>\n",
       "      <td>23.045513</td>\n",
       "    </tr>\n",
       "    <tr>\n",
       "      <th>2</th>\n",
       "      <td>3</td>\n",
       "      <td>38.656785</td>\n",
       "    </tr>\n",
       "    <tr>\n",
       "      <th>3</th>\n",
       "      <td>4</td>\n",
       "      <td>48.177171</td>\n",
       "    </tr>\n",
       "    <tr>\n",
       "      <th>4</th>\n",
       "      <td>5</td>\n",
       "      <td>59.381418</td>\n",
       "    </tr>\n",
       "    <tr>\n",
       "      <th>...</th>\n",
       "      <td>...</td>\n",
       "      <td>...</td>\n",
       "    </tr>\n",
       "    <tr>\n",
       "      <th>251</th>\n",
       "      <td>252</td>\n",
       "      <td>30.292406</td>\n",
       "    </tr>\n",
       "    <tr>\n",
       "      <th>252</th>\n",
       "      <td>253</td>\n",
       "      <td>31.961969</td>\n",
       "    </tr>\n",
       "    <tr>\n",
       "      <th>253</th>\n",
       "      <td>254</td>\n",
       "      <td>43.450061</td>\n",
       "    </tr>\n",
       "    <tr>\n",
       "      <th>254</th>\n",
       "      <td>255</td>\n",
       "      <td>44.107937</td>\n",
       "    </tr>\n",
       "    <tr>\n",
       "      <th>255</th>\n",
       "      <td>256</td>\n",
       "      <td>43.685641</td>\n",
       "    </tr>\n",
       "  </tbody>\n",
       "</table>\n",
       "<p>256 rows × 2 columns</p>\n",
       "</div>"
      ],
      "text/plain": [
       "    LocationID  avg_duration\n",
       "0            1     72.158854\n",
       "1            2     23.045513\n",
       "2            3     38.656785\n",
       "3            4     48.177171\n",
       "4            5     59.381418\n",
       "..         ...           ...\n",
       "251        252     30.292406\n",
       "252        253     31.961969\n",
       "253        254     43.450061\n",
       "254        255     44.107937\n",
       "255        256     43.685641\n",
       "\n",
       "[256 rows x 2 columns]"
      ]
     },
     "execution_count": 102,
     "metadata": {
      "tags": []
     },
     "output_type": "execute_result"
    }
   ],
   "source": [
    "zone_to_JFK_mean_travel_df"
   ]
  },
  {
   "cell_type": "code",
   "execution_count": null,
   "metadata": {
    "id": "LB-KKM-z6SAo"
   },
   "outputs": [],
   "source": [
    "zone_to_JFK_mean_travel_gdf = (\n",
    "    gpd.GeoDataFrame(\n",
    "        zone_to_JFK_mean_travel_df.merge(zone_polgns_gdf, left_index=True, right_index=True)\n",
    "    )\n",
    ")"
   ]
  },
  {
   "cell_type": "code",
   "execution_count": null,
   "metadata": {
    "id": "yLsf2trZ6SAp",
    "outputId": "4371a4a3-134a-4043-8591-015ec6a363a1"
   },
   "outputs": [
    {
     "data": {
      "text/html": [
       "<div>\n",
       "<style scoped>\n",
       "    .dataframe tbody tr th:only-of-type {\n",
       "        vertical-align: middle;\n",
       "    }\n",
       "\n",
       "    .dataframe tbody tr th {\n",
       "        vertical-align: top;\n",
       "    }\n",
       "\n",
       "    .dataframe thead th {\n",
       "        text-align: right;\n",
       "    }\n",
       "</style>\n",
       "<table border=\"1\" class=\"dataframe\">\n",
       "  <thead>\n",
       "    <tr style=\"text-align: right;\">\n",
       "      <th></th>\n",
       "      <th>avg_duration</th>\n",
       "      <th>Shape_Leng</th>\n",
       "      <th>Shape_Area</th>\n",
       "      <th>zone</th>\n",
       "      <th>LocationID</th>\n",
       "      <th>borough</th>\n",
       "      <th>geometry</th>\n",
       "    </tr>\n",
       "  </thead>\n",
       "  <tbody>\n",
       "    <tr>\n",
       "      <th>1</th>\n",
       "      <td>72.158854</td>\n",
       "      <td>0.116357</td>\n",
       "      <td>0.000782</td>\n",
       "      <td>Newark Airport</td>\n",
       "      <td>1</td>\n",
       "      <td>EWR</td>\n",
       "      <td>POLYGON ((-74.18445 40.69500, -74.18449 40.695...</td>\n",
       "    </tr>\n",
       "    <tr>\n",
       "      <th>2</th>\n",
       "      <td>23.045513</td>\n",
       "      <td>0.433470</td>\n",
       "      <td>0.004866</td>\n",
       "      <td>Jamaica Bay</td>\n",
       "      <td>2</td>\n",
       "      <td>Queens</td>\n",
       "      <td>MULTIPOLYGON (((-73.82338 40.63899, -73.82277 ...</td>\n",
       "    </tr>\n",
       "    <tr>\n",
       "      <th>3</th>\n",
       "      <td>38.656785</td>\n",
       "      <td>0.084341</td>\n",
       "      <td>0.000314</td>\n",
       "      <td>Allerton/Pelham Gardens</td>\n",
       "      <td>3</td>\n",
       "      <td>Bronx</td>\n",
       "      <td>POLYGON ((-73.84793 40.87134, -73.84725 40.870...</td>\n",
       "    </tr>\n",
       "    <tr>\n",
       "      <th>4</th>\n",
       "      <td>48.177171</td>\n",
       "      <td>0.043567</td>\n",
       "      <td>0.000112</td>\n",
       "      <td>Alphabet City</td>\n",
       "      <td>4</td>\n",
       "      <td>Manhattan</td>\n",
       "      <td>POLYGON ((-73.97177 40.72582, -73.97179 40.725...</td>\n",
       "    </tr>\n",
       "    <tr>\n",
       "      <th>5</th>\n",
       "      <td>59.381418</td>\n",
       "      <td>0.092146</td>\n",
       "      <td>0.000498</td>\n",
       "      <td>Arden Heights</td>\n",
       "      <td>5</td>\n",
       "      <td>Staten Island</td>\n",
       "      <td>POLYGON ((-74.17422 40.56257, -74.17349 40.562...</td>\n",
       "    </tr>\n",
       "    <tr>\n",
       "      <th>...</th>\n",
       "      <td>...</td>\n",
       "      <td>...</td>\n",
       "      <td>...</td>\n",
       "      <td>...</td>\n",
       "      <td>...</td>\n",
       "      <td>...</td>\n",
       "      <td>...</td>\n",
       "    </tr>\n",
       "    <tr>\n",
       "      <th>252</th>\n",
       "      <td>30.292406</td>\n",
       "      <td>0.158004</td>\n",
       "      <td>0.001025</td>\n",
       "      <td>Whitestone</td>\n",
       "      <td>252</td>\n",
       "      <td>Queens</td>\n",
       "      <td>POLYGON ((-73.82050 40.80101, -73.82040 40.800...</td>\n",
       "    </tr>\n",
       "    <tr>\n",
       "      <th>253</th>\n",
       "      <td>31.961969</td>\n",
       "      <td>0.036051</td>\n",
       "      <td>0.000078</td>\n",
       "      <td>Willets Point</td>\n",
       "      <td>253</td>\n",
       "      <td>Queens</td>\n",
       "      <td>POLYGON ((-73.83908 40.76526, -73.83790 40.764...</td>\n",
       "    </tr>\n",
       "    <tr>\n",
       "      <th>254</th>\n",
       "      <td>43.450061</td>\n",
       "      <td>0.085886</td>\n",
       "      <td>0.000360</td>\n",
       "      <td>Williamsbridge/Olinville</td>\n",
       "      <td>254</td>\n",
       "      <td>Bronx</td>\n",
       "      <td>POLYGON ((-73.85187 40.87906, -73.85138 40.878...</td>\n",
       "    </tr>\n",
       "    <tr>\n",
       "      <th>255</th>\n",
       "      <td>44.107937</td>\n",
       "      <td>0.062384</td>\n",
       "      <td>0.000172</td>\n",
       "      <td>Williamsburg (North Side)</td>\n",
       "      <td>255</td>\n",
       "      <td>Brooklyn</td>\n",
       "      <td>POLYGON ((-73.96176 40.72523, -73.96154 40.725...</td>\n",
       "    </tr>\n",
       "    <tr>\n",
       "      <th>256</th>\n",
       "      <td>43.685641</td>\n",
       "      <td>0.067915</td>\n",
       "      <td>0.000169</td>\n",
       "      <td>Williamsburg (South Side)</td>\n",
       "      <td>256</td>\n",
       "      <td>Brooklyn</td>\n",
       "      <td>POLYGON ((-73.95834 40.71331, -73.95681 40.712...</td>\n",
       "    </tr>\n",
       "  </tbody>\n",
       "</table>\n",
       "<p>256 rows × 7 columns</p>\n",
       "</div>"
      ],
      "text/plain": [
       "     avg_duration  Shape_Leng  Shape_Area                       zone  \\\n",
       "1       72.158854    0.116357    0.000782             Newark Airport   \n",
       "2       23.045513    0.433470    0.004866                Jamaica Bay   \n",
       "3       38.656785    0.084341    0.000314    Allerton/Pelham Gardens   \n",
       "4       48.177171    0.043567    0.000112              Alphabet City   \n",
       "5       59.381418    0.092146    0.000498              Arden Heights   \n",
       "..            ...         ...         ...                        ...   \n",
       "252     30.292406    0.158004    0.001025                 Whitestone   \n",
       "253     31.961969    0.036051    0.000078              Willets Point   \n",
       "254     43.450061    0.085886    0.000360   Williamsbridge/Olinville   \n",
       "255     44.107937    0.062384    0.000172  Williamsburg (North Side)   \n",
       "256     43.685641    0.067915    0.000169  Williamsburg (South Side)   \n",
       "\n",
       "     LocationID        borough  \\\n",
       "1             1            EWR   \n",
       "2             2         Queens   \n",
       "3             3          Bronx   \n",
       "4             4      Manhattan   \n",
       "5             5  Staten Island   \n",
       "..          ...            ...   \n",
       "252         252         Queens   \n",
       "253         253         Queens   \n",
       "254         254          Bronx   \n",
       "255         255       Brooklyn   \n",
       "256         256       Brooklyn   \n",
       "\n",
       "                                              geometry  \n",
       "1    POLYGON ((-74.18445 40.69500, -74.18449 40.695...  \n",
       "2    MULTIPOLYGON (((-73.82338 40.63899, -73.82277 ...  \n",
       "3    POLYGON ((-73.84793 40.87134, -73.84725 40.870...  \n",
       "4    POLYGON ((-73.97177 40.72582, -73.97179 40.725...  \n",
       "5    POLYGON ((-74.17422 40.56257, -74.17349 40.562...  \n",
       "..                                                 ...  \n",
       "252  POLYGON ((-73.82050 40.80101, -73.82040 40.800...  \n",
       "253  POLYGON ((-73.83908 40.76526, -73.83790 40.764...  \n",
       "254  POLYGON ((-73.85187 40.87906, -73.85138 40.878...  \n",
       "255  POLYGON ((-73.96176 40.72523, -73.96154 40.725...  \n",
       "256  POLYGON ((-73.95834 40.71331, -73.95681 40.712...  \n",
       "\n",
       "[256 rows x 7 columns]"
      ]
     },
     "execution_count": 108,
     "metadata": {
      "tags": []
     },
     "output_type": "execute_result"
    }
   ],
   "source": [
    "zone_to_JFK_mean_travel_gdf"
   ]
  },
  {
   "cell_type": "code",
   "execution_count": null,
   "metadata": {
    "id": "CzF7FJm06SAp",
    "outputId": "01e49030-40d1-4e05-86c0-505e52520792"
   },
   "outputs": [
    {
     "data": {
      "text/html": [
       "<div>\n",
       "<style scoped>\n",
       "    .dataframe tbody tr th:only-of-type {\n",
       "        vertical-align: middle;\n",
       "    }\n",
       "\n",
       "    .dataframe tbody tr th {\n",
       "        vertical-align: top;\n",
       "    }\n",
       "\n",
       "    .dataframe thead th {\n",
       "        text-align: right;\n",
       "    }\n",
       "</style>\n",
       "<table border=\"1\" class=\"dataframe\">\n",
       "  <thead>\n",
       "    <tr style=\"text-align: right;\">\n",
       "      <th></th>\n",
       "      <th>LocationID</th>\n",
       "      <th>avg_duration</th>\n",
       "    </tr>\n",
       "  </thead>\n",
       "  <tbody>\n",
       "    <tr>\n",
       "      <th>0</th>\n",
       "      <td>1</td>\n",
       "      <td>72.158854</td>\n",
       "    </tr>\n",
       "    <tr>\n",
       "      <th>1</th>\n",
       "      <td>2</td>\n",
       "      <td>23.045513</td>\n",
       "    </tr>\n",
       "    <tr>\n",
       "      <th>2</th>\n",
       "      <td>3</td>\n",
       "      <td>38.656785</td>\n",
       "    </tr>\n",
       "    <tr>\n",
       "      <th>3</th>\n",
       "      <td>4</td>\n",
       "      <td>48.177171</td>\n",
       "    </tr>\n",
       "    <tr>\n",
       "      <th>4</th>\n",
       "      <td>5</td>\n",
       "      <td>59.381418</td>\n",
       "    </tr>\n",
       "    <tr>\n",
       "      <th>...</th>\n",
       "      <td>...</td>\n",
       "      <td>...</td>\n",
       "    </tr>\n",
       "    <tr>\n",
       "      <th>251</th>\n",
       "      <td>252</td>\n",
       "      <td>30.292406</td>\n",
       "    </tr>\n",
       "    <tr>\n",
       "      <th>252</th>\n",
       "      <td>253</td>\n",
       "      <td>31.961969</td>\n",
       "    </tr>\n",
       "    <tr>\n",
       "      <th>253</th>\n",
       "      <td>254</td>\n",
       "      <td>43.450061</td>\n",
       "    </tr>\n",
       "    <tr>\n",
       "      <th>254</th>\n",
       "      <td>255</td>\n",
       "      <td>44.107937</td>\n",
       "    </tr>\n",
       "    <tr>\n",
       "      <th>255</th>\n",
       "      <td>256</td>\n",
       "      <td>43.685641</td>\n",
       "    </tr>\n",
       "  </tbody>\n",
       "</table>\n",
       "<p>256 rows × 2 columns</p>\n",
       "</div>"
      ],
      "text/plain": [
       "    LocationID  avg_duration\n",
       "0            1     72.158854\n",
       "1            2     23.045513\n",
       "2            3     38.656785\n",
       "3            4     48.177171\n",
       "4            5     59.381418\n",
       "..         ...           ...\n",
       "251        252     30.292406\n",
       "252        253     31.961969\n",
       "253        254     43.450061\n",
       "254        255     44.107937\n",
       "255        256     43.685641\n",
       "\n",
       "[256 rows x 2 columns]"
      ]
     },
     "execution_count": 122,
     "metadata": {
      "tags": []
     },
     "output_type": "execute_result"
    }
   ],
   "source": [
    "zone_to_JFK_mean_travel_df"
   ]
  },
  {
   "cell_type": "code",
   "execution_count": null,
   "metadata": {
    "id": "kmumU9Wk6SAq"
   },
   "outputs": [],
   "source": [
    "JFK_travel_time_map = folium.Map(location=(40.66, -73.94), tiles=\"Stamen Terrain\", zoom_start=10)\n",
    "folium.TileLayer('CartoDB positron',name=\"Light Map\",control=False).add_to(JFK_travel_time_map)\n",
    "\n",
    "\n",
    "folium.GeoJson(\n",
    "    data='./Data/Borough Boundaries.geojson',\n",
    "    name='Borough Boundaries',\n",
    "    control=False,\n",
    "    style_function=lambda features: {\n",
    "        'weight': 1.5,\n",
    "        'opacity': 0.8,\n",
    "        'color': 'yellow',\n",
    "        'fillOpacity': 0\n",
    "    }\n",
    ").add_to(JFK_travel_time_map)\n",
    "\n",
    "choropleth = folium.Choropleth(\n",
    "    geo_data=zone_to_JFK_mean_travel_gdf,\n",
    "    data=zone_to_JFK_mean_travel_df,\n",
    "    name='Mean travel time to JFK',\n",
    "    columns=['LocationID', 'avg_duration'],\n",
    "    key_on='feature.properties.LocationID',\n",
    "    \n",
    ").add_to(JFK_travel_time_map)\n",
    "\n",
    "folium.GeoJson(\n",
    "    data='./Data/Subway Lines.geojson',\n",
    "    name='NY Subway Lines',\n",
    "    style_function=lambda features: {\n",
    "        'weight': 0.5,\n",
    "        'color': 'red',\n",
    "        'opacity': 0.5\n",
    "    }\n",
    ").add_to(JFK_travel_time_map)\n",
    "\n",
    "folium.LayerControl().add_to(JFK_travel_time_map)\n",
    "\n",
    "JFK_travel_time_map.save(\"JFK_travel_time_map.html\")"
   ]
  },
  {
   "cell_type": "markdown",
   "metadata": {
    "id": "Wyl6LC0o6SAr"
   },
   "source": [
    "## JFK from Midtown"
   ]
  },
  {
   "cell_type": "code",
   "execution_count": null,
   "metadata": {
    "id": "58NdKu-Q6SAr",
    "outputId": "6aed8305-1155-48af-b724-04881afa8a1e"
   },
   "outputs": [
    {
     "ename": "NameError",
     "evalue": "name 'tlc_to_JFK_df' is not defined",
     "output_type": "error",
     "traceback": [
      "\u001b[0;31m---------------------------------------------------------------------------\u001b[0m",
      "\u001b[0;31mNameError\u001b[0m                                 Traceback (most recent call last)",
      "\u001b[0;32m<ipython-input-58-101d4c272ef0>\u001b[0m in \u001b[0;36m<module>\u001b[0;34m\u001b[0m\n\u001b[0;32m----> 1\u001b[0;31m tlc_midtown_to_JFK = (tlc_to_JFK_df[\n\u001b[0m\u001b[1;32m      2\u001b[0m     tlc_to_JFK_df.PULocationID.isin(\n\u001b[1;32m      3\u001b[0m         zone_polgns_gdf[\n\u001b[1;32m      4\u001b[0m             \u001b[0mzone_polgns_gdf\u001b[0m\u001b[0;34m.\u001b[0m\u001b[0mzone\u001b[0m\u001b[0;34m.\u001b[0m\u001b[0mstr\u001b[0m\u001b[0;34m.\u001b[0m\u001b[0mcontains\u001b[0m\u001b[0;34m(\u001b[0m\u001b[0;34m'Midtown'\u001b[0m\u001b[0;34m)\u001b[0m\u001b[0;34m\u001b[0m\u001b[0;34m\u001b[0m\u001b[0m\n\u001b[1;32m      5\u001b[0m         ].index\n",
      "\u001b[0;31mNameError\u001b[0m: name 'tlc_to_JFK_df' is not defined"
     ]
    }
   ],
   "source": [
    "tlc_midtown_to_JFK = (tlc_to_JFK_df[\n",
    "    tlc_to_JFK_df.PULocationID.isin(\n",
    "        zone_polgns_gdf[\n",
    "            zone_polgns_gdf.zone.str.contains('Midtown')\n",
    "        ].index\n",
    "    )\n",
    "])"
   ]
  },
  {
   "cell_type": "code",
   "execution_count": null,
   "metadata": {
    "id": "1jO89aNG6SAs",
    "outputId": "2585835f-cd59-4831-be58-1778bce5bb3c"
   },
   "outputs": [
    {
     "data": {
      "text/plain": [
       "count    395795.000000\n",
       "mean         54.579362\n",
       "std          55.808584\n",
       "min         -21.866667\n",
       "25%          38.466667\n",
       "50%          49.700000\n",
       "75%          63.833333\n",
       "max        1439.866667\n",
       "Name: trip_duration, dtype: float64"
      ]
     },
     "execution_count": 135,
     "metadata": {
      "tags": []
     },
     "output_type": "execute_result"
    }
   ],
   "source": [
    "tlc_midtown_to_JFK.trip_duration.describe()"
   ]
  },
  {
   "cell_type": "code",
   "execution_count": null,
   "metadata": {
    "id": "1yRZPECS6SAt",
    "outputId": "efbe5936-76cb-4f23-abaf-fae4ae67dc26"
   },
   "outputs": [
    {
     "name": "stderr",
     "output_type": "stream",
     "text": [
      "/home/student.unimelb.edu.au/daniely/.local/lib/python3.6/site-packages/seaborn/distributions.py:2163: UserWarning: `displot` is a figure-level function and does not accept the ax= paramter. You may wish to try histplot.\n",
      "  warnings.warn(msg, UserWarning)\n"
     ]
    },
    {
     "data": {
      "text/plain": [
       "Text(0.5, 17.200000000000003, 'Travel time')"
      ]
     },
     "execution_count": 102,
     "metadata": {
      "tags": []
     },
     "output_type": "execute_result"
    }
   ],
   "source": [
    "midtown_JFK_time_fig, midtown_JFK_time_ax = plt.subplots()\n",
    "sns.displot(\n",
    "    x='trip_duration',\n",
    "    data=tlc_midtown_to_JFK,\n",
    ")\n",
    "ax.set_title(\"Travel time Midtown Manhattan to JFK Airport \", fontsize='xx-large')\n",
    "ax.set_xlabel('Travel time')\n",
    "midtown_JFK_time_fig"
   ]
  },
  {
   "cell_type": "code",
   "execution_count": null,
   "metadata": {
    "id": "7GXlD24f6SAt"
   },
   "outputs": [],
   "source": []
  }
 ],
 "metadata": {
  "colab": {
   "name": "MAST30034Assignment1.ipynb",
   "provenance": []
  },
  "kernelspec": {
   "display_name": "Python 3",
   "language": "python",
   "name": "python3"
  },
  "language_info": {
   "codemirror_mode": {
    "name": "ipython",
    "version": 3
   },
   "file_extension": ".py",
   "mimetype": "text/x-python",
   "name": "python",
   "nbconvert_exporter": "python",
   "pygments_lexer": "ipython3",
   "version": "3.7.6"
  }
 },
 "nbformat": 4,
 "nbformat_minor": 1
}
